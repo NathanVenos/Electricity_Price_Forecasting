{
 "cells": [
  {
   "cell_type": "code",
   "execution_count": 1,
   "metadata": {
    "ExecuteTime": {
     "end_time": "2019-12-04T17:08:52.956794Z",
     "start_time": "2019-12-04T17:08:48.302929Z"
    }
   },
   "outputs": [],
   "source": [
    "import numpy as np\n",
    "import pandas as pd\n",
    "import matplotlib.pyplot as plt\n",
    "import seaborn as sns\n",
    "%matplotlib inline\n",
    "pd.set_option('display.max_rows', 500)\n",
    "pd.set_option('display.max_columns', 500)"
   ]
  },
  {
   "cell_type": "code",
   "execution_count": 2,
   "metadata": {
    "ExecuteTime": {
     "end_time": "2019-12-04T17:08:53.177792Z",
     "start_time": "2019-12-04T17:08:52.961795Z"
    }
   },
   "outputs": [],
   "source": [
    "# importing the historical day ahead and real time locational marginal prices\n",
    "# lmp2015 = pd.read_csv('data/rt_da_monthly_lmps_2015_PEPCO.csv')\n",
    "lmp2016 = pd.read_csv('data/rt_da_monthly_lmps_2016_PEPCO.csv')\n",
    "lmp2017 = pd.read_csv('data/rt_da_monthly_lmps_2017_PEPCO.csv')\n",
    "lmp2018 = pd.read_csv('data/rt_da_monthly_lmps_2018_PEPCO.csv')\n",
    "lmp2019 = pd.read_csv('data/rt_da_monthly_lmps_2019_PEPCO.csv')\n",
    "# settled_lmps = lmp2015.append(lmp2016)\n",
    "# settled_lmps = settled_lmps.append(lmp2017)\n",
    "settled_lmps = lmp2016.append(lmp2017)\n",
    "settled_lmps = settled_lmps.append(lmp2018)\n",
    "settled_lmps = settled_lmps.append(lmp2019)"
   ]
  },
  {
   "cell_type": "code",
   "execution_count": 3,
   "metadata": {
    "ExecuteTime": {
     "end_time": "2019-12-04T17:08:53.231796Z",
     "start_time": "2019-12-04T17:08:53.179797Z"
    }
   },
   "outputs": [
    {
     "name": "stdout",
     "output_type": "stream",
     "text": [
      "<class 'pandas.core.frame.DataFrame'>\n",
      "Int64Index: 33602 entries, 0 to 7294\n",
      "Data columns (total 16 columns):\n",
      "datetime_beginning_utc    33602 non-null object\n",
      "datetime_beginning_ept    33602 non-null object\n",
      "pnode_id                  33602 non-null int64\n",
      "pnode_name                33602 non-null object\n",
      "voltage                   0 non-null float64\n",
      "equipment                 0 non-null float64\n",
      "type                      33602 non-null object\n",
      "zone                      0 non-null float64\n",
      "system_energy_price_rt    33602 non-null float64\n",
      "total_lmp_rt              33602 non-null float64\n",
      "congestion_price_rt       33602 non-null float64\n",
      "marginal_loss_price_rt    33602 non-null float64\n",
      "system_energy_price_da    33602 non-null float64\n",
      "total_lmp_da              33602 non-null float64\n",
      "congestion_price_da       33602 non-null float64\n",
      "marginal_loss_price_da    33602 non-null float64\n",
      "dtypes: float64(11), int64(1), object(4)\n",
      "memory usage: 4.4+ MB\n"
     ]
    }
   ],
   "source": [
    "settled_lmps.info()"
   ]
  },
  {
   "cell_type": "code",
   "execution_count": 4,
   "metadata": {
    "ExecuteTime": {
     "end_time": "2019-12-04T17:08:53.248794Z",
     "start_time": "2019-12-04T17:08:53.234795Z"
    }
   },
   "outputs": [],
   "source": [
    "# removing unneccessary columns\n",
    "settled_lmps.drop(columns=['voltage',\n",
    "                           'equipment',\n",
    "                           'type',\n",
    "                           'zone'], inplace=True)"
   ]
  },
  {
   "cell_type": "code",
   "execution_count": 5,
   "metadata": {
    "ExecuteTime": {
     "end_time": "2019-12-04T17:08:53.284796Z",
     "start_time": "2019-12-04T17:08:53.252797Z"
    }
   },
   "outputs": [
    {
     "data": {
      "text/html": [
       "<div>\n",
       "<style scoped>\n",
       "    .dataframe tbody tr th:only-of-type {\n",
       "        vertical-align: middle;\n",
       "    }\n",
       "\n",
       "    .dataframe tbody tr th {\n",
       "        vertical-align: top;\n",
       "    }\n",
       "\n",
       "    .dataframe thead th {\n",
       "        text-align: right;\n",
       "    }\n",
       "</style>\n",
       "<table border=\"1\" class=\"dataframe\">\n",
       "  <thead>\n",
       "    <tr style=\"text-align: right;\">\n",
       "      <th></th>\n",
       "      <th>datetime_beginning_utc</th>\n",
       "      <th>datetime_beginning_ept</th>\n",
       "      <th>pnode_id</th>\n",
       "      <th>pnode_name</th>\n",
       "      <th>system_energy_price_rt</th>\n",
       "      <th>total_lmp_rt</th>\n",
       "      <th>congestion_price_rt</th>\n",
       "      <th>marginal_loss_price_rt</th>\n",
       "      <th>system_energy_price_da</th>\n",
       "      <th>total_lmp_da</th>\n",
       "      <th>congestion_price_da</th>\n",
       "      <th>marginal_loss_price_da</th>\n",
       "    </tr>\n",
       "  </thead>\n",
       "  <tbody>\n",
       "    <tr>\n",
       "      <th>0</th>\n",
       "      <td>1/1/2017 5:00:00 AM</td>\n",
       "      <td>1/1/2017 12:00:00 AM</td>\n",
       "      <td>51298</td>\n",
       "      <td>PEPCO</td>\n",
       "      <td>25.43</td>\n",
       "      <td>27.322355</td>\n",
       "      <td>1.107805</td>\n",
       "      <td>0.784549</td>\n",
       "      <td>25.02</td>\n",
       "      <td>27.364613</td>\n",
       "      <td>1.070623</td>\n",
       "      <td>1.273990</td>\n",
       "    </tr>\n",
       "    <tr>\n",
       "      <th>1</th>\n",
       "      <td>1/1/2017 4:00:00 AM</td>\n",
       "      <td>12/31/2016 11:00:00 PM</td>\n",
       "      <td>51298</td>\n",
       "      <td>PEPCO</td>\n",
       "      <td>24.64</td>\n",
       "      <td>25.486471</td>\n",
       "      <td>0.045640</td>\n",
       "      <td>0.800831</td>\n",
       "      <td>24.09</td>\n",
       "      <td>26.939663</td>\n",
       "      <td>1.802677</td>\n",
       "      <td>1.046986</td>\n",
       "    </tr>\n",
       "    <tr>\n",
       "      <th>2</th>\n",
       "      <td>1/1/2017 3:00:00 AM</td>\n",
       "      <td>12/31/2016 10:00:00 PM</td>\n",
       "      <td>51298</td>\n",
       "      <td>PEPCO</td>\n",
       "      <td>25.90</td>\n",
       "      <td>26.768067</td>\n",
       "      <td>0.053535</td>\n",
       "      <td>0.814532</td>\n",
       "      <td>25.78</td>\n",
       "      <td>28.021676</td>\n",
       "      <td>1.260243</td>\n",
       "      <td>0.981433</td>\n",
       "    </tr>\n",
       "    <tr>\n",
       "      <th>3</th>\n",
       "      <td>1/1/2017 2:00:00 AM</td>\n",
       "      <td>12/31/2016 9:00:00 PM</td>\n",
       "      <td>51298</td>\n",
       "      <td>PEPCO</td>\n",
       "      <td>26.08</td>\n",
       "      <td>26.946048</td>\n",
       "      <td>0.046858</td>\n",
       "      <td>0.819190</td>\n",
       "      <td>27.37</td>\n",
       "      <td>29.496542</td>\n",
       "      <td>1.140354</td>\n",
       "      <td>0.986188</td>\n",
       "    </tr>\n",
       "    <tr>\n",
       "      <th>4</th>\n",
       "      <td>1/1/2017 1:00:00 AM</td>\n",
       "      <td>12/31/2016 8:00:00 PM</td>\n",
       "      <td>51298</td>\n",
       "      <td>PEPCO</td>\n",
       "      <td>27.74</td>\n",
       "      <td>28.578787</td>\n",
       "      <td>0.024826</td>\n",
       "      <td>0.813961</td>\n",
       "      <td>28.58</td>\n",
       "      <td>30.734025</td>\n",
       "      <td>1.193828</td>\n",
       "      <td>0.960197</td>\n",
       "    </tr>\n",
       "  </tbody>\n",
       "</table>\n",
       "</div>"
      ],
      "text/plain": [
       "  datetime_beginning_utc  datetime_beginning_ept  pnode_id pnode_name  \\\n",
       "0    1/1/2017 5:00:00 AM    1/1/2017 12:00:00 AM     51298      PEPCO   \n",
       "1    1/1/2017 4:00:00 AM  12/31/2016 11:00:00 PM     51298      PEPCO   \n",
       "2    1/1/2017 3:00:00 AM  12/31/2016 10:00:00 PM     51298      PEPCO   \n",
       "3    1/1/2017 2:00:00 AM   12/31/2016 9:00:00 PM     51298      PEPCO   \n",
       "4    1/1/2017 1:00:00 AM   12/31/2016 8:00:00 PM     51298      PEPCO   \n",
       "\n",
       "   system_energy_price_rt  total_lmp_rt  congestion_price_rt  \\\n",
       "0                   25.43     27.322355             1.107805   \n",
       "1                   24.64     25.486471             0.045640   \n",
       "2                   25.90     26.768067             0.053535   \n",
       "3                   26.08     26.946048             0.046858   \n",
       "4                   27.74     28.578787             0.024826   \n",
       "\n",
       "   marginal_loss_price_rt  system_energy_price_da  total_lmp_da  \\\n",
       "0                0.784549                   25.02     27.364613   \n",
       "1                0.800831                   24.09     26.939663   \n",
       "2                0.814532                   25.78     28.021676   \n",
       "3                0.819190                   27.37     29.496542   \n",
       "4                0.813961                   28.58     30.734025   \n",
       "\n",
       "   congestion_price_da  marginal_loss_price_da  \n",
       "0             1.070623                1.273990  \n",
       "1             1.802677                1.046986  \n",
       "2             1.260243                0.981433  \n",
       "3             1.140354                0.986188  \n",
       "4             1.193828                0.960197  "
      ]
     },
     "execution_count": 5,
     "metadata": {},
     "output_type": "execute_result"
    }
   ],
   "source": [
    "settled_lmps.head()"
   ]
  },
  {
   "cell_type": "code",
   "execution_count": 6,
   "metadata": {
    "ExecuteTime": {
     "end_time": "2019-12-04T17:09:06.012353Z",
     "start_time": "2019-12-04T17:08:53.287797Z"
    }
   },
   "outputs": [],
   "source": [
    "# converting select columns to datetime\n",
    "settled_lmps['datetime_beginning_utc'] = pd.to_datetime(settled_lmps['datetime_beginning_utc'])\n",
    "settled_lmps['datetime_beginning_ept'] = pd.to_datetime(settled_lmps['datetime_beginning_ept'])"
   ]
  },
  {
   "cell_type": "code",
   "execution_count": 7,
   "metadata": {
    "ExecuteTime": {
     "end_time": "2019-12-04T17:09:06.106350Z",
     "start_time": "2019-12-04T17:09:06.035350Z"
    }
   },
   "outputs": [],
   "source": [
    "settled_lmps.drop_duplicates(inplace=True)"
   ]
  },
  {
   "cell_type": "code",
   "execution_count": 8,
   "metadata": {
    "ExecuteTime": {
     "end_time": "2019-12-04T17:09:06.166351Z",
     "start_time": "2019-12-04T17:09:06.140351Z"
    }
   },
   "outputs": [],
   "source": [
    "settled_lmps.sort_values(by='datetime_beginning_utc', inplace=True)\n",
    "settled_lmps.reset_index(drop=True, inplace=True)"
   ]
  },
  {
   "cell_type": "code",
   "execution_count": 9,
   "metadata": {
    "ExecuteTime": {
     "end_time": "2019-12-04T17:09:06.333353Z",
     "start_time": "2019-12-04T17:09:06.175354Z"
    }
   },
   "outputs": [
    {
     "data": {
      "text/html": [
       "<div>\n",
       "<style scoped>\n",
       "    .dataframe tbody tr th:only-of-type {\n",
       "        vertical-align: middle;\n",
       "    }\n",
       "\n",
       "    .dataframe tbody tr th {\n",
       "        vertical-align: top;\n",
       "    }\n",
       "\n",
       "    .dataframe thead th {\n",
       "        text-align: right;\n",
       "    }\n",
       "</style>\n",
       "<table border=\"1\" class=\"dataframe\">\n",
       "  <thead>\n",
       "    <tr style=\"text-align: right;\">\n",
       "      <th></th>\n",
       "      <th>datetime_beginning_utc</th>\n",
       "      <th>datetime_beginning_ept</th>\n",
       "      <th>pnode_id</th>\n",
       "      <th>pnode_name</th>\n",
       "      <th>system_energy_price_rt</th>\n",
       "      <th>total_lmp_rt</th>\n",
       "      <th>congestion_price_rt</th>\n",
       "      <th>marginal_loss_price_rt</th>\n",
       "      <th>system_energy_price_da</th>\n",
       "      <th>total_lmp_da</th>\n",
       "      <th>congestion_price_da</th>\n",
       "      <th>marginal_loss_price_da</th>\n",
       "    </tr>\n",
       "  </thead>\n",
       "  <tbody>\n",
       "    <tr>\n",
       "      <th>0</th>\n",
       "      <td>2016-01-01 05:00:00</td>\n",
       "      <td>2016-01-01 00:00:00</td>\n",
       "      <td>51298</td>\n",
       "      <td>PEPCO</td>\n",
       "      <td>19.360000</td>\n",
       "      <td>19.603853</td>\n",
       "      <td>0.040000</td>\n",
       "      <td>0.203853</td>\n",
       "      <td>20.32</td>\n",
       "      <td>20.996471</td>\n",
       "      <td>0.703161</td>\n",
       "      <td>-0.026690</td>\n",
       "    </tr>\n",
       "    <tr>\n",
       "      <th>1</th>\n",
       "      <td>2016-01-01 06:00:00</td>\n",
       "      <td>2016-01-01 01:00:00</td>\n",
       "      <td>51298</td>\n",
       "      <td>PEPCO</td>\n",
       "      <td>16.440000</td>\n",
       "      <td>16.727400</td>\n",
       "      <td>0.020000</td>\n",
       "      <td>0.267400</td>\n",
       "      <td>19.28</td>\n",
       "      <td>20.104409</td>\n",
       "      <td>0.857021</td>\n",
       "      <td>-0.032612</td>\n",
       "    </tr>\n",
       "    <tr>\n",
       "      <th>2</th>\n",
       "      <td>2016-01-01 07:00:00</td>\n",
       "      <td>2016-01-01 02:00:00</td>\n",
       "      <td>51298</td>\n",
       "      <td>PEPCO</td>\n",
       "      <td>14.210000</td>\n",
       "      <td>14.526689</td>\n",
       "      <td>0.070000</td>\n",
       "      <td>0.246689</td>\n",
       "      <td>17.07</td>\n",
       "      <td>17.944640</td>\n",
       "      <td>0.889730</td>\n",
       "      <td>-0.015090</td>\n",
       "    </tr>\n",
       "    <tr>\n",
       "      <th>3</th>\n",
       "      <td>2016-01-01 08:00:00</td>\n",
       "      <td>2016-01-01 03:00:00</td>\n",
       "      <td>51298</td>\n",
       "      <td>PEPCO</td>\n",
       "      <td>14.570000</td>\n",
       "      <td>15.547734</td>\n",
       "      <td>0.730859</td>\n",
       "      <td>0.246876</td>\n",
       "      <td>16.89</td>\n",
       "      <td>17.757075</td>\n",
       "      <td>0.890868</td>\n",
       "      <td>-0.023793</td>\n",
       "    </tr>\n",
       "    <tr>\n",
       "      <th>4</th>\n",
       "      <td>2016-01-01 09:00:00</td>\n",
       "      <td>2016-01-01 04:00:00</td>\n",
       "      <td>51298</td>\n",
       "      <td>PEPCO</td>\n",
       "      <td>15.100000</td>\n",
       "      <td>16.736856</td>\n",
       "      <td>1.386733</td>\n",
       "      <td>0.250123</td>\n",
       "      <td>17.37</td>\n",
       "      <td>18.446066</td>\n",
       "      <td>1.062460</td>\n",
       "      <td>0.013606</td>\n",
       "    </tr>\n",
       "    <tr>\n",
       "      <th>...</th>\n",
       "      <td>...</td>\n",
       "      <td>...</td>\n",
       "      <td>...</td>\n",
       "      <td>...</td>\n",
       "      <td>...</td>\n",
       "      <td>...</td>\n",
       "      <td>...</td>\n",
       "      <td>...</td>\n",
       "      <td>...</td>\n",
       "      <td>...</td>\n",
       "      <td>...</td>\n",
       "      <td>...</td>\n",
       "    </tr>\n",
       "    <tr>\n",
       "      <th>33594</th>\n",
       "      <td>2019-10-31 23:00:00</td>\n",
       "      <td>2019-10-31 19:00:00</td>\n",
       "      <td>51298</td>\n",
       "      <td>PEPCO</td>\n",
       "      <td>44.308333</td>\n",
       "      <td>64.620824</td>\n",
       "      <td>19.774818</td>\n",
       "      <td>0.537673</td>\n",
       "      <td>33.61</td>\n",
       "      <td>40.442592</td>\n",
       "      <td>6.693291</td>\n",
       "      <td>0.139301</td>\n",
       "    </tr>\n",
       "    <tr>\n",
       "      <th>33595</th>\n",
       "      <td>2019-11-01 00:00:00</td>\n",
       "      <td>2019-10-31 20:00:00</td>\n",
       "      <td>51298</td>\n",
       "      <td>PEPCO</td>\n",
       "      <td>34.110000</td>\n",
       "      <td>43.749605</td>\n",
       "      <td>9.315070</td>\n",
       "      <td>0.324535</td>\n",
       "      <td>33.52</td>\n",
       "      <td>39.750780</td>\n",
       "      <td>6.218231</td>\n",
       "      <td>0.012549</td>\n",
       "    </tr>\n",
       "    <tr>\n",
       "      <th>33596</th>\n",
       "      <td>2019-11-01 01:00:00</td>\n",
       "      <td>2019-10-31 21:00:00</td>\n",
       "      <td>51298</td>\n",
       "      <td>PEPCO</td>\n",
       "      <td>29.521667</td>\n",
       "      <td>35.694411</td>\n",
       "      <td>6.063727</td>\n",
       "      <td>0.109018</td>\n",
       "      <td>29.45</td>\n",
       "      <td>35.664129</td>\n",
       "      <td>6.358806</td>\n",
       "      <td>-0.144677</td>\n",
       "    </tr>\n",
       "    <tr>\n",
       "      <th>33597</th>\n",
       "      <td>2019-11-01 02:00:00</td>\n",
       "      <td>2019-10-31 22:00:00</td>\n",
       "      <td>51298</td>\n",
       "      <td>PEPCO</td>\n",
       "      <td>24.029167</td>\n",
       "      <td>27.566484</td>\n",
       "      <td>3.514332</td>\n",
       "      <td>0.022986</td>\n",
       "      <td>22.77</td>\n",
       "      <td>26.608556</td>\n",
       "      <td>3.866697</td>\n",
       "      <td>-0.028141</td>\n",
       "    </tr>\n",
       "    <tr>\n",
       "      <th>33598</th>\n",
       "      <td>2019-11-01 03:00:00</td>\n",
       "      <td>2019-10-31 23:00:00</td>\n",
       "      <td>51298</td>\n",
       "      <td>PEPCO</td>\n",
       "      <td>21.250000</td>\n",
       "      <td>23.295518</td>\n",
       "      <td>2.060602</td>\n",
       "      <td>-0.015084</td>\n",
       "      <td>20.97</td>\n",
       "      <td>23.900047</td>\n",
       "      <td>3.008257</td>\n",
       "      <td>-0.078210</td>\n",
       "    </tr>\n",
       "  </tbody>\n",
       "</table>\n",
       "<p>33599 rows × 12 columns</p>\n",
       "</div>"
      ],
      "text/plain": [
       "      datetime_beginning_utc datetime_beginning_ept  pnode_id pnode_name  \\\n",
       "0        2016-01-01 05:00:00    2016-01-01 00:00:00     51298      PEPCO   \n",
       "1        2016-01-01 06:00:00    2016-01-01 01:00:00     51298      PEPCO   \n",
       "2        2016-01-01 07:00:00    2016-01-01 02:00:00     51298      PEPCO   \n",
       "3        2016-01-01 08:00:00    2016-01-01 03:00:00     51298      PEPCO   \n",
       "4        2016-01-01 09:00:00    2016-01-01 04:00:00     51298      PEPCO   \n",
       "...                      ...                    ...       ...        ...   \n",
       "33594    2019-10-31 23:00:00    2019-10-31 19:00:00     51298      PEPCO   \n",
       "33595    2019-11-01 00:00:00    2019-10-31 20:00:00     51298      PEPCO   \n",
       "33596    2019-11-01 01:00:00    2019-10-31 21:00:00     51298      PEPCO   \n",
       "33597    2019-11-01 02:00:00    2019-10-31 22:00:00     51298      PEPCO   \n",
       "33598    2019-11-01 03:00:00    2019-10-31 23:00:00     51298      PEPCO   \n",
       "\n",
       "       system_energy_price_rt  total_lmp_rt  congestion_price_rt  \\\n",
       "0                   19.360000     19.603853             0.040000   \n",
       "1                   16.440000     16.727400             0.020000   \n",
       "2                   14.210000     14.526689             0.070000   \n",
       "3                   14.570000     15.547734             0.730859   \n",
       "4                   15.100000     16.736856             1.386733   \n",
       "...                       ...           ...                  ...   \n",
       "33594               44.308333     64.620824            19.774818   \n",
       "33595               34.110000     43.749605             9.315070   \n",
       "33596               29.521667     35.694411             6.063727   \n",
       "33597               24.029167     27.566484             3.514332   \n",
       "33598               21.250000     23.295518             2.060602   \n",
       "\n",
       "       marginal_loss_price_rt  system_energy_price_da  total_lmp_da  \\\n",
       "0                    0.203853                   20.32     20.996471   \n",
       "1                    0.267400                   19.28     20.104409   \n",
       "2                    0.246689                   17.07     17.944640   \n",
       "3                    0.246876                   16.89     17.757075   \n",
       "4                    0.250123                   17.37     18.446066   \n",
       "...                       ...                     ...           ...   \n",
       "33594                0.537673                   33.61     40.442592   \n",
       "33595                0.324535                   33.52     39.750780   \n",
       "33596                0.109018                   29.45     35.664129   \n",
       "33597                0.022986                   22.77     26.608556   \n",
       "33598               -0.015084                   20.97     23.900047   \n",
       "\n",
       "       congestion_price_da  marginal_loss_price_da  \n",
       "0                 0.703161               -0.026690  \n",
       "1                 0.857021               -0.032612  \n",
       "2                 0.889730               -0.015090  \n",
       "3                 0.890868               -0.023793  \n",
       "4                 1.062460                0.013606  \n",
       "...                    ...                     ...  \n",
       "33594             6.693291                0.139301  \n",
       "33595             6.218231                0.012549  \n",
       "33596             6.358806               -0.144677  \n",
       "33597             3.866697               -0.028141  \n",
       "33598             3.008257               -0.078210  \n",
       "\n",
       "[33599 rows x 12 columns]"
      ]
     },
     "execution_count": 9,
     "metadata": {},
     "output_type": "execute_result"
    }
   ],
   "source": [
    "settled_lmps"
   ]
  },
  {
   "cell_type": "code",
   "execution_count": 10,
   "metadata": {
    "ExecuteTime": {
     "end_time": "2019-12-04T17:09:06.371350Z",
     "start_time": "2019-12-04T17:09:06.339350Z"
    }
   },
   "outputs": [],
   "source": [
    "posted_rt_lmps = pd.read_csv('data/rt_hrl_lmps_11_2019_PEPCO.csv')\n",
    "posted_da_lmps = pd.read_csv('data/da_hrl_lmps_11_2019_PEPCO.csv')"
   ]
  },
  {
   "cell_type": "code",
   "execution_count": 11,
   "metadata": {
    "ExecuteTime": {
     "end_time": "2019-12-04T17:09:06.382351Z",
     "start_time": "2019-12-04T17:09:06.374350Z"
    }
   },
   "outputs": [],
   "source": [
    "posted_lmps = posted_rt_lmps.drop(columns=['voltage',\n",
    "                                           'equipment',\n",
    "                                           'type',\n",
    "                                           'zone',\n",
    "                                           'row_is_current',\n",
    "                                           'version_nbr'])"
   ]
  },
  {
   "cell_type": "code",
   "execution_count": 12,
   "metadata": {
    "ExecuteTime": {
     "end_time": "2019-12-04T17:09:06.418349Z",
     "start_time": "2019-12-04T17:09:06.386353Z"
    }
   },
   "outputs": [],
   "source": [
    "posted_lmps[['system_energy_price_da',\n",
    "             'total_lmp_da',\n",
    "             'congestion_price_da',\n",
    "             'marginal_loss_price_da']] = posted_da_lmps[['system_energy_price_da',\n",
    "                                                          'total_lmp_da',\n",
    "                                                          'congestion_price_da',\n",
    "                                                          'marginal_loss_price_da']]"
   ]
  },
  {
   "cell_type": "code",
   "execution_count": 13,
   "metadata": {
    "ExecuteTime": {
     "end_time": "2019-12-04T17:09:07.402352Z",
     "start_time": "2019-12-04T17:09:06.425360Z"
    }
   },
   "outputs": [],
   "source": [
    "posted_lmps['datetime_beginning_utc'] = pd.to_datetime(posted_lmps['datetime_beginning_utc'])\n",
    "posted_lmps['datetime_beginning_ept'] = pd.to_datetime(posted_lmps['datetime_beginning_ept'])"
   ]
  },
  {
   "cell_type": "code",
   "execution_count": 14,
   "metadata": {
    "ExecuteTime": {
     "end_time": "2019-12-04T17:09:07.441353Z",
     "start_time": "2019-12-04T17:09:07.414360Z"
    }
   },
   "outputs": [],
   "source": [
    "posted_lmps.drop_duplicates(inplace=True)"
   ]
  },
  {
   "cell_type": "code",
   "execution_count": 15,
   "metadata": {
    "ExecuteTime": {
     "end_time": "2019-12-04T17:09:07.481351Z",
     "start_time": "2019-12-04T17:09:07.451350Z"
    }
   },
   "outputs": [],
   "source": [
    "lmp_df = settled_lmps.append(posted_lmps)\n",
    "lmp_df.sort_values(by='datetime_beginning_utc', inplace=True)\n",
    "lmp_df.reset_index(drop=True, inplace=True)"
   ]
  },
  {
   "cell_type": "code",
   "execution_count": 16,
   "metadata": {
    "ExecuteTime": {
     "end_time": "2019-12-04T17:09:07.505352Z",
     "start_time": "2019-12-04T17:09:07.488348Z"
    }
   },
   "outputs": [],
   "source": [
    "lmp_df.index = lmp_df['datetime_beginning_utc']\n",
    "lmp_df.drop(columns='datetime_beginning_utc', inplace=True)"
   ]
  },
  {
   "cell_type": "code",
   "execution_count": 17,
   "metadata": {
    "ExecuteTime": {
     "end_time": "2019-12-04T17:09:07.571351Z",
     "start_time": "2019-12-04T17:09:07.511351Z"
    }
   },
   "outputs": [
    {
     "data": {
      "text/html": [
       "<div>\n",
       "<style scoped>\n",
       "    .dataframe tbody tr th:only-of-type {\n",
       "        vertical-align: middle;\n",
       "    }\n",
       "\n",
       "    .dataframe tbody tr th {\n",
       "        vertical-align: top;\n",
       "    }\n",
       "\n",
       "    .dataframe thead th {\n",
       "        text-align: right;\n",
       "    }\n",
       "</style>\n",
       "<table border=\"1\" class=\"dataframe\">\n",
       "  <thead>\n",
       "    <tr style=\"text-align: right;\">\n",
       "      <th></th>\n",
       "      <th>datetime_beginning_ept</th>\n",
       "      <th>pnode_id</th>\n",
       "      <th>pnode_name</th>\n",
       "      <th>system_energy_price_rt</th>\n",
       "      <th>total_lmp_rt</th>\n",
       "      <th>congestion_price_rt</th>\n",
       "      <th>marginal_loss_price_rt</th>\n",
       "      <th>system_energy_price_da</th>\n",
       "      <th>total_lmp_da</th>\n",
       "      <th>congestion_price_da</th>\n",
       "      <th>marginal_loss_price_da</th>\n",
       "    </tr>\n",
       "    <tr>\n",
       "      <th>datetime_beginning_utc</th>\n",
       "      <th></th>\n",
       "      <th></th>\n",
       "      <th></th>\n",
       "      <th></th>\n",
       "      <th></th>\n",
       "      <th></th>\n",
       "      <th></th>\n",
       "      <th></th>\n",
       "      <th></th>\n",
       "      <th></th>\n",
       "      <th></th>\n",
       "    </tr>\n",
       "  </thead>\n",
       "  <tbody>\n",
       "    <tr>\n",
       "      <th>2016-01-01 05:00:00</th>\n",
       "      <td>2016-01-01 00:00:00</td>\n",
       "      <td>51298</td>\n",
       "      <td>PEPCO</td>\n",
       "      <td>19.36</td>\n",
       "      <td>19.603853</td>\n",
       "      <td>0.040000</td>\n",
       "      <td>0.203853</td>\n",
       "      <td>20.32</td>\n",
       "      <td>20.996471</td>\n",
       "      <td>0.703161</td>\n",
       "      <td>-0.026690</td>\n",
       "    </tr>\n",
       "    <tr>\n",
       "      <th>2016-01-01 06:00:00</th>\n",
       "      <td>2016-01-01 01:00:00</td>\n",
       "      <td>51298</td>\n",
       "      <td>PEPCO</td>\n",
       "      <td>16.44</td>\n",
       "      <td>16.727400</td>\n",
       "      <td>0.020000</td>\n",
       "      <td>0.267400</td>\n",
       "      <td>19.28</td>\n",
       "      <td>20.104409</td>\n",
       "      <td>0.857021</td>\n",
       "      <td>-0.032612</td>\n",
       "    </tr>\n",
       "    <tr>\n",
       "      <th>2016-01-01 07:00:00</th>\n",
       "      <td>2016-01-01 02:00:00</td>\n",
       "      <td>51298</td>\n",
       "      <td>PEPCO</td>\n",
       "      <td>14.21</td>\n",
       "      <td>14.526689</td>\n",
       "      <td>0.070000</td>\n",
       "      <td>0.246689</td>\n",
       "      <td>17.07</td>\n",
       "      <td>17.944640</td>\n",
       "      <td>0.889730</td>\n",
       "      <td>-0.015090</td>\n",
       "    </tr>\n",
       "    <tr>\n",
       "      <th>2016-01-01 08:00:00</th>\n",
       "      <td>2016-01-01 03:00:00</td>\n",
       "      <td>51298</td>\n",
       "      <td>PEPCO</td>\n",
       "      <td>14.57</td>\n",
       "      <td>15.547734</td>\n",
       "      <td>0.730859</td>\n",
       "      <td>0.246876</td>\n",
       "      <td>16.89</td>\n",
       "      <td>17.757075</td>\n",
       "      <td>0.890868</td>\n",
       "      <td>-0.023793</td>\n",
       "    </tr>\n",
       "    <tr>\n",
       "      <th>2016-01-01 09:00:00</th>\n",
       "      <td>2016-01-01 04:00:00</td>\n",
       "      <td>51298</td>\n",
       "      <td>PEPCO</td>\n",
       "      <td>15.10</td>\n",
       "      <td>16.736856</td>\n",
       "      <td>1.386733</td>\n",
       "      <td>0.250123</td>\n",
       "      <td>17.37</td>\n",
       "      <td>18.446066</td>\n",
       "      <td>1.062460</td>\n",
       "      <td>0.013606</td>\n",
       "    </tr>\n",
       "  </tbody>\n",
       "</table>\n",
       "</div>"
      ],
      "text/plain": [
       "                       datetime_beginning_ept  pnode_id pnode_name  \\\n",
       "datetime_beginning_utc                                               \n",
       "2016-01-01 05:00:00       2016-01-01 00:00:00     51298      PEPCO   \n",
       "2016-01-01 06:00:00       2016-01-01 01:00:00     51298      PEPCO   \n",
       "2016-01-01 07:00:00       2016-01-01 02:00:00     51298      PEPCO   \n",
       "2016-01-01 08:00:00       2016-01-01 03:00:00     51298      PEPCO   \n",
       "2016-01-01 09:00:00       2016-01-01 04:00:00     51298      PEPCO   \n",
       "\n",
       "                        system_energy_price_rt  total_lmp_rt  \\\n",
       "datetime_beginning_utc                                         \n",
       "2016-01-01 05:00:00                      19.36     19.603853   \n",
       "2016-01-01 06:00:00                      16.44     16.727400   \n",
       "2016-01-01 07:00:00                      14.21     14.526689   \n",
       "2016-01-01 08:00:00                      14.57     15.547734   \n",
       "2016-01-01 09:00:00                      15.10     16.736856   \n",
       "\n",
       "                        congestion_price_rt  marginal_loss_price_rt  \\\n",
       "datetime_beginning_utc                                                \n",
       "2016-01-01 05:00:00                0.040000                0.203853   \n",
       "2016-01-01 06:00:00                0.020000                0.267400   \n",
       "2016-01-01 07:00:00                0.070000                0.246689   \n",
       "2016-01-01 08:00:00                0.730859                0.246876   \n",
       "2016-01-01 09:00:00                1.386733                0.250123   \n",
       "\n",
       "                        system_energy_price_da  total_lmp_da  \\\n",
       "datetime_beginning_utc                                         \n",
       "2016-01-01 05:00:00                      20.32     20.996471   \n",
       "2016-01-01 06:00:00                      19.28     20.104409   \n",
       "2016-01-01 07:00:00                      17.07     17.944640   \n",
       "2016-01-01 08:00:00                      16.89     17.757075   \n",
       "2016-01-01 09:00:00                      17.37     18.446066   \n",
       "\n",
       "                        congestion_price_da  marginal_loss_price_da  \n",
       "datetime_beginning_utc                                               \n",
       "2016-01-01 05:00:00                0.703161               -0.026690  \n",
       "2016-01-01 06:00:00                0.857021               -0.032612  \n",
       "2016-01-01 07:00:00                0.889730               -0.015090  \n",
       "2016-01-01 08:00:00                0.890868               -0.023793  \n",
       "2016-01-01 09:00:00                1.062460                0.013606  "
      ]
     },
     "execution_count": 17,
     "metadata": {},
     "output_type": "execute_result"
    }
   ],
   "source": [
    "lmp_df.head()"
   ]
  },
  {
   "cell_type": "code",
   "execution_count": 18,
   "metadata": {
    "ExecuteTime": {
     "end_time": "2019-12-04T17:09:07.623351Z",
     "start_time": "2019-12-04T17:09:07.578350Z"
    }
   },
   "outputs": [
    {
     "name": "stdout",
     "output_type": "stream",
     "text": [
      "<class 'pandas.core.frame.DataFrame'>\n",
      "DatetimeIndex: 34080 entries, 2016-01-01 05:00:00 to 2019-11-21 04:00:00\n",
      "Data columns (total 11 columns):\n",
      "datetime_beginning_ept    34080 non-null datetime64[ns]\n",
      "pnode_id                  34080 non-null int64\n",
      "pnode_name                34080 non-null object\n",
      "system_energy_price_rt    34080 non-null float64\n",
      "total_lmp_rt              34080 non-null float64\n",
      "congestion_price_rt       34080 non-null float64\n",
      "marginal_loss_price_rt    34080 non-null float64\n",
      "system_energy_price_da    34080 non-null float64\n",
      "total_lmp_da              34080 non-null float64\n",
      "congestion_price_da       34080 non-null float64\n",
      "marginal_loss_price_da    34080 non-null float64\n",
      "dtypes: datetime64[ns](1), float64(8), int64(1), object(1)\n",
      "memory usage: 3.1+ MB\n"
     ]
    }
   ],
   "source": [
    "lmp_df.info()"
   ]
  },
  {
   "cell_type": "code",
   "execution_count": 19,
   "metadata": {
    "ExecuteTime": {
     "end_time": "2019-12-04T17:09:08.016351Z",
     "start_time": "2019-12-04T17:09:07.630350Z"
    }
   },
   "outputs": [
    {
     "data": {
      "text/html": [
       "<div>\n",
       "<style scoped>\n",
       "    .dataframe tbody tr th:only-of-type {\n",
       "        vertical-align: middle;\n",
       "    }\n",
       "\n",
       "    .dataframe tbody tr th {\n",
       "        vertical-align: top;\n",
       "    }\n",
       "\n",
       "    .dataframe thead th {\n",
       "        text-align: right;\n",
       "    }\n",
       "</style>\n",
       "<table border=\"1\" class=\"dataframe\">\n",
       "  <thead>\n",
       "    <tr style=\"text-align: right;\">\n",
       "      <th></th>\n",
       "      <th>pnode_id</th>\n",
       "      <th>system_energy_price_rt</th>\n",
       "      <th>total_lmp_rt</th>\n",
       "      <th>congestion_price_rt</th>\n",
       "      <th>marginal_loss_price_rt</th>\n",
       "      <th>system_energy_price_da</th>\n",
       "      <th>total_lmp_da</th>\n",
       "      <th>congestion_price_da</th>\n",
       "      <th>marginal_loss_price_da</th>\n",
       "    </tr>\n",
       "  </thead>\n",
       "  <tbody>\n",
       "    <tr>\n",
       "      <th>count</th>\n",
       "      <td>34080.0</td>\n",
       "      <td>34080.000000</td>\n",
       "      <td>34080.000000</td>\n",
       "      <td>34080.000000</td>\n",
       "      <td>34080.000000</td>\n",
       "      <td>34080.000000</td>\n",
       "      <td>34080.000000</td>\n",
       "      <td>34080.000000</td>\n",
       "      <td>34080.000000</td>\n",
       "    </tr>\n",
       "    <tr>\n",
       "      <th>mean</th>\n",
       "      <td>51298.0</td>\n",
       "      <td>29.847666</td>\n",
       "      <td>33.005022</td>\n",
       "      <td>2.551362</td>\n",
       "      <td>0.606002</td>\n",
       "      <td>29.950235</td>\n",
       "      <td>33.461132</td>\n",
       "      <td>2.927821</td>\n",
       "      <td>0.583076</td>\n",
       "    </tr>\n",
       "    <tr>\n",
       "      <th>std</th>\n",
       "      <td>0.0</td>\n",
       "      <td>21.930728</td>\n",
       "      <td>28.101713</td>\n",
       "      <td>9.230076</td>\n",
       "      <td>0.840894</td>\n",
       "      <td>14.868830</td>\n",
       "      <td>18.109079</td>\n",
       "      <td>4.492250</td>\n",
       "      <td>0.619473</td>\n",
       "    </tr>\n",
       "    <tr>\n",
       "      <th>min</th>\n",
       "      <td>51298.0</td>\n",
       "      <td>-56.710000</td>\n",
       "      <td>-53.471480</td>\n",
       "      <td>-109.388085</td>\n",
       "      <td>-5.326984</td>\n",
       "      <td>2.270000</td>\n",
       "      <td>4.636074</td>\n",
       "      <td>-41.624613</td>\n",
       "      <td>-1.382850</td>\n",
       "    </tr>\n",
       "    <tr>\n",
       "      <th>25%</th>\n",
       "      <td>51298.0</td>\n",
       "      <td>21.180000</td>\n",
       "      <td>22.703391</td>\n",
       "      <td>0.000000</td>\n",
       "      <td>0.227115</td>\n",
       "      <td>22.020000</td>\n",
       "      <td>23.991502</td>\n",
       "      <td>0.510182</td>\n",
       "      <td>0.238615</td>\n",
       "    </tr>\n",
       "    <tr>\n",
       "      <th>50%</th>\n",
       "      <td>51298.0</td>\n",
       "      <td>24.960000</td>\n",
       "      <td>27.215821</td>\n",
       "      <td>0.276346</td>\n",
       "      <td>0.450049</td>\n",
       "      <td>26.790000</td>\n",
       "      <td>29.645120</td>\n",
       "      <td>1.780171</td>\n",
       "      <td>0.474784</td>\n",
       "    </tr>\n",
       "    <tr>\n",
       "      <th>75%</th>\n",
       "      <td>51298.0</td>\n",
       "      <td>31.508125</td>\n",
       "      <td>34.001831</td>\n",
       "      <td>2.986970</td>\n",
       "      <td>0.765767</td>\n",
       "      <td>33.970000</td>\n",
       "      <td>37.995880</td>\n",
       "      <td>3.870529</td>\n",
       "      <td>0.782814</td>\n",
       "    </tr>\n",
       "    <tr>\n",
       "      <th>max</th>\n",
       "      <td>51298.0</td>\n",
       "      <td>690.027500</td>\n",
       "      <td>953.119790</td>\n",
       "      <td>287.993853</td>\n",
       "      <td>27.531492</td>\n",
       "      <td>294.830000</td>\n",
       "      <td>385.995223</td>\n",
       "      <td>95.276622</td>\n",
       "      <td>11.172696</td>\n",
       "    </tr>\n",
       "  </tbody>\n",
       "</table>\n",
       "</div>"
      ],
      "text/plain": [
       "       pnode_id  system_energy_price_rt  total_lmp_rt  congestion_price_rt  \\\n",
       "count   34080.0            34080.000000  34080.000000         34080.000000   \n",
       "mean    51298.0               29.847666     33.005022             2.551362   \n",
       "std         0.0               21.930728     28.101713             9.230076   \n",
       "min     51298.0              -56.710000    -53.471480          -109.388085   \n",
       "25%     51298.0               21.180000     22.703391             0.000000   \n",
       "50%     51298.0               24.960000     27.215821             0.276346   \n",
       "75%     51298.0               31.508125     34.001831             2.986970   \n",
       "max     51298.0              690.027500    953.119790           287.993853   \n",
       "\n",
       "       marginal_loss_price_rt  system_energy_price_da  total_lmp_da  \\\n",
       "count            34080.000000            34080.000000  34080.000000   \n",
       "mean                 0.606002               29.950235     33.461132   \n",
       "std                  0.840894               14.868830     18.109079   \n",
       "min                 -5.326984                2.270000      4.636074   \n",
       "25%                  0.227115               22.020000     23.991502   \n",
       "50%                  0.450049               26.790000     29.645120   \n",
       "75%                  0.765767               33.970000     37.995880   \n",
       "max                 27.531492              294.830000    385.995223   \n",
       "\n",
       "       congestion_price_da  marginal_loss_price_da  \n",
       "count         34080.000000            34080.000000  \n",
       "mean              2.927821                0.583076  \n",
       "std               4.492250                0.619473  \n",
       "min             -41.624613               -1.382850  \n",
       "25%               0.510182                0.238615  \n",
       "50%               1.780171                0.474784  \n",
       "75%               3.870529                0.782814  \n",
       "max              95.276622               11.172696  "
      ]
     },
     "execution_count": 19,
     "metadata": {},
     "output_type": "execute_result"
    }
   ],
   "source": [
    "lmp_df.describe()"
   ]
  },
  {
   "cell_type": "code",
   "execution_count": 20,
   "metadata": {
    "ExecuteTime": {
     "end_time": "2019-12-04T17:09:09.493352Z",
     "start_time": "2019-12-04T17:09:08.021353Z"
    }
   },
   "outputs": [
    {
     "data": {
      "image/png": "[encoded data removed]",
      "text/plain": [
       "<Figure size 1080x576 with 1 Axes>"
      ]
     },
     "metadata": {
      "needs_background": "light"
     },
     "output_type": "display_data"
    }
   ],
   "source": [
    "lmp_df['total_lmp_da'].plot(style='.', figsize=(15,8), title=\"Pepco Node DA LMPs\");"
   ]
  },
  {
   "cell_type": "code",
   "execution_count": 21,
   "metadata": {
    "ExecuteTime": {
     "end_time": "2019-12-04T17:09:10.641354Z",
     "start_time": "2019-12-04T17:09:09.531351Z"
    }
   },
   "outputs": [
    {
     "data": {
      "image/png": "[encoded data removed]",
      "text/plain": [
       "<Figure size 1080x576 with 1 Axes>"
      ]
     },
     "metadata": {
      "needs_background": "light"
     },
     "output_type": "display_data"
    }
   ],
   "source": [
    "lmp_df['total_lmp_rt'].plot(style='.', figsize=(15,8), title=\"Pepco Node RT LMPs\");"
   ]
  },
  {
   "cell_type": "code",
   "execution_count": 22,
   "metadata": {
    "ExecuteTime": {
     "end_time": "2019-12-04T17:09:10.649350Z",
     "start_time": "2019-12-04T17:09:10.645355Z"
    }
   },
   "outputs": [],
   "source": [
    "# load data"
   ]
  },
  {
   "cell_type": "code",
   "execution_count": 23,
   "metadata": {
    "ExecuteTime": {
     "end_time": "2019-12-04T17:09:10.817349Z",
     "start_time": "2019-12-04T17:09:10.652352Z"
    }
   },
   "outputs": [],
   "source": [
    "# pepco_load_2015 = pd.read_csv('data/hrl_load_metered_2015_PEPCO.csv')\n",
    "pepco_load_2016 = pd.read_csv('data/hrl_load_metered_2016_PEPCO.csv')\n",
    "pepco_load_2017 = pd.read_csv('data/hrl_load_metered_2017_PEPCO.csv')\n",
    "pepco_load_2018 = pd.read_csv('data/hrl_load_metered_2018_PEPCO.csv')\n",
    "pepco_load_2019 = pd.read_csv('data/hrl_load_metered_2019_PEPCO.csv')\n",
    "# pepco_load = pepco_load_2015.append(pepco_load_2016)\n",
    "# pepco_load = pepco_load.append(pepco_load_2017)\n",
    "pepco_load = pepco_load_2016.append(pepco_load_2017)\n",
    "pepco_load = pepco_load.append(pepco_load_2018)\n",
    "pepco_load = pepco_load.append(pepco_load_2019)"
   ]
  },
  {
   "cell_type": "code",
   "execution_count": 24,
   "metadata": {
    "ExecuteTime": {
     "end_time": "2019-12-04T17:09:10.831351Z",
     "start_time": "2019-12-04T17:09:10.820352Z"
    }
   },
   "outputs": [],
   "source": [
    "pepco_load.rename({'mw': 'pepco_mw'}, axis=1, inplace=True)"
   ]
  },
  {
   "cell_type": "code",
   "execution_count": 25,
   "metadata": {
    "ExecuteTime": {
     "end_time": "2019-12-04T17:09:10.846352Z",
     "start_time": "2019-12-04T17:09:10.835355Z"
    }
   },
   "outputs": [],
   "source": [
    "pepco_load.drop(columns=['datetime_beginning_ept',\n",
    "                         'nerc_region',\n",
    "                         'mkt_region',\n",
    "                         'zone',\n",
    "                         'load_area',\n",
    "                         'is_verified'], inplace=True)"
   ]
  },
  {
   "cell_type": "code",
   "execution_count": 26,
   "metadata": {
    "ExecuteTime": {
     "end_time": "2019-12-04T17:09:16.947369Z",
     "start_time": "2019-12-04T17:09:10.849354Z"
    }
   },
   "outputs": [],
   "source": [
    "pepco_load['datetime_beginning_utc'] = pd.to_datetime(pepco_load['datetime_beginning_utc'])"
   ]
  },
  {
   "cell_type": "code",
   "execution_count": 27,
   "metadata": {
    "ExecuteTime": {
     "end_time": "2019-12-04T17:09:16.964368Z",
     "start_time": "2019-12-04T17:09:16.949370Z"
    }
   },
   "outputs": [],
   "source": [
    "pepco_load.drop_duplicates(inplace=True)"
   ]
  },
  {
   "cell_type": "code",
   "execution_count": 28,
   "metadata": {
    "ExecuteTime": {
     "end_time": "2019-12-04T17:09:16.979370Z",
     "start_time": "2019-12-04T17:09:16.967371Z"
    }
   },
   "outputs": [],
   "source": [
    "pepco_load.sort_values(by='datetime_beginning_utc', inplace=True)\n",
    "pepco_load.index = pepco_load['datetime_beginning_utc']\n",
    "pepco_load.drop(columns='datetime_beginning_utc', inplace=True)"
   ]
  },
  {
   "cell_type": "code",
   "execution_count": 29,
   "metadata": {
    "ExecuteTime": {
     "end_time": "2019-12-04T17:09:16.996371Z",
     "start_time": "2019-12-04T17:09:16.982371Z"
    }
   },
   "outputs": [
    {
     "data": {
      "text/html": [
       "<div>\n",
       "<style scoped>\n",
       "    .dataframe tbody tr th:only-of-type {\n",
       "        vertical-align: middle;\n",
       "    }\n",
       "\n",
       "    .dataframe tbody tr th {\n",
       "        vertical-align: top;\n",
       "    }\n",
       "\n",
       "    .dataframe thead th {\n",
       "        text-align: right;\n",
       "    }\n",
       "</style>\n",
       "<table border=\"1\" class=\"dataframe\">\n",
       "  <thead>\n",
       "    <tr style=\"text-align: right;\">\n",
       "      <th></th>\n",
       "      <th>pepco_mw</th>\n",
       "    </tr>\n",
       "    <tr>\n",
       "      <th>datetime_beginning_utc</th>\n",
       "      <th></th>\n",
       "    </tr>\n",
       "  </thead>\n",
       "  <tbody>\n",
       "    <tr>\n",
       "      <th>2016-01-01 05:00:00</th>\n",
       "      <td>2351.764</td>\n",
       "    </tr>\n",
       "    <tr>\n",
       "      <th>2016-01-01 06:00:00</th>\n",
       "      <td>2325.194</td>\n",
       "    </tr>\n",
       "    <tr>\n",
       "      <th>2016-01-01 07:00:00</th>\n",
       "      <td>2269.001</td>\n",
       "    </tr>\n",
       "    <tr>\n",
       "      <th>2016-01-01 08:00:00</th>\n",
       "      <td>2273.126</td>\n",
       "    </tr>\n",
       "    <tr>\n",
       "      <th>2016-01-01 09:00:00</th>\n",
       "      <td>2243.840</td>\n",
       "    </tr>\n",
       "  </tbody>\n",
       "</table>\n",
       "</div>"
      ],
      "text/plain": [
       "                        pepco_mw\n",
       "datetime_beginning_utc          \n",
       "2016-01-01 05:00:00     2351.764\n",
       "2016-01-01 06:00:00     2325.194\n",
       "2016-01-01 07:00:00     2269.001\n",
       "2016-01-01 08:00:00     2273.126\n",
       "2016-01-01 09:00:00     2243.840"
      ]
     },
     "execution_count": 29,
     "metadata": {},
     "output_type": "execute_result"
    }
   ],
   "source": [
    "pepco_load.head()"
   ]
  },
  {
   "cell_type": "code",
   "execution_count": 30,
   "metadata": {
    "ExecuteTime": {
     "end_time": "2019-12-04T17:09:17.778369Z",
     "start_time": "2019-12-04T17:09:16.999371Z"
    }
   },
   "outputs": [
    {
     "data": {
      "image/png": "[encoded data removed]",
      "text/plain": [
       "<Figure size 1080x576 with 1 Axes>"
      ]
     },
     "metadata": {
      "needs_background": "light"
     },
     "output_type": "display_data"
    }
   ],
   "source": [
    "pepco_load['pepco_mw'].plot(style='.', figsize=(15,8), title=\"Pepco Load\");"
   ]
  },
  {
   "cell_type": "code",
   "execution_count": 31,
   "metadata": {
    "ExecuteTime": {
     "end_time": "2019-12-04T17:09:18.908371Z",
     "start_time": "2019-12-04T17:09:17.781369Z"
    }
   },
   "outputs": [],
   "source": [
    "# midatl_load_2015 = pd.read_csv('data/hrl_load_metered_2015_MIDATL.csv')\n",
    "midatl_load_2016 = pd.read_csv('data/hrl_load_metered_2016_MIDATL.csv')\n",
    "midatl_load_2017 = pd.read_csv('data/hrl_load_metered_2017_MIDATL.csv')\n",
    "midatl_load_2018 = pd.read_csv('data/hrl_load_metered_2018_MIDATL.csv')\n",
    "midatl_load_2019 = pd.read_csv('data/hrl_load_metered_2019_MIDATL.csv')\n",
    "# midatl_load = midatl_load_2015.append(midatl_load_2016)\n",
    "# midatl_load = midatl_load.append(midatl_load_2017)\n",
    "midatl_load = midatl_load_2016.append(midatl_load_2017)\n",
    "midatl_load = midatl_load.append(midatl_load_2018)\n",
    "midatl_load = midatl_load.append(midatl_load_2019)"
   ]
  },
  {
   "cell_type": "code",
   "execution_count": 32,
   "metadata": {
    "ExecuteTime": {
     "end_time": "2019-12-04T17:09:18.958370Z",
     "start_time": "2019-12-04T17:09:18.913371Z"
    }
   },
   "outputs": [],
   "source": [
    "midatl_load.rename({'mw': 'midatl_mw'}, axis=1, inplace=True)"
   ]
  },
  {
   "cell_type": "code",
   "execution_count": 33,
   "metadata": {
    "ExecuteTime": {
     "end_time": "2019-12-04T17:09:18.992372Z",
     "start_time": "2019-12-04T17:09:18.962372Z"
    }
   },
   "outputs": [],
   "source": [
    "midatl_load.drop(columns=['datetime_beginning_ept',\n",
    "                          'nerc_region',\n",
    "                          'mkt_region',\n",
    "                          'zone',\n",
    "                          'load_area',\n",
    "                          'is_verified'], inplace=True)"
   ]
  },
  {
   "cell_type": "code",
   "execution_count": 34,
   "metadata": {
    "ExecuteTime": {
     "end_time": "2019-12-04T17:09:28.485782Z",
     "start_time": "2019-12-04T17:09:18.996374Z"
    }
   },
   "outputs": [],
   "source": [
    "midatl_load['datetime_beginning_utc'] = pd.to_datetime(midatl_load['datetime_beginning_utc'])"
   ]
  },
  {
   "cell_type": "code",
   "execution_count": 35,
   "metadata": {
    "ExecuteTime": {
     "end_time": "2019-12-04T17:09:28.660781Z",
     "start_time": "2019-12-04T17:09:28.488782Z"
    }
   },
   "outputs": [],
   "source": [
    "midatl_load.drop_duplicates(inplace=True)"
   ]
  },
  {
   "cell_type": "code",
   "execution_count": 36,
   "metadata": {
    "ExecuteTime": {
     "end_time": "2019-12-04T17:09:28.704780Z",
     "start_time": "2019-12-04T17:09:28.662781Z"
    }
   },
   "outputs": [],
   "source": [
    "midatl_load.sort_values(by='datetime_beginning_utc', inplace=True)\n",
    "midatl_load.index = midatl_load['datetime_beginning_utc']"
   ]
  },
  {
   "cell_type": "code",
   "execution_count": 37,
   "metadata": {
    "ExecuteTime": {
     "end_time": "2019-12-04T17:09:28.803786Z",
     "start_time": "2019-12-04T17:09:28.707783Z"
    }
   },
   "outputs": [],
   "source": [
    "midatl_load = midatl_load.resample('1H').sum()"
   ]
  },
  {
   "cell_type": "code",
   "execution_count": 38,
   "metadata": {
    "ExecuteTime": {
     "end_time": "2019-12-04T17:09:28.823785Z",
     "start_time": "2019-12-04T17:09:28.806781Z"
    }
   },
   "outputs": [],
   "source": [
    "load_df = pepco_load.merge(midatl_load, how='left', left_index=True, right_index=True)"
   ]
  },
  {
   "cell_type": "code",
   "execution_count": 39,
   "metadata": {
    "ExecuteTime": {
     "end_time": "2019-12-04T17:09:28.841782Z",
     "start_time": "2019-12-04T17:09:28.826784Z"
    }
   },
   "outputs": [
    {
     "name": "stdout",
     "output_type": "stream",
     "text": [
      "<class 'pandas.core.frame.DataFrame'>\n",
      "DatetimeIndex: 34080 entries, 2016-01-01 05:00:00 to 2019-11-21 04:00:00\n",
      "Data columns (total 2 columns):\n",
      "pepco_mw     34080 non-null float64\n",
      "midatl_mw    34080 non-null float64\n",
      "dtypes: float64(2)\n",
      "memory usage: 2.0 MB\n"
     ]
    }
   ],
   "source": [
    "load_df.info()"
   ]
  },
  {
   "cell_type": "code",
   "execution_count": 40,
   "metadata": {
    "ExecuteTime": {
     "end_time": "2019-12-04T17:09:28.857781Z",
     "start_time": "2019-12-04T17:09:28.844782Z"
    }
   },
   "outputs": [
    {
     "data": {
      "text/html": [
       "<div>\n",
       "<style scoped>\n",
       "    .dataframe tbody tr th:only-of-type {\n",
       "        vertical-align: middle;\n",
       "    }\n",
       "\n",
       "    .dataframe tbody tr th {\n",
       "        vertical-align: top;\n",
       "    }\n",
       "\n",
       "    .dataframe thead th {\n",
       "        text-align: right;\n",
       "    }\n",
       "</style>\n",
       "<table border=\"1\" class=\"dataframe\">\n",
       "  <thead>\n",
       "    <tr style=\"text-align: right;\">\n",
       "      <th></th>\n",
       "      <th>pepco_mw</th>\n",
       "      <th>midatl_mw</th>\n",
       "    </tr>\n",
       "    <tr>\n",
       "      <th>datetime_beginning_utc</th>\n",
       "      <th></th>\n",
       "      <th></th>\n",
       "    </tr>\n",
       "  </thead>\n",
       "  <tbody>\n",
       "    <tr>\n",
       "      <th>2016-01-01 05:00:00</th>\n",
       "      <td>2351.764</td>\n",
       "      <td>25218.694</td>\n",
       "    </tr>\n",
       "    <tr>\n",
       "      <th>2016-01-01 06:00:00</th>\n",
       "      <td>2325.194</td>\n",
       "      <td>24350.804</td>\n",
       "    </tr>\n",
       "    <tr>\n",
       "      <th>2016-01-01 07:00:00</th>\n",
       "      <td>2269.001</td>\n",
       "      <td>23665.242</td>\n",
       "    </tr>\n",
       "    <tr>\n",
       "      <th>2016-01-01 08:00:00</th>\n",
       "      <td>2273.126</td>\n",
       "      <td>23383.814</td>\n",
       "    </tr>\n",
       "    <tr>\n",
       "      <th>2016-01-01 09:00:00</th>\n",
       "      <td>2243.840</td>\n",
       "      <td>23487.854</td>\n",
       "    </tr>\n",
       "  </tbody>\n",
       "</table>\n",
       "</div>"
      ],
      "text/plain": [
       "                        pepco_mw  midatl_mw\n",
       "datetime_beginning_utc                     \n",
       "2016-01-01 05:00:00     2351.764  25218.694\n",
       "2016-01-01 06:00:00     2325.194  24350.804\n",
       "2016-01-01 07:00:00     2269.001  23665.242\n",
       "2016-01-01 08:00:00     2273.126  23383.814\n",
       "2016-01-01 09:00:00     2243.840  23487.854"
      ]
     },
     "execution_count": 40,
     "metadata": {},
     "output_type": "execute_result"
    }
   ],
   "source": [
    "load_df.head()"
   ]
  },
  {
   "cell_type": "code",
   "execution_count": 41,
   "metadata": {
    "ExecuteTime": {
     "end_time": "2019-12-04T17:09:29.425228Z",
     "start_time": "2019-12-04T17:09:28.860783Z"
    }
   },
   "outputs": [],
   "source": [
    "# midatl_frcstd_load_2015 = pd.read_csv('data/load_frcstd_hist_2015_MIDATL.csv')\n",
    "midatl_frcstd_load_2016 = pd.read_csv('data/load_frcstd_hist_2016_MIDATL.csv')\n",
    "midatl_frcstd_load_2017 = pd.read_csv('data/load_frcstd_hist_2017_MIDATL.csv')\n",
    "midatl_frcstd_load_2018 = pd.read_csv('data/load_frcstd_hist_2018_MIDATL.csv')\n",
    "midatl_frcstd_load_2019 = pd.read_csv('data/load_frcstd_hist_2019_MIDATL.csv')\n",
    "# midatl_frcstd_load = midatl_frcstd_load_2015.append(midatl_frcstd_load_2016)\n",
    "# midatl_frcstd_load = midatl_frcstd_load.append(midatl_frcstd_load_2017)\n",
    "midatl_frcstd_load = midatl_frcstd_load_2016.append(midatl_frcstd_load_2017)\n",
    "midatl_frcstd_load = midatl_frcstd_load.append(midatl_frcstd_load_2018)\n",
    "midatl_frcstd_load = midatl_frcstd_load.append(midatl_frcstd_load_2019)"
   ]
  },
  {
   "cell_type": "code",
   "execution_count": 42,
   "metadata": {
    "ExecuteTime": {
     "end_time": "2019-12-03T17:52:25.755426Z",
     "start_time": "2019-12-03T17:52:25.731066Z"
    }
   },
   "outputs": [],
   "source": [
    "midatl_frcstd_load.rename({'forecast_load_mw': 'midatl_forecast_load_mw'}, axis=1, inplace=True)"
   ]
  },
  {
   "cell_type": "code",
   "execution_count": 43,
   "metadata": {
    "ExecuteTime": {
     "end_time": "2019-12-03T17:52:25.786430Z",
     "start_time": "2019-12-03T17:52:25.761430Z"
    }
   },
   "outputs": [],
   "source": [
    "midatl_frcstd_load.drop(columns=['forecast_hour_beginning_ept',\n",
    "                                 'forecast_area'], inplace=True)"
   ]
  },
  {
   "cell_type": "code",
   "execution_count": 44,
   "metadata": {
    "ExecuteTime": {
     "end_time": "2019-12-03T17:52:33.978463Z",
     "start_time": "2019-12-03T17:52:25.789428Z"
    }
   },
   "outputs": [],
   "source": [
    "midatl_frcstd_load['evaluated_at_utc'] = pd.to_datetime(midatl_frcstd_load['evaluated_at_utc'])\n",
    "midatl_frcstd_load['evaluated_at_ept'] = pd.to_datetime(midatl_frcstd_load['evaluated_at_ept'])\n",
    "midatl_frcstd_load['forecast_hour_beginning_utc'] = pd.to_datetime(midatl_frcstd_load['forecast_hour_beginning_utc'])"
   ]
  },
  {
   "cell_type": "code",
   "execution_count": 45,
   "metadata": {
    "ExecuteTime": {
     "end_time": "2019-12-03T17:52:34.100462Z",
     "start_time": "2019-12-03T17:52:33.980461Z"
    }
   },
   "outputs": [],
   "source": [
    "midatl_frcstd_load.drop_duplicates(inplace=True)"
   ]
  },
  {
   "cell_type": "code",
   "execution_count": 46,
   "metadata": {
    "ExecuteTime": {
     "end_time": "2019-12-03T17:52:34.222461Z",
     "start_time": "2019-12-03T17:52:34.103463Z"
    }
   },
   "outputs": [],
   "source": [
    "midatl_frcstd_load.sort_values(by=['forecast_hour_beginning_utc', 'evaluated_at_utc'], inplace=True)\n",
    "midatl_frcstd_load.reset_index(drop=True, inplace=True)"
   ]
  },
  {
   "cell_type": "code",
   "execution_count": 47,
   "metadata": {
    "ExecuteTime": {
     "end_time": "2019-12-03T17:53:00.291493Z",
     "start_time": "2019-12-03T17:52:34.226464Z"
    }
   },
   "outputs": [],
   "source": [
    "# selecting the oldest forecast for simplicity and to limit data leakage\n",
    "hrly_midatl_frcstd_load = midatl_frcstd_load.groupby(by='forecast_hour_beginning_utc').idxmin()\n",
    "midatl_frcstd_load = midatl_frcstd_load.iloc[hrly_midatl_frcstd_load.iloc[:,0]]"
   ]
  },
  {
   "cell_type": "code",
   "execution_count": 48,
   "metadata": {
    "ExecuteTime": {
     "end_time": "2019-12-03T17:53:00.306389Z",
     "start_time": "2019-12-03T17:53:00.291493Z"
    }
   },
   "outputs": [],
   "source": [
    "midatl_frcstd_load.index = midatl_frcstd_load['forecast_hour_beginning_utc']\n",
    "midatl_frcstd_load.drop(columns=['forecast_hour_beginning_utc'], inplace=True)"
   ]
  },
  {
   "cell_type": "code",
   "execution_count": 49,
   "metadata": {
    "ExecuteTime": {
     "end_time": "2019-12-03T17:53:00.329388Z",
     "start_time": "2019-12-03T17:53:00.310391Z"
    }
   },
   "outputs": [
    {
     "data": {
      "text/html": [
       "<div>\n",
       "<style scoped>\n",
       "    .dataframe tbody tr th:only-of-type {\n",
       "        vertical-align: middle;\n",
       "    }\n",
       "\n",
       "    .dataframe tbody tr th {\n",
       "        vertical-align: top;\n",
       "    }\n",
       "\n",
       "    .dataframe thead th {\n",
       "        text-align: right;\n",
       "    }\n",
       "</style>\n",
       "<table border=\"1\" class=\"dataframe\">\n",
       "  <thead>\n",
       "    <tr style=\"text-align: right;\">\n",
       "      <th></th>\n",
       "      <th>evaluated_at_utc</th>\n",
       "      <th>evaluated_at_ept</th>\n",
       "      <th>midatl_forecast_load_mw</th>\n",
       "    </tr>\n",
       "    <tr>\n",
       "      <th>forecast_hour_beginning_utc</th>\n",
       "      <th></th>\n",
       "      <th></th>\n",
       "      <th></th>\n",
       "    </tr>\n",
       "  </thead>\n",
       "  <tbody>\n",
       "    <tr>\n",
       "      <th>2016-01-01 05:00:00</th>\n",
       "      <td>2015-12-31 14:45:00</td>\n",
       "      <td>2015-12-31 09:45:00</td>\n",
       "      <td>26712</td>\n",
       "    </tr>\n",
       "    <tr>\n",
       "      <th>2016-01-01 06:00:00</th>\n",
       "      <td>2015-12-31 14:45:00</td>\n",
       "      <td>2015-12-31 09:45:00</td>\n",
       "      <td>25832</td>\n",
       "    </tr>\n",
       "    <tr>\n",
       "      <th>2016-01-01 07:00:00</th>\n",
       "      <td>2015-12-31 14:45:00</td>\n",
       "      <td>2015-12-31 09:45:00</td>\n",
       "      <td>25402</td>\n",
       "    </tr>\n",
       "    <tr>\n",
       "      <th>2016-01-01 08:00:00</th>\n",
       "      <td>2015-12-31 14:45:00</td>\n",
       "      <td>2015-12-31 09:45:00</td>\n",
       "      <td>25361</td>\n",
       "    </tr>\n",
       "    <tr>\n",
       "      <th>2016-01-01 09:00:00</th>\n",
       "      <td>2015-12-31 14:45:00</td>\n",
       "      <td>2015-12-31 09:45:00</td>\n",
       "      <td>25767</td>\n",
       "    </tr>\n",
       "  </tbody>\n",
       "</table>\n",
       "</div>"
      ],
      "text/plain": [
       "                               evaluated_at_utc    evaluated_at_ept  \\\n",
       "forecast_hour_beginning_utc                                           \n",
       "2016-01-01 05:00:00         2015-12-31 14:45:00 2015-12-31 09:45:00   \n",
       "2016-01-01 06:00:00         2015-12-31 14:45:00 2015-12-31 09:45:00   \n",
       "2016-01-01 07:00:00         2015-12-31 14:45:00 2015-12-31 09:45:00   \n",
       "2016-01-01 08:00:00         2015-12-31 14:45:00 2015-12-31 09:45:00   \n",
       "2016-01-01 09:00:00         2015-12-31 14:45:00 2015-12-31 09:45:00   \n",
       "\n",
       "                             midatl_forecast_load_mw  \n",
       "forecast_hour_beginning_utc                           \n",
       "2016-01-01 05:00:00                            26712  \n",
       "2016-01-01 06:00:00                            25832  \n",
       "2016-01-01 07:00:00                            25402  \n",
       "2016-01-01 08:00:00                            25361  \n",
       "2016-01-01 09:00:00                            25767  "
      ]
     },
     "execution_count": 49,
     "metadata": {},
     "output_type": "execute_result"
    }
   ],
   "source": [
    "midatl_frcstd_load.head()"
   ]
  },
  {
   "cell_type": "code",
   "execution_count": 50,
   "metadata": {
    "ExecuteTime": {
     "end_time": "2019-12-03T17:53:00.348390Z",
     "start_time": "2019-12-03T17:53:00.336389Z"
    }
   },
   "outputs": [],
   "source": [
    "load_df = load_df.merge(midatl_frcstd_load, how='left', left_index=True, right_index=True)"
   ]
  },
  {
   "cell_type": "code",
   "execution_count": 51,
   "metadata": {
    "ExecuteTime": {
     "end_time": "2019-12-03T17:53:00.367387Z",
     "start_time": "2019-12-03T17:53:00.353387Z"
    }
   },
   "outputs": [
    {
     "name": "stdout",
     "output_type": "stream",
     "text": [
      "<class 'pandas.core.frame.DataFrame'>\n",
      "DatetimeIndex: 34080 entries, 2016-01-01 05:00:00 to 2019-11-21 04:00:00\n",
      "Data columns (total 5 columns):\n",
      "pepco_mw                   34080 non-null float64\n",
      "midatl_mw                  34080 non-null float64\n",
      "evaluated_at_utc           34080 non-null datetime64[ns]\n",
      "evaluated_at_ept           34080 non-null datetime64[ns]\n",
      "midatl_forecast_load_mw    34080 non-null int64\n",
      "dtypes: datetime64[ns](2), float64(2), int64(1)\n",
      "memory usage: 2.8 MB\n"
     ]
    }
   ],
   "source": [
    "load_df.info()"
   ]
  },
  {
   "cell_type": "code",
   "execution_count": 52,
   "metadata": {
    "ExecuteTime": {
     "end_time": "2019-12-03T17:53:00.393390Z",
     "start_time": "2019-12-03T17:53:00.372388Z"
    }
   },
   "outputs": [
    {
     "data": {
      "text/html": [
       "<div>\n",
       "<style scoped>\n",
       "    .dataframe tbody tr th:only-of-type {\n",
       "        vertical-align: middle;\n",
       "    }\n",
       "\n",
       "    .dataframe tbody tr th {\n",
       "        vertical-align: top;\n",
       "    }\n",
       "\n",
       "    .dataframe thead th {\n",
       "        text-align: right;\n",
       "    }\n",
       "</style>\n",
       "<table border=\"1\" class=\"dataframe\">\n",
       "  <thead>\n",
       "    <tr style=\"text-align: right;\">\n",
       "      <th></th>\n",
       "      <th>pepco_mw</th>\n",
       "      <th>midatl_mw</th>\n",
       "      <th>evaluated_at_utc</th>\n",
       "      <th>evaluated_at_ept</th>\n",
       "      <th>midatl_forecast_load_mw</th>\n",
       "    </tr>\n",
       "    <tr>\n",
       "      <th>datetime_beginning_utc</th>\n",
       "      <th></th>\n",
       "      <th></th>\n",
       "      <th></th>\n",
       "      <th></th>\n",
       "      <th></th>\n",
       "    </tr>\n",
       "  </thead>\n",
       "  <tbody>\n",
       "    <tr>\n",
       "      <th>2019-11-21 00:00:00</th>\n",
       "      <td>3058.263</td>\n",
       "      <td>33498.709</td>\n",
       "      <td>2019-11-19 10:45:00</td>\n",
       "      <td>2019-11-19 05:45:00</td>\n",
       "      <td>33966</td>\n",
       "    </tr>\n",
       "    <tr>\n",
       "      <th>2019-11-21 01:00:00</th>\n",
       "      <td>2971.795</td>\n",
       "      <td>32658.387</td>\n",
       "      <td>2019-11-19 10:45:00</td>\n",
       "      <td>2019-11-19 05:45:00</td>\n",
       "      <td>32979</td>\n",
       "    </tr>\n",
       "    <tr>\n",
       "      <th>2019-11-21 02:00:00</th>\n",
       "      <td>2829.161</td>\n",
       "      <td>31248.858</td>\n",
       "      <td>2019-11-19 10:45:00</td>\n",
       "      <td>2019-11-19 05:45:00</td>\n",
       "      <td>31511</td>\n",
       "    </tr>\n",
       "    <tr>\n",
       "      <th>2019-11-21 03:00:00</th>\n",
       "      <td>2650.363</td>\n",
       "      <td>29184.714</td>\n",
       "      <td>2019-11-19 10:45:00</td>\n",
       "      <td>2019-11-19 05:45:00</td>\n",
       "      <td>29481</td>\n",
       "    </tr>\n",
       "    <tr>\n",
       "      <th>2019-11-21 04:00:00</th>\n",
       "      <td>2487.477</td>\n",
       "      <td>27440.844</td>\n",
       "      <td>2019-11-19 10:45:00</td>\n",
       "      <td>2019-11-19 05:45:00</td>\n",
       "      <td>27716</td>\n",
       "    </tr>\n",
       "  </tbody>\n",
       "</table>\n",
       "</div>"
      ],
      "text/plain": [
       "                        pepco_mw  midatl_mw    evaluated_at_utc  \\\n",
       "datetime_beginning_utc                                            \n",
       "2019-11-21 00:00:00     3058.263  33498.709 2019-11-19 10:45:00   \n",
       "2019-11-21 01:00:00     2971.795  32658.387 2019-11-19 10:45:00   \n",
       "2019-11-21 02:00:00     2829.161  31248.858 2019-11-19 10:45:00   \n",
       "2019-11-21 03:00:00     2650.363  29184.714 2019-11-19 10:45:00   \n",
       "2019-11-21 04:00:00     2487.477  27440.844 2019-11-19 10:45:00   \n",
       "\n",
       "                          evaluated_at_ept  midatl_forecast_load_mw  \n",
       "datetime_beginning_utc                                               \n",
       "2019-11-21 00:00:00    2019-11-19 05:45:00                    33966  \n",
       "2019-11-21 01:00:00    2019-11-19 05:45:00                    32979  \n",
       "2019-11-21 02:00:00    2019-11-19 05:45:00                    31511  \n",
       "2019-11-21 03:00:00    2019-11-19 05:45:00                    29481  \n",
       "2019-11-21 04:00:00    2019-11-19 05:45:00                    27716  "
      ]
     },
     "execution_count": 52,
     "metadata": {},
     "output_type": "execute_result"
    }
   ],
   "source": [
    "load_df.tail()"
   ]
  },
  {
   "cell_type": "code",
   "execution_count": 53,
   "metadata": {
    "ExecuteTime": {
     "end_time": "2019-12-03T17:53:00.427397Z",
     "start_time": "2019-12-03T17:53:00.397387Z"
    }
   },
   "outputs": [
    {
     "data": {
      "text/html": [
       "<div>\n",
       "<style scoped>\n",
       "    .dataframe tbody tr th:only-of-type {\n",
       "        vertical-align: middle;\n",
       "    }\n",
       "\n",
       "    .dataframe tbody tr th {\n",
       "        vertical-align: top;\n",
       "    }\n",
       "\n",
       "    .dataframe thead th {\n",
       "        text-align: right;\n",
       "    }\n",
       "</style>\n",
       "<table border=\"1\" class=\"dataframe\">\n",
       "  <thead>\n",
       "    <tr style=\"text-align: right;\">\n",
       "      <th></th>\n",
       "      <th>datetime_beginning_ept</th>\n",
       "      <th>pnode_id</th>\n",
       "      <th>pnode_name</th>\n",
       "      <th>system_energy_price_rt</th>\n",
       "      <th>total_lmp_rt</th>\n",
       "      <th>congestion_price_rt</th>\n",
       "      <th>marginal_loss_price_rt</th>\n",
       "      <th>system_energy_price_da</th>\n",
       "      <th>total_lmp_da</th>\n",
       "      <th>congestion_price_da</th>\n",
       "      <th>marginal_loss_price_da</th>\n",
       "    </tr>\n",
       "    <tr>\n",
       "      <th>datetime_beginning_utc</th>\n",
       "      <th></th>\n",
       "      <th></th>\n",
       "      <th></th>\n",
       "      <th></th>\n",
       "      <th></th>\n",
       "      <th></th>\n",
       "      <th></th>\n",
       "      <th></th>\n",
       "      <th></th>\n",
       "      <th></th>\n",
       "      <th></th>\n",
       "    </tr>\n",
       "  </thead>\n",
       "  <tbody>\n",
       "    <tr>\n",
       "      <th>2019-11-21 00:00:00</th>\n",
       "      <td>2019-11-20 19:00:00</td>\n",
       "      <td>51298</td>\n",
       "      <td>PEPCO</td>\n",
       "      <td>22.66</td>\n",
       "      <td>24.244510</td>\n",
       "      <td>0.955136</td>\n",
       "      <td>0.631041</td>\n",
       "      <td>32.25</td>\n",
       "      <td>37.603160</td>\n",
       "      <td>5.064800</td>\n",
       "      <td>0.288360</td>\n",
       "    </tr>\n",
       "    <tr>\n",
       "      <th>2019-11-21 01:00:00</th>\n",
       "      <td>2019-11-20 20:00:00</td>\n",
       "      <td>51298</td>\n",
       "      <td>PEPCO</td>\n",
       "      <td>23.98</td>\n",
       "      <td>24.658104</td>\n",
       "      <td>0.006310</td>\n",
       "      <td>0.672627</td>\n",
       "      <td>31.85</td>\n",
       "      <td>37.131499</td>\n",
       "      <td>4.987413</td>\n",
       "      <td>0.294086</td>\n",
       "    </tr>\n",
       "    <tr>\n",
       "      <th>2019-11-21 02:00:00</th>\n",
       "      <td>2019-11-20 21:00:00</td>\n",
       "      <td>51298</td>\n",
       "      <td>PEPCO</td>\n",
       "      <td>24.23</td>\n",
       "      <td>24.220312</td>\n",
       "      <td>-0.676727</td>\n",
       "      <td>0.667872</td>\n",
       "      <td>25.88</td>\n",
       "      <td>29.152662</td>\n",
       "      <td>3.082246</td>\n",
       "      <td>0.190416</td>\n",
       "    </tr>\n",
       "    <tr>\n",
       "      <th>2019-11-21 03:00:00</th>\n",
       "      <td>2019-11-20 22:00:00</td>\n",
       "      <td>51298</td>\n",
       "      <td>PEPCO</td>\n",
       "      <td>20.14</td>\n",
       "      <td>21.625209</td>\n",
       "      <td>0.906794</td>\n",
       "      <td>0.579248</td>\n",
       "      <td>23.53</td>\n",
       "      <td>25.994099</td>\n",
       "      <td>2.257015</td>\n",
       "      <td>0.207084</td>\n",
       "    </tr>\n",
       "    <tr>\n",
       "      <th>2019-11-21 04:00:00</th>\n",
       "      <td>2019-11-20 23:00:00</td>\n",
       "      <td>51298</td>\n",
       "      <td>PEPCO</td>\n",
       "      <td>20.01</td>\n",
       "      <td>21.993846</td>\n",
       "      <td>1.293597</td>\n",
       "      <td>0.686916</td>\n",
       "      <td>22.80</td>\n",
       "      <td>24.651011</td>\n",
       "      <td>1.802089</td>\n",
       "      <td>0.048922</td>\n",
       "    </tr>\n",
       "  </tbody>\n",
       "</table>\n",
       "</div>"
      ],
      "text/plain": [
       "                       datetime_beginning_ept  pnode_id pnode_name  \\\n",
       "datetime_beginning_utc                                               \n",
       "2019-11-21 00:00:00       2019-11-20 19:00:00     51298      PEPCO   \n",
       "2019-11-21 01:00:00       2019-11-20 20:00:00     51298      PEPCO   \n",
       "2019-11-21 02:00:00       2019-11-20 21:00:00     51298      PEPCO   \n",
       "2019-11-21 03:00:00       2019-11-20 22:00:00     51298      PEPCO   \n",
       "2019-11-21 04:00:00       2019-11-20 23:00:00     51298      PEPCO   \n",
       "\n",
       "                        system_energy_price_rt  total_lmp_rt  \\\n",
       "datetime_beginning_utc                                         \n",
       "2019-11-21 00:00:00                      22.66     24.244510   \n",
       "2019-11-21 01:00:00                      23.98     24.658104   \n",
       "2019-11-21 02:00:00                      24.23     24.220312   \n",
       "2019-11-21 03:00:00                      20.14     21.625209   \n",
       "2019-11-21 04:00:00                      20.01     21.993846   \n",
       "\n",
       "                        congestion_price_rt  marginal_loss_price_rt  \\\n",
       "datetime_beginning_utc                                                \n",
       "2019-11-21 00:00:00                0.955136                0.631041   \n",
       "2019-11-21 01:00:00                0.006310                0.672627   \n",
       "2019-11-21 02:00:00               -0.676727                0.667872   \n",
       "2019-11-21 03:00:00                0.906794                0.579248   \n",
       "2019-11-21 04:00:00                1.293597                0.686916   \n",
       "\n",
       "                        system_energy_price_da  total_lmp_da  \\\n",
       "datetime_beginning_utc                                         \n",
       "2019-11-21 00:00:00                      32.25     37.603160   \n",
       "2019-11-21 01:00:00                      31.85     37.131499   \n",
       "2019-11-21 02:00:00                      25.88     29.152662   \n",
       "2019-11-21 03:00:00                      23.53     25.994099   \n",
       "2019-11-21 04:00:00                      22.80     24.651011   \n",
       "\n",
       "                        congestion_price_da  marginal_loss_price_da  \n",
       "datetime_beginning_utc                                               \n",
       "2019-11-21 00:00:00                5.064800                0.288360  \n",
       "2019-11-21 01:00:00                4.987413                0.294086  \n",
       "2019-11-21 02:00:00                3.082246                0.190416  \n",
       "2019-11-21 03:00:00                2.257015                0.207084  \n",
       "2019-11-21 04:00:00                1.802089                0.048922  "
      ]
     },
     "execution_count": 53,
     "metadata": {},
     "output_type": "execute_result"
    }
   ],
   "source": [
    "lmp_df.tail()"
   ]
  },
  {
   "cell_type": "code",
   "execution_count": 54,
   "metadata": {
    "ExecuteTime": {
     "end_time": "2019-12-03T17:53:00.445383Z",
     "start_time": "2019-12-03T17:53:00.430387Z"
    }
   },
   "outputs": [],
   "source": [
    "data_df = lmp_df.merge(load_df, how='left', left_index=True, right_index=True)\n",
    "data_df.index.name = 'datetime_beginning_utc'"
   ]
  },
  {
   "cell_type": "code",
   "execution_count": 55,
   "metadata": {
    "ExecuteTime": {
     "end_time": "2019-12-03T17:53:00.480387Z",
     "start_time": "2019-12-03T17:53:00.447386Z"
    }
   },
   "outputs": [
    {
     "name": "stdout",
     "output_type": "stream",
     "text": [
      "<class 'pandas.core.frame.DataFrame'>\n",
      "DatetimeIndex: 34080 entries, 2016-01-01 05:00:00 to 2019-11-21 04:00:00\n",
      "Data columns (total 16 columns):\n",
      "datetime_beginning_ept     34080 non-null datetime64[ns]\n",
      "pnode_id                   34080 non-null int64\n",
      "pnode_name                 34080 non-null object\n",
      "system_energy_price_rt     34080 non-null float64\n",
      "total_lmp_rt               34080 non-null float64\n",
      "congestion_price_rt        34080 non-null float64\n",
      "marginal_loss_price_rt     34080 non-null float64\n",
      "system_energy_price_da     34080 non-null float64\n",
      "total_lmp_da               34080 non-null float64\n",
      "congestion_price_da        34080 non-null float64\n",
      "marginal_loss_price_da     34080 non-null float64\n",
      "pepco_mw                   34080 non-null float64\n",
      "midatl_mw                  34080 non-null float64\n",
      "evaluated_at_utc           34080 non-null datetime64[ns]\n",
      "evaluated_at_ept           34080 non-null datetime64[ns]\n",
      "midatl_forecast_load_mw    34080 non-null int64\n",
      "dtypes: datetime64[ns](3), float64(10), int64(2), object(1)\n",
      "memory usage: 5.7+ MB\n"
     ]
    }
   ],
   "source": [
    "data_df.info()"
   ]
  },
  {
   "cell_type": "code",
   "execution_count": 56,
   "metadata": {
    "ExecuteTime": {
     "end_time": "2019-12-03T17:53:00.490397Z",
     "start_time": "2019-12-03T17:53:00.483388Z"
    }
   },
   "outputs": [],
   "source": [
    "# interface data"
   ]
  },
  {
   "cell_type": "code",
   "execution_count": 57,
   "metadata": {
    "ExecuteTime": {
     "end_time": "2019-12-03T17:53:00.877384Z",
     "start_time": "2019-12-03T17:53:00.494388Z"
    }
   },
   "outputs": [],
   "source": [
    "# interface_flows_2015 = pd.read_csv('data/da_interface_flows_and_limits_2015_ALL.csv')\n",
    "interface_flows_2016 = pd.read_csv('data/da_interface_flows_and_limits_2016_ALL.csv')\n",
    "interface_flows_2017 = pd.read_csv('data/da_interface_flows_and_limits_2017_ALL.csv')\n",
    "interface_flows_2018 = pd.read_csv('data/da_interface_flows_and_limits_2018_ALL.csv')\n",
    "interface_flows_2019 = pd.read_csv('data/da_interface_flows_and_limits_2019_ALL.csv')\n",
    "# interface_flows = interface_flows_2015.append(interface_flows_2016)\n",
    "# interface_flows = interface_flows.append(interface_flows_2017)\n",
    "interface_flows_stack = interface_flows_2016.append(interface_flows_2017)\n",
    "interface_flows_stack = interface_flows_stack.append(interface_flows_2018)\n",
    "interface_flows_stack = interface_flows_stack.append(interface_flows_2019)"
   ]
  },
  {
   "cell_type": "code",
   "execution_count": 58,
   "metadata": {
    "ExecuteTime": {
     "end_time": "2019-12-03T17:53:00.899388Z",
     "start_time": "2019-12-03T17:53:00.881387Z"
    }
   },
   "outputs": [],
   "source": [
    "interface_flows_stack.drop(columns=['datetime_beginning_ept'], inplace=True)"
   ]
  },
  {
   "cell_type": "code",
   "execution_count": 59,
   "metadata": {
    "ExecuteTime": {
     "end_time": "2019-12-03T17:53:00.923387Z",
     "start_time": "2019-12-03T17:53:00.903390Z"
    }
   },
   "outputs": [
    {
     "data": {
      "text/html": [
       "<div>\n",
       "<style scoped>\n",
       "    .dataframe tbody tr th:only-of-type {\n",
       "        vertical-align: middle;\n",
       "    }\n",
       "\n",
       "    .dataframe tbody tr th {\n",
       "        vertical-align: top;\n",
       "    }\n",
       "\n",
       "    .dataframe thead th {\n",
       "        text-align: right;\n",
       "    }\n",
       "</style>\n",
       "<table border=\"1\" class=\"dataframe\">\n",
       "  <thead>\n",
       "    <tr style=\"text-align: right;\">\n",
       "      <th></th>\n",
       "      <th>datetime_beginning_utc</th>\n",
       "      <th>interface_limit_name</th>\n",
       "      <th>flow_mw</th>\n",
       "      <th>limit_mw</th>\n",
       "    </tr>\n",
       "  </thead>\n",
       "  <tbody>\n",
       "    <tr>\n",
       "      <th>48379</th>\n",
       "      <td>12/4/2019 4:00:00 AM</td>\n",
       "      <td>BCPEP</td>\n",
       "      <td>3274</td>\n",
       "      <td>4900</td>\n",
       "    </tr>\n",
       "    <tr>\n",
       "      <th>48380</th>\n",
       "      <td>12/4/2019 4:00:00 AM</td>\n",
       "      <td>BED-BLA</td>\n",
       "      <td>1388</td>\n",
       "      <td>1500</td>\n",
       "    </tr>\n",
       "    <tr>\n",
       "      <th>48381</th>\n",
       "      <td>12/4/2019 4:00:00 AM</td>\n",
       "      <td>CENTRAL</td>\n",
       "      <td>1171</td>\n",
       "      <td>2300</td>\n",
       "    </tr>\n",
       "    <tr>\n",
       "      <th>48382</th>\n",
       "      <td>12/4/2019 4:00:00 AM</td>\n",
       "      <td>EAST</td>\n",
       "      <td>4330</td>\n",
       "      <td>6700</td>\n",
       "    </tr>\n",
       "    <tr>\n",
       "      <th>48383</th>\n",
       "      <td>12/4/2019 4:00:00 AM</td>\n",
       "      <td>WEST</td>\n",
       "      <td>2701</td>\n",
       "      <td>5700</td>\n",
       "    </tr>\n",
       "  </tbody>\n",
       "</table>\n",
       "</div>"
      ],
      "text/plain": [
       "      datetime_beginning_utc interface_limit_name  flow_mw  limit_mw\n",
       "48379   12/4/2019 4:00:00 AM                BCPEP     3274      4900\n",
       "48380   12/4/2019 4:00:00 AM              BED-BLA     1388      1500\n",
       "48381   12/4/2019 4:00:00 AM              CENTRAL     1171      2300\n",
       "48382   12/4/2019 4:00:00 AM                 EAST     4330      6700\n",
       "48383   12/4/2019 4:00:00 AM                 WEST     2701      5700"
      ]
     },
     "execution_count": 59,
     "metadata": {},
     "output_type": "execute_result"
    }
   ],
   "source": [
    "interface_flows_stack.tail()"
   ]
  },
  {
   "cell_type": "code",
   "execution_count": 60,
   "metadata": {
    "ExecuteTime": {
     "end_time": "2019-12-03T17:53:00.982388Z",
     "start_time": "2019-12-03T17:53:00.927388Z"
    }
   },
   "outputs": [],
   "source": [
    "interface_flows = interface_flows_stack[['datetime_beginning_utc']].copy()\n",
    "interface_flows.drop_duplicates(inplace=True)"
   ]
  },
  {
   "cell_type": "code",
   "execution_count": 61,
   "metadata": {
    "ExecuteTime": {
     "end_time": "2019-12-03T17:53:00.997389Z",
     "start_time": "2019-12-03T17:53:00.985387Z"
    }
   },
   "outputs": [
    {
     "data": {
      "text/html": [
       "<div>\n",
       "<style scoped>\n",
       "    .dataframe tbody tr th:only-of-type {\n",
       "        vertical-align: middle;\n",
       "    }\n",
       "\n",
       "    .dataframe tbody tr th {\n",
       "        vertical-align: top;\n",
       "    }\n",
       "\n",
       "    .dataframe thead th {\n",
       "        text-align: right;\n",
       "    }\n",
       "</style>\n",
       "<table border=\"1\" class=\"dataframe\">\n",
       "  <thead>\n",
       "    <tr style=\"text-align: right;\">\n",
       "      <th></th>\n",
       "      <th>datetime_beginning_utc</th>\n",
       "    </tr>\n",
       "  </thead>\n",
       "  <tbody>\n",
       "    <tr>\n",
       "      <th>0</th>\n",
       "      <td>1/1/2016 5:00:00 AM</td>\n",
       "    </tr>\n",
       "    <tr>\n",
       "      <th>6</th>\n",
       "      <td>1/1/2016 6:00:00 AM</td>\n",
       "    </tr>\n",
       "    <tr>\n",
       "      <th>12</th>\n",
       "      <td>1/1/2016 7:00:00 AM</td>\n",
       "    </tr>\n",
       "    <tr>\n",
       "      <th>18</th>\n",
       "      <td>1/1/2016 8:00:00 AM</td>\n",
       "    </tr>\n",
       "    <tr>\n",
       "      <th>24</th>\n",
       "      <td>1/1/2016 9:00:00 AM</td>\n",
       "    </tr>\n",
       "  </tbody>\n",
       "</table>\n",
       "</div>"
      ],
      "text/plain": [
       "   datetime_beginning_utc\n",
       "0     1/1/2016 5:00:00 AM\n",
       "6     1/1/2016 6:00:00 AM\n",
       "12    1/1/2016 7:00:00 AM\n",
       "18    1/1/2016 8:00:00 AM\n",
       "24    1/1/2016 9:00:00 AM"
      ]
     },
     "execution_count": 61,
     "metadata": {},
     "output_type": "execute_result"
    }
   ],
   "source": [
    "interface_flows.head()"
   ]
  },
  {
   "cell_type": "code",
   "execution_count": 62,
   "metadata": {
    "ExecuteTime": {
     "end_time": "2019-12-03T17:53:01.322387Z",
     "start_time": "2019-12-03T17:53:01.000387Z"
    }
   },
   "outputs": [],
   "source": [
    "grouped = interface_flows_stack.groupby(by='interface_limit_name')\n",
    "for name, group in grouped:\n",
    "    group = group.copy()\n",
    "    group.rename(columns={'flow_mw': name.lower().replace('-', '_')+'_flow_mw',\n",
    "                         'limit_mw': name.lower().replace('-', '_')+'_limit_mw'}, inplace=True)\n",
    "    group.drop(columns=['interface_limit_name'], inplace=True)\n",
    "    interface_flows = interface_flows.merge(group,\n",
    "                                            how='left',\n",
    "                                            left_on='datetime_beginning_utc',\n",
    "                                            right_on='datetime_beginning_utc')"
   ]
  },
  {
   "cell_type": "code",
   "execution_count": 63,
   "metadata": {
    "ExecuteTime": {
     "end_time": "2019-12-03T17:53:01.348387Z",
     "start_time": "2019-12-03T17:53:01.325393Z"
    }
   },
   "outputs": [
    {
     "data": {
      "text/html": [
       "<div>\n",
       "<style scoped>\n",
       "    .dataframe tbody tr th:only-of-type {\n",
       "        vertical-align: middle;\n",
       "    }\n",
       "\n",
       "    .dataframe tbody tr th {\n",
       "        vertical-align: top;\n",
       "    }\n",
       "\n",
       "    .dataframe thead th {\n",
       "        text-align: right;\n",
       "    }\n",
       "</style>\n",
       "<table border=\"1\" class=\"dataframe\">\n",
       "  <thead>\n",
       "    <tr style=\"text-align: right;\">\n",
       "      <th></th>\n",
       "      <th>datetime_beginning_utc</th>\n",
       "      <th>apsouth_flow_mw</th>\n",
       "      <th>apsouth_limit_mw</th>\n",
       "      <th>bcpep_flow_mw</th>\n",
       "      <th>bcpep_limit_mw</th>\n",
       "      <th>bed_bla_flow_mw</th>\n",
       "      <th>bed_bla_limit_mw</th>\n",
       "      <th>central_flow_mw</th>\n",
       "      <th>central_limit_mw</th>\n",
       "      <th>east_flow_mw</th>\n",
       "      <th>east_limit_mw</th>\n",
       "      <th>west_flow_mw</th>\n",
       "      <th>west_limit_mw</th>\n",
       "    </tr>\n",
       "  </thead>\n",
       "  <tbody>\n",
       "    <tr>\n",
       "      <th>0</th>\n",
       "      <td>1/1/2016 5:00:00 AM</td>\n",
       "      <td>1838</td>\n",
       "      <td>3000</td>\n",
       "      <td>3784</td>\n",
       "      <td>6100</td>\n",
       "      <td>676.0</td>\n",
       "      <td>1300.0</td>\n",
       "      <td>-388</td>\n",
       "      <td>3000</td>\n",
       "      <td>1815</td>\n",
       "      <td>5200</td>\n",
       "      <td>1168</td>\n",
       "      <td>3800</td>\n",
       "    </tr>\n",
       "    <tr>\n",
       "      <th>1</th>\n",
       "      <td>1/1/2016 6:00:00 AM</td>\n",
       "      <td>2325</td>\n",
       "      <td>3000</td>\n",
       "      <td>3464</td>\n",
       "      <td>6100</td>\n",
       "      <td>746.0</td>\n",
       "      <td>1300.0</td>\n",
       "      <td>-633</td>\n",
       "      <td>3000</td>\n",
       "      <td>1646</td>\n",
       "      <td>5200</td>\n",
       "      <td>845</td>\n",
       "      <td>3800</td>\n",
       "    </tr>\n",
       "    <tr>\n",
       "      <th>2</th>\n",
       "      <td>1/1/2016 7:00:00 AM</td>\n",
       "      <td>2345</td>\n",
       "      <td>3000</td>\n",
       "      <td>3494</td>\n",
       "      <td>6100</td>\n",
       "      <td>810.0</td>\n",
       "      <td>1300.0</td>\n",
       "      <td>-776</td>\n",
       "      <td>3000</td>\n",
       "      <td>1469</td>\n",
       "      <td>5200</td>\n",
       "      <td>813</td>\n",
       "      <td>3800</td>\n",
       "    </tr>\n",
       "    <tr>\n",
       "      <th>3</th>\n",
       "      <td>1/1/2016 8:00:00 AM</td>\n",
       "      <td>2441</td>\n",
       "      <td>3000</td>\n",
       "      <td>3554</td>\n",
       "      <td>6100</td>\n",
       "      <td>960.0</td>\n",
       "      <td>1300.0</td>\n",
       "      <td>-907</td>\n",
       "      <td>3000</td>\n",
       "      <td>1305</td>\n",
       "      <td>5200</td>\n",
       "      <td>789</td>\n",
       "      <td>3800</td>\n",
       "    </tr>\n",
       "    <tr>\n",
       "      <th>4</th>\n",
       "      <td>1/1/2016 9:00:00 AM</td>\n",
       "      <td>2513</td>\n",
       "      <td>3000</td>\n",
       "      <td>3583</td>\n",
       "      <td>6100</td>\n",
       "      <td>982.0</td>\n",
       "      <td>1300.0</td>\n",
       "      <td>-977</td>\n",
       "      <td>3000</td>\n",
       "      <td>1348</td>\n",
       "      <td>5200</td>\n",
       "      <td>831</td>\n",
       "      <td>3800</td>\n",
       "    </tr>\n",
       "  </tbody>\n",
       "</table>\n",
       "</div>"
      ],
      "text/plain": [
       "  datetime_beginning_utc  apsouth_flow_mw  apsouth_limit_mw  bcpep_flow_mw  \\\n",
       "0    1/1/2016 5:00:00 AM             1838              3000           3784   \n",
       "1    1/1/2016 6:00:00 AM             2325              3000           3464   \n",
       "2    1/1/2016 7:00:00 AM             2345              3000           3494   \n",
       "3    1/1/2016 8:00:00 AM             2441              3000           3554   \n",
       "4    1/1/2016 9:00:00 AM             2513              3000           3583   \n",
       "\n",
       "   bcpep_limit_mw  bed_bla_flow_mw  bed_bla_limit_mw  central_flow_mw  \\\n",
       "0            6100            676.0            1300.0             -388   \n",
       "1            6100            746.0            1300.0             -633   \n",
       "2            6100            810.0            1300.0             -776   \n",
       "3            6100            960.0            1300.0             -907   \n",
       "4            6100            982.0            1300.0             -977   \n",
       "\n",
       "   central_limit_mw  east_flow_mw  east_limit_mw  west_flow_mw  west_limit_mw  \n",
       "0              3000          1815           5200          1168           3800  \n",
       "1              3000          1646           5200           845           3800  \n",
       "2              3000          1469           5200           813           3800  \n",
       "3              3000          1305           5200           789           3800  \n",
       "4              3000          1348           5200           831           3800  "
      ]
     },
     "execution_count": 63,
     "metadata": {},
     "output_type": "execute_result"
    }
   ],
   "source": [
    "interface_flows.head()"
   ]
  },
  {
   "cell_type": "code",
   "execution_count": 64,
   "metadata": {
    "ExecuteTime": {
     "end_time": "2019-12-03T17:53:07.166280Z",
     "start_time": "2019-12-03T17:53:01.351387Z"
    }
   },
   "outputs": [],
   "source": [
    "interface_flows['datetime_beginning_utc'] = pd.to_datetime(interface_flows['datetime_beginning_utc'])"
   ]
  },
  {
   "cell_type": "code",
   "execution_count": 65,
   "metadata": {
    "ExecuteTime": {
     "end_time": "2019-12-03T17:53:07.220800Z",
     "start_time": "2019-12-03T17:53:07.169279Z"
    }
   },
   "outputs": [],
   "source": [
    "interface_flows.drop_duplicates(inplace=True)"
   ]
  },
  {
   "cell_type": "code",
   "execution_count": 66,
   "metadata": {
    "ExecuteTime": {
     "end_time": "2019-12-03T17:53:07.241798Z",
     "start_time": "2019-12-03T17:53:07.223799Z"
    }
   },
   "outputs": [],
   "source": [
    "interface_flows.sort_values(by='datetime_beginning_utc', inplace=True)\n",
    "interface_flows.index = interface_flows['datetime_beginning_utc']\n",
    "interface_flows.drop(columns='datetime_beginning_utc', inplace=True)"
   ]
  },
  {
   "cell_type": "code",
   "execution_count": 67,
   "metadata": {
    "ExecuteTime": {
     "end_time": "2019-12-03T17:53:07.259800Z",
     "start_time": "2019-12-03T17:53:07.244799Z"
    }
   },
   "outputs": [
    {
     "name": "stdout",
     "output_type": "stream",
     "text": [
      "<class 'pandas.core.frame.DataFrame'>\n",
      "DatetimeIndex: 34368 entries, 2016-01-01 05:00:00 to 2019-12-04 04:00:00\n",
      "Data columns (total 12 columns):\n",
      "apsouth_flow_mw     34368 non-null int64\n",
      "apsouth_limit_mw    34368 non-null int64\n",
      "bcpep_flow_mw       34368 non-null int64\n",
      "bcpep_limit_mw      34368 non-null int64\n",
      "bed_bla_flow_mw     33192 non-null float64\n",
      "bed_bla_limit_mw    33192 non-null float64\n",
      "central_flow_mw     34368 non-null int64\n",
      "central_limit_mw    34368 non-null int64\n",
      "east_flow_mw        34368 non-null int64\n",
      "east_limit_mw       34368 non-null int64\n",
      "west_flow_mw        34368 non-null int64\n",
      "west_limit_mw       34368 non-null int64\n",
      "dtypes: float64(2), int64(10)\n",
      "memory usage: 3.4 MB\n"
     ]
    }
   ],
   "source": [
    "interface_flows.info()"
   ]
  },
  {
   "cell_type": "code",
   "execution_count": 68,
   "metadata": {
    "ExecuteTime": {
     "end_time": "2019-12-03T17:53:07.376801Z",
     "start_time": "2019-12-03T17:53:07.262800Z"
    }
   },
   "outputs": [
    {
     "data": {
      "text/html": [
       "<div>\n",
       "<style scoped>\n",
       "    .dataframe tbody tr th:only-of-type {\n",
       "        vertical-align: middle;\n",
       "    }\n",
       "\n",
       "    .dataframe tbody tr th {\n",
       "        vertical-align: top;\n",
       "    }\n",
       "\n",
       "    .dataframe thead th {\n",
       "        text-align: right;\n",
       "    }\n",
       "</style>\n",
       "<table border=\"1\" class=\"dataframe\">\n",
       "  <thead>\n",
       "    <tr style=\"text-align: right;\">\n",
       "      <th></th>\n",
       "      <th>apsouth_flow_mw</th>\n",
       "      <th>apsouth_limit_mw</th>\n",
       "      <th>bcpep_flow_mw</th>\n",
       "      <th>bcpep_limit_mw</th>\n",
       "      <th>bed_bla_flow_mw</th>\n",
       "      <th>bed_bla_limit_mw</th>\n",
       "      <th>central_flow_mw</th>\n",
       "      <th>central_limit_mw</th>\n",
       "      <th>east_flow_mw</th>\n",
       "      <th>east_limit_mw</th>\n",
       "      <th>west_flow_mw</th>\n",
       "      <th>west_limit_mw</th>\n",
       "    </tr>\n",
       "  </thead>\n",
       "  <tbody>\n",
       "    <tr>\n",
       "      <th>count</th>\n",
       "      <td>34368.000000</td>\n",
       "      <td>34368.000000</td>\n",
       "      <td>34368.000000</td>\n",
       "      <td>34368.000000</td>\n",
       "      <td>33192.000000</td>\n",
       "      <td>33192.000000</td>\n",
       "      <td>34368.000000</td>\n",
       "      <td>34368.000000</td>\n",
       "      <td>34368.000000</td>\n",
       "      <td>34368.000000</td>\n",
       "      <td>34368.000000</td>\n",
       "      <td>34368.000000</td>\n",
       "    </tr>\n",
       "    <tr>\n",
       "      <th>mean</th>\n",
       "      <td>2106.231087</td>\n",
       "      <td>3461.617668</td>\n",
       "      <td>3564.327368</td>\n",
       "      <td>5560.360684</td>\n",
       "      <td>905.493131</td>\n",
       "      <td>1881.767022</td>\n",
       "      <td>-893.930517</td>\n",
       "      <td>3157.989991</td>\n",
       "      <td>2810.438198</td>\n",
       "      <td>6134.948208</td>\n",
       "      <td>1251.697044</td>\n",
       "      <td>4722.881750</td>\n",
       "    </tr>\n",
       "    <tr>\n",
       "      <th>std</th>\n",
       "      <td>886.153588</td>\n",
       "      <td>690.150496</td>\n",
       "      <td>1154.502431</td>\n",
       "      <td>802.380599</td>\n",
       "      <td>357.841038</td>\n",
       "      <td>6249.356146</td>\n",
       "      <td>1210.558619</td>\n",
       "      <td>899.068650</td>\n",
       "      <td>1666.668098</td>\n",
       "      <td>1199.993619</td>\n",
       "      <td>1512.731080</td>\n",
       "      <td>910.533084</td>\n",
       "    </tr>\n",
       "    <tr>\n",
       "      <th>min</th>\n",
       "      <td>-382.000000</td>\n",
       "      <td>1100.000000</td>\n",
       "      <td>165.000000</td>\n",
       "      <td>2300.000000</td>\n",
       "      <td>-602.000000</td>\n",
       "      <td>0.000000</td>\n",
       "      <td>-3596.000000</td>\n",
       "      <td>200.000000</td>\n",
       "      <td>-1314.000000</td>\n",
       "      <td>1200.000000</td>\n",
       "      <td>-3056.000000</td>\n",
       "      <td>1700.000000</td>\n",
       "    </tr>\n",
       "    <tr>\n",
       "      <th>25%</th>\n",
       "      <td>1479.000000</td>\n",
       "      <td>3000.000000</td>\n",
       "      <td>2707.750000</td>\n",
       "      <td>5000.000000</td>\n",
       "      <td>655.000000</td>\n",
       "      <td>1300.000000</td>\n",
       "      <td>-1738.000000</td>\n",
       "      <td>2500.000000</td>\n",
       "      <td>1616.000000</td>\n",
       "      <td>5400.000000</td>\n",
       "      <td>167.000000</td>\n",
       "      <td>4100.000000</td>\n",
       "    </tr>\n",
       "    <tr>\n",
       "      <th>50%</th>\n",
       "      <td>2031.000000</td>\n",
       "      <td>3500.000000</td>\n",
       "      <td>3562.000000</td>\n",
       "      <td>5600.000000</td>\n",
       "      <td>872.000000</td>\n",
       "      <td>1400.000000</td>\n",
       "      <td>-1097.000000</td>\n",
       "      <td>3100.000000</td>\n",
       "      <td>2625.000000</td>\n",
       "      <td>6200.000000</td>\n",
       "      <td>1058.000000</td>\n",
       "      <td>4800.000000</td>\n",
       "    </tr>\n",
       "    <tr>\n",
       "      <th>75%</th>\n",
       "      <td>2631.000000</td>\n",
       "      <td>3900.000000</td>\n",
       "      <td>4373.000000</td>\n",
       "      <td>6100.000000</td>\n",
       "      <td>1130.250000</td>\n",
       "      <td>1600.000000</td>\n",
       "      <td>-313.750000</td>\n",
       "      <td>3800.000000</td>\n",
       "      <td>3807.000000</td>\n",
       "      <td>6900.000000</td>\n",
       "      <td>2135.000000</td>\n",
       "      <td>5400.000000</td>\n",
       "    </tr>\n",
       "    <tr>\n",
       "      <th>max</th>\n",
       "      <td>5677.000000</td>\n",
       "      <td>9999.000000</td>\n",
       "      <td>7200.000000</td>\n",
       "      <td>9999.000000</td>\n",
       "      <td>2000.000000</td>\n",
       "      <td>99999.000000</td>\n",
       "      <td>4843.000000</td>\n",
       "      <td>5500.000000</td>\n",
       "      <td>9837.000000</td>\n",
       "      <td>10200.000000</td>\n",
       "      <td>6326.000000</td>\n",
       "      <td>7100.000000</td>\n",
       "    </tr>\n",
       "  </tbody>\n",
       "</table>\n",
       "</div>"
      ],
      "text/plain": [
       "       apsouth_flow_mw  apsouth_limit_mw  bcpep_flow_mw  bcpep_limit_mw  \\\n",
       "count     34368.000000      34368.000000   34368.000000    34368.000000   \n",
       "mean       2106.231087       3461.617668    3564.327368     5560.360684   \n",
       "std         886.153588        690.150496    1154.502431      802.380599   \n",
       "min        -382.000000       1100.000000     165.000000     2300.000000   \n",
       "25%        1479.000000       3000.000000    2707.750000     5000.000000   \n",
       "50%        2031.000000       3500.000000    3562.000000     5600.000000   \n",
       "75%        2631.000000       3900.000000    4373.000000     6100.000000   \n",
       "max        5677.000000       9999.000000    7200.000000     9999.000000   \n",
       "\n",
       "       bed_bla_flow_mw  bed_bla_limit_mw  central_flow_mw  central_limit_mw  \\\n",
       "count     33192.000000      33192.000000     34368.000000      34368.000000   \n",
       "mean        905.493131       1881.767022      -893.930517       3157.989991   \n",
       "std         357.841038       6249.356146      1210.558619        899.068650   \n",
       "min        -602.000000          0.000000     -3596.000000        200.000000   \n",
       "25%         655.000000       1300.000000     -1738.000000       2500.000000   \n",
       "50%         872.000000       1400.000000     -1097.000000       3100.000000   \n",
       "75%        1130.250000       1600.000000      -313.750000       3800.000000   \n",
       "max        2000.000000      99999.000000      4843.000000       5500.000000   \n",
       "\n",
       "       east_flow_mw  east_limit_mw  west_flow_mw  west_limit_mw  \n",
       "count  34368.000000   34368.000000  34368.000000   34368.000000  \n",
       "mean    2810.438198    6134.948208   1251.697044    4722.881750  \n",
       "std     1666.668098    1199.993619   1512.731080     910.533084  \n",
       "min    -1314.000000    1200.000000  -3056.000000    1700.000000  \n",
       "25%     1616.000000    5400.000000    167.000000    4100.000000  \n",
       "50%     2625.000000    6200.000000   1058.000000    4800.000000  \n",
       "75%     3807.000000    6900.000000   2135.000000    5400.000000  \n",
       "max     9837.000000   10200.000000   6326.000000    7100.000000  "
      ]
     },
     "execution_count": 68,
     "metadata": {},
     "output_type": "execute_result"
    }
   ],
   "source": [
    "interface_flows.describe()"
   ]
  },
  {
   "cell_type": "code",
   "execution_count": 69,
   "metadata": {
    "ExecuteTime": {
     "end_time": "2019-12-03T17:53:07.479797Z",
     "start_time": "2019-12-03T17:53:07.379798Z"
    }
   },
   "outputs": [],
   "source": [
    "# removing erroneous values\n",
    "interface_flows['bcpep_limit_mw'] = interface_flows['bcpep_limit_mw'].apply(lambda x: np.nan if x >= 9999 else x)\n",
    "interface_flows['bed_bla_limit_mw'] = interface_flows['bed_bla_limit_mw'].apply(lambda x: np.nan if x >= 9999 else x)\n",
    "interface_flows['apsouth_limit_mw'] = interface_flows['apsouth_limit_mw'].apply(lambda x: np.nan if x >= 9999 else x)"
   ]
  },
  {
   "cell_type": "code",
   "execution_count": 70,
   "metadata": {
    "ExecuteTime": {
     "end_time": "2019-12-03T17:53:07.511799Z",
     "start_time": "2019-12-03T17:53:07.482800Z"
    },
    "scrolled": true
   },
   "outputs": [
    {
     "data": {
      "text/html": [
       "<div>\n",
       "<style scoped>\n",
       "    .dataframe tbody tr th:only-of-type {\n",
       "        vertical-align: middle;\n",
       "    }\n",
       "\n",
       "    .dataframe tbody tr th {\n",
       "        vertical-align: top;\n",
       "    }\n",
       "\n",
       "    .dataframe thead th {\n",
       "        text-align: right;\n",
       "    }\n",
       "</style>\n",
       "<table border=\"1\" class=\"dataframe\">\n",
       "  <thead>\n",
       "    <tr style=\"text-align: right;\">\n",
       "      <th></th>\n",
       "      <th>apsouth_flow_mw</th>\n",
       "      <th>apsouth_limit_mw</th>\n",
       "      <th>bcpep_flow_mw</th>\n",
       "      <th>bcpep_limit_mw</th>\n",
       "      <th>bed_bla_flow_mw</th>\n",
       "      <th>bed_bla_limit_mw</th>\n",
       "      <th>central_flow_mw</th>\n",
       "      <th>central_limit_mw</th>\n",
       "      <th>east_flow_mw</th>\n",
       "      <th>east_limit_mw</th>\n",
       "      <th>west_flow_mw</th>\n",
       "      <th>west_limit_mw</th>\n",
       "    </tr>\n",
       "    <tr>\n",
       "      <th>datetime_beginning_utc</th>\n",
       "      <th></th>\n",
       "      <th></th>\n",
       "      <th></th>\n",
       "      <th></th>\n",
       "      <th></th>\n",
       "      <th></th>\n",
       "      <th></th>\n",
       "      <th></th>\n",
       "      <th></th>\n",
       "      <th></th>\n",
       "      <th></th>\n",
       "      <th></th>\n",
       "    </tr>\n",
       "  </thead>\n",
       "  <tbody>\n",
       "    <tr>\n",
       "      <th>2016-01-01 05:00:00</th>\n",
       "      <td>1838</td>\n",
       "      <td>3000.0</td>\n",
       "      <td>3784</td>\n",
       "      <td>6100.0</td>\n",
       "      <td>676.0</td>\n",
       "      <td>1300.0</td>\n",
       "      <td>-388</td>\n",
       "      <td>3000</td>\n",
       "      <td>1815</td>\n",
       "      <td>5200</td>\n",
       "      <td>1168</td>\n",
       "      <td>3800</td>\n",
       "    </tr>\n",
       "    <tr>\n",
       "      <th>2016-01-01 06:00:00</th>\n",
       "      <td>2325</td>\n",
       "      <td>3000.0</td>\n",
       "      <td>3464</td>\n",
       "      <td>6100.0</td>\n",
       "      <td>746.0</td>\n",
       "      <td>1300.0</td>\n",
       "      <td>-633</td>\n",
       "      <td>3000</td>\n",
       "      <td>1646</td>\n",
       "      <td>5200</td>\n",
       "      <td>845</td>\n",
       "      <td>3800</td>\n",
       "    </tr>\n",
       "    <tr>\n",
       "      <th>2016-01-01 07:00:00</th>\n",
       "      <td>2345</td>\n",
       "      <td>3000.0</td>\n",
       "      <td>3494</td>\n",
       "      <td>6100.0</td>\n",
       "      <td>810.0</td>\n",
       "      <td>1300.0</td>\n",
       "      <td>-776</td>\n",
       "      <td>3000</td>\n",
       "      <td>1469</td>\n",
       "      <td>5200</td>\n",
       "      <td>813</td>\n",
       "      <td>3800</td>\n",
       "    </tr>\n",
       "    <tr>\n",
       "      <th>2016-01-01 08:00:00</th>\n",
       "      <td>2441</td>\n",
       "      <td>3000.0</td>\n",
       "      <td>3554</td>\n",
       "      <td>6100.0</td>\n",
       "      <td>960.0</td>\n",
       "      <td>1300.0</td>\n",
       "      <td>-907</td>\n",
       "      <td>3000</td>\n",
       "      <td>1305</td>\n",
       "      <td>5200</td>\n",
       "      <td>789</td>\n",
       "      <td>3800</td>\n",
       "    </tr>\n",
       "    <tr>\n",
       "      <th>2016-01-01 09:00:00</th>\n",
       "      <td>2513</td>\n",
       "      <td>3000.0</td>\n",
       "      <td>3583</td>\n",
       "      <td>6100.0</td>\n",
       "      <td>982.0</td>\n",
       "      <td>1300.0</td>\n",
       "      <td>-977</td>\n",
       "      <td>3000</td>\n",
       "      <td>1348</td>\n",
       "      <td>5200</td>\n",
       "      <td>831</td>\n",
       "      <td>3800</td>\n",
       "    </tr>\n",
       "  </tbody>\n",
       "</table>\n",
       "</div>"
      ],
      "text/plain": [
       "                        apsouth_flow_mw  apsouth_limit_mw  bcpep_flow_mw  \\\n",
       "datetime_beginning_utc                                                     \n",
       "2016-01-01 05:00:00                1838            3000.0           3784   \n",
       "2016-01-01 06:00:00                2325            3000.0           3464   \n",
       "2016-01-01 07:00:00                2345            3000.0           3494   \n",
       "2016-01-01 08:00:00                2441            3000.0           3554   \n",
       "2016-01-01 09:00:00                2513            3000.0           3583   \n",
       "\n",
       "                        bcpep_limit_mw  bed_bla_flow_mw  bed_bla_limit_mw  \\\n",
       "datetime_beginning_utc                                                      \n",
       "2016-01-01 05:00:00             6100.0            676.0            1300.0   \n",
       "2016-01-01 06:00:00             6100.0            746.0            1300.0   \n",
       "2016-01-01 07:00:00             6100.0            810.0            1300.0   \n",
       "2016-01-01 08:00:00             6100.0            960.0            1300.0   \n",
       "2016-01-01 09:00:00             6100.0            982.0            1300.0   \n",
       "\n",
       "                        central_flow_mw  central_limit_mw  east_flow_mw  \\\n",
       "datetime_beginning_utc                                                    \n",
       "2016-01-01 05:00:00                -388              3000          1815   \n",
       "2016-01-01 06:00:00                -633              3000          1646   \n",
       "2016-01-01 07:00:00                -776              3000          1469   \n",
       "2016-01-01 08:00:00                -907              3000          1305   \n",
       "2016-01-01 09:00:00                -977              3000          1348   \n",
       "\n",
       "                        east_limit_mw  west_flow_mw  west_limit_mw  \n",
       "datetime_beginning_utc                                              \n",
       "2016-01-01 05:00:00              5200          1168           3800  \n",
       "2016-01-01 06:00:00              5200           845           3800  \n",
       "2016-01-01 07:00:00              5200           813           3800  \n",
       "2016-01-01 08:00:00              5200           789           3800  \n",
       "2016-01-01 09:00:00              5200           831           3800  "
      ]
     },
     "execution_count": 70,
     "metadata": {},
     "output_type": "execute_result"
    }
   ],
   "source": [
    "interface_flows.head()"
   ]
  },
  {
   "cell_type": "code",
   "execution_count": 71,
   "metadata": {
    "ExecuteTime": {
     "end_time": "2019-12-03T17:53:07.543798Z",
     "start_time": "2019-12-03T17:53:07.515801Z"
    }
   },
   "outputs": [],
   "source": [
    "data_df = data_df.merge(interface_flows, how='left', left_index=True, right_index=True)"
   ]
  },
  {
   "cell_type": "code",
   "execution_count": 72,
   "metadata": {
    "ExecuteTime": {
     "end_time": "2019-12-03T17:53:07.583801Z",
     "start_time": "2019-12-03T17:53:07.547802Z"
    }
   },
   "outputs": [
    {
     "name": "stdout",
     "output_type": "stream",
     "text": [
      "<class 'pandas.core.frame.DataFrame'>\n",
      "DatetimeIndex: 34080 entries, 2016-01-01 05:00:00 to 2019-11-21 04:00:00\n",
      "Data columns (total 28 columns):\n",
      "datetime_beginning_ept     34080 non-null datetime64[ns]\n",
      "pnode_id                   34080 non-null int64\n",
      "pnode_name                 34080 non-null object\n",
      "system_energy_price_rt     34080 non-null float64\n",
      "total_lmp_rt               34080 non-null float64\n",
      "congestion_price_rt        34080 non-null float64\n",
      "marginal_loss_price_rt     34080 non-null float64\n",
      "system_energy_price_da     34080 non-null float64\n",
      "total_lmp_da               34080 non-null float64\n",
      "congestion_price_da        34080 non-null float64\n",
      "marginal_loss_price_da     34080 non-null float64\n",
      "pepco_mw                   34080 non-null float64\n",
      "midatl_mw                  34080 non-null float64\n",
      "evaluated_at_utc           34080 non-null datetime64[ns]\n",
      "evaluated_at_ept           34080 non-null datetime64[ns]\n",
      "midatl_forecast_load_mw    34080 non-null int64\n",
      "apsouth_flow_mw            34056 non-null float64\n",
      "apsouth_limit_mw           34032 non-null float64\n",
      "bcpep_flow_mw              34056 non-null float64\n",
      "bcpep_limit_mw             34032 non-null float64\n",
      "bed_bla_flow_mw            32880 non-null float64\n",
      "bed_bla_limit_mw           32491 non-null float64\n",
      "central_flow_mw            34056 non-null float64\n",
      "central_limit_mw           34056 non-null float64\n",
      "east_flow_mw               34056 non-null float64\n",
      "east_limit_mw              34056 non-null float64\n",
      "west_flow_mw               34056 non-null float64\n",
      "west_limit_mw              34056 non-null float64\n",
      "dtypes: datetime64[ns](3), float64(22), int64(2), object(1)\n",
      "memory usage: 8.8+ MB\n"
     ]
    }
   ],
   "source": [
    "data_df.info()"
   ]
  },
  {
   "cell_type": "code",
   "execution_count": 73,
   "metadata": {
    "ExecuteTime": {
     "end_time": "2019-12-03T17:53:07.592800Z",
     "start_time": "2019-12-03T17:53:07.586800Z"
    }
   },
   "outputs": [],
   "source": [
    "# outages data"
   ]
  },
  {
   "cell_type": "code",
   "execution_count": 74,
   "metadata": {
    "ExecuteTime": {
     "end_time": "2019-12-03T17:53:07.726798Z",
     "start_time": "2019-12-03T17:53:07.596802Z"
    }
   },
   "outputs": [],
   "source": [
    "# gen_outages_2015 = pd.read_csv('data/gen_outages_by_type_2015.csv')\n",
    "gen_outages_2016 = pd.read_csv('data/gen_outages_by_type_2016.csv')\n",
    "gen_outages_2017 = pd.read_csv('data/gen_outages_by_type_2017.csv')\n",
    "gen_outages_2018 = pd.read_csv('data/gen_outages_by_type_2018.csv')\n",
    "gen_outages_2019 = pd.read_csv('data/gen_outages_by_type_2019.csv')\n",
    "# gen_outages = gen_outages_2015.append(gen_outages_2016)\n",
    "# gen_outages = gen_outages.append(gen_outages_2017)\n",
    "gen_outages = gen_outages_2016.append(gen_outages_2017)\n",
    "gen_outages = gen_outages.append(gen_outages_2018)\n",
    "gen_outages = gen_outages.append(gen_outages_2019)"
   ]
  },
  {
   "cell_type": "code",
   "execution_count": 75,
   "metadata": {
    "ExecuteTime": {
     "end_time": "2019-12-03T17:53:07.767798Z",
     "start_time": "2019-12-03T17:53:07.729799Z"
    }
   },
   "outputs": [],
   "source": [
    "gen_outages = gen_outages.loc[gen_outages['region']=='Mid Atlantic - Dominion']\n",
    "gen_outages.drop_duplicates(inplace=True)\n",
    "gen_outages.drop(columns=['region'], inplace=True)\n",
    "gen_outages.reset_index(drop=True, inplace=True)"
   ]
  },
  {
   "cell_type": "code",
   "execution_count": 76,
   "metadata": {
    "ExecuteTime": {
     "end_time": "2019-12-03T17:53:08.786796Z",
     "start_time": "2019-12-03T17:53:07.773800Z"
    }
   },
   "outputs": [],
   "source": [
    "gen_outages['forecast_execution_date_ept'] = pd.to_datetime(gen_outages['forecast_execution_date_ept'])\n",
    "gen_outages['forecast_date'] = pd.to_datetime(gen_outages['forecast_date'])"
   ]
  },
  {
   "cell_type": "code",
   "execution_count": 77,
   "metadata": {
    "ExecuteTime": {
     "end_time": "2019-12-03T17:53:08.808326Z",
     "start_time": "2019-12-03T17:53:08.791799Z"
    }
   },
   "outputs": [
    {
     "name": "stdout",
     "output_type": "stream",
     "text": [
      "<class 'pandas.core.frame.DataFrame'>\n",
      "RangeIndex: 9926 entries, 0 to 9925\n",
      "Data columns (total 6 columns):\n",
      "forecast_execution_date_ept    9926 non-null datetime64[ns]\n",
      "forecast_date                  9926 non-null datetime64[ns]\n",
      "total_outages_mw               9926 non-null int64\n",
      "planned_outages_mw             9926 non-null int64\n",
      "maintenance_outages_mw         9926 non-null int64\n",
      "forced_outages_mw              9926 non-null int64\n",
      "dtypes: datetime64[ns](2), int64(4)\n",
      "memory usage: 465.4 KB\n"
     ]
    }
   ],
   "source": [
    "gen_outages.info()"
   ]
  },
  {
   "cell_type": "code",
   "execution_count": 78,
   "metadata": {
    "ExecuteTime": {
     "end_time": "2019-12-03T17:53:08.826320Z",
     "start_time": "2019-12-03T17:53:08.812319Z"
    }
   },
   "outputs": [],
   "source": [
    "# will use the previous day's forecast\n",
    "gen_outages['day_delta'] = gen_outages['forecast_date'] - gen_outages['forecast_execution_date_ept']\n",
    "kept_delta = pd.Timedelta('1 days 00:00:00')"
   ]
  },
  {
   "cell_type": "code",
   "execution_count": 79,
   "metadata": {
    "ExecuteTime": {
     "end_time": "2019-12-03T17:53:08.846317Z",
     "start_time": "2019-12-03T17:53:08.832319Z"
    }
   },
   "outputs": [],
   "source": [
    "gen_outages = gen_outages.loc[gen_outages['day_delta'] == kept_delta]\n",
    "gen_outages.drop(columns=['day_delta'], inplace=True)\n",
    "gen_outages.reset_index(drop=True, inplace=True)"
   ]
  },
  {
   "cell_type": "code",
   "execution_count": 80,
   "metadata": {
    "ExecuteTime": {
     "end_time": "2019-12-03T17:53:08.860318Z",
     "start_time": "2019-12-03T17:53:08.850319Z"
    }
   },
   "outputs": [],
   "source": [
    "gen_outages.rename({'forecast_execution_date_ept': 'outage_frcst_execution_date',\n",
    "                    'forecast_date': 'outage_forecast_date'}, axis=1, inplace=True)"
   ]
  },
  {
   "cell_type": "code",
   "execution_count": 81,
   "metadata": {
    "ExecuteTime": {
     "end_time": "2019-12-03T17:53:08.878321Z",
     "start_time": "2019-12-03T17:53:08.865319Z"
    }
   },
   "outputs": [],
   "source": [
    "gen_outages.sort_values(by='outage_forecast_date', inplace=True)\n",
    "gen_outages.index = gen_outages['outage_forecast_date']\n",
    "gen_outages.drop(columns='outage_forecast_date', inplace=True)"
   ]
  },
  {
   "cell_type": "code",
   "execution_count": 82,
   "metadata": {
    "ExecuteTime": {
     "end_time": "2019-12-03T17:53:08.896320Z",
     "start_time": "2019-12-03T17:53:08.882323Z"
    }
   },
   "outputs": [],
   "source": [
    "gen_outages = gen_outages.resample('H').pad()"
   ]
  },
  {
   "cell_type": "code",
   "execution_count": 83,
   "metadata": {
    "ExecuteTime": {
     "end_time": "2019-12-03T17:53:08.916318Z",
     "start_time": "2019-12-03T17:53:08.899318Z"
    }
   },
   "outputs": [
    {
     "name": "stdout",
     "output_type": "stream",
     "text": [
      "<class 'pandas.core.frame.DataFrame'>\n",
      "DatetimeIndex: 34081 entries, 2016-01-02 00:00:00 to 2019-11-22 00:00:00\n",
      "Freq: H\n",
      "Data columns (total 5 columns):\n",
      "outage_frcst_execution_date    34081 non-null datetime64[ns]\n",
      "total_outages_mw               34081 non-null int64\n",
      "planned_outages_mw             34081 non-null int64\n",
      "maintenance_outages_mw         34081 non-null int64\n",
      "forced_outages_mw              34081 non-null int64\n",
      "dtypes: datetime64[ns](1), int64(4)\n",
      "memory usage: 1.6 MB\n"
     ]
    }
   ],
   "source": [
    "gen_outages.info()"
   ]
  },
  {
   "cell_type": "code",
   "execution_count": 84,
   "metadata": {
    "ExecuteTime": {
     "end_time": "2019-12-03T17:53:08.947319Z",
     "start_time": "2019-12-03T17:53:08.920320Z"
    }
   },
   "outputs": [
    {
     "data": {
      "text/html": [
       "<div>\n",
       "<style scoped>\n",
       "    .dataframe tbody tr th:only-of-type {\n",
       "        vertical-align: middle;\n",
       "    }\n",
       "\n",
       "    .dataframe tbody tr th {\n",
       "        vertical-align: top;\n",
       "    }\n",
       "\n",
       "    .dataframe thead th {\n",
       "        text-align: right;\n",
       "    }\n",
       "</style>\n",
       "<table border=\"1\" class=\"dataframe\">\n",
       "  <thead>\n",
       "    <tr style=\"text-align: right;\">\n",
       "      <th></th>\n",
       "      <th>outage_frcst_execution_date</th>\n",
       "      <th>total_outages_mw</th>\n",
       "      <th>planned_outages_mw</th>\n",
       "      <th>maintenance_outages_mw</th>\n",
       "      <th>forced_outages_mw</th>\n",
       "    </tr>\n",
       "    <tr>\n",
       "      <th>outage_forecast_date</th>\n",
       "      <th></th>\n",
       "      <th></th>\n",
       "      <th></th>\n",
       "      <th></th>\n",
       "      <th></th>\n",
       "    </tr>\n",
       "  </thead>\n",
       "  <tbody>\n",
       "    <tr>\n",
       "      <th>2016-01-02 00:00:00</th>\n",
       "      <td>2016-01-01</td>\n",
       "      <td>6544</td>\n",
       "      <td>1537</td>\n",
       "      <td>4168</td>\n",
       "      <td>839</td>\n",
       "    </tr>\n",
       "    <tr>\n",
       "      <th>2016-01-02 01:00:00</th>\n",
       "      <td>2016-01-01</td>\n",
       "      <td>6544</td>\n",
       "      <td>1537</td>\n",
       "      <td>4168</td>\n",
       "      <td>839</td>\n",
       "    </tr>\n",
       "    <tr>\n",
       "      <th>2016-01-02 02:00:00</th>\n",
       "      <td>2016-01-01</td>\n",
       "      <td>6544</td>\n",
       "      <td>1537</td>\n",
       "      <td>4168</td>\n",
       "      <td>839</td>\n",
       "    </tr>\n",
       "    <tr>\n",
       "      <th>2016-01-02 03:00:00</th>\n",
       "      <td>2016-01-01</td>\n",
       "      <td>6544</td>\n",
       "      <td>1537</td>\n",
       "      <td>4168</td>\n",
       "      <td>839</td>\n",
       "    </tr>\n",
       "    <tr>\n",
       "      <th>2016-01-02 04:00:00</th>\n",
       "      <td>2016-01-01</td>\n",
       "      <td>6544</td>\n",
       "      <td>1537</td>\n",
       "      <td>4168</td>\n",
       "      <td>839</td>\n",
       "    </tr>\n",
       "  </tbody>\n",
       "</table>\n",
       "</div>"
      ],
      "text/plain": [
       "                     outage_frcst_execution_date  total_outages_mw  \\\n",
       "outage_forecast_date                                                 \n",
       "2016-01-02 00:00:00                   2016-01-01              6544   \n",
       "2016-01-02 01:00:00                   2016-01-01              6544   \n",
       "2016-01-02 02:00:00                   2016-01-01              6544   \n",
       "2016-01-02 03:00:00                   2016-01-01              6544   \n",
       "2016-01-02 04:00:00                   2016-01-01              6544   \n",
       "\n",
       "                      planned_outages_mw  maintenance_outages_mw  \\\n",
       "outage_forecast_date                                               \n",
       "2016-01-02 00:00:00                 1537                    4168   \n",
       "2016-01-02 01:00:00                 1537                    4168   \n",
       "2016-01-02 02:00:00                 1537                    4168   \n",
       "2016-01-02 03:00:00                 1537                    4168   \n",
       "2016-01-02 04:00:00                 1537                    4168   \n",
       "\n",
       "                      forced_outages_mw  \n",
       "outage_forecast_date                     \n",
       "2016-01-02 00:00:00                 839  \n",
       "2016-01-02 01:00:00                 839  \n",
       "2016-01-02 02:00:00                 839  \n",
       "2016-01-02 03:00:00                 839  \n",
       "2016-01-02 04:00:00                 839  "
      ]
     },
     "execution_count": 84,
     "metadata": {},
     "output_type": "execute_result"
    }
   ],
   "source": [
    "gen_outages.head()"
   ]
  },
  {
   "cell_type": "code",
   "execution_count": 85,
   "metadata": {
    "ExecuteTime": {
     "end_time": "2019-12-03T17:53:08.978318Z",
     "start_time": "2019-12-03T17:53:08.951321Z"
    }
   },
   "outputs": [],
   "source": [
    "data_df = data_df.merge(gen_outages, how='left', left_index=True, right_index=True)"
   ]
  },
  {
   "cell_type": "code",
   "execution_count": 86,
   "metadata": {
    "ExecuteTime": {
     "end_time": "2019-12-03T17:53:09.041320Z",
     "start_time": "2019-12-03T17:53:08.982318Z"
    }
   },
   "outputs": [
    {
     "name": "stdout",
     "output_type": "stream",
     "text": [
      "<class 'pandas.core.frame.DataFrame'>\n",
      "DatetimeIndex: 34080 entries, 2016-01-01 05:00:00 to 2019-11-21 04:00:00\n",
      "Data columns (total 33 columns):\n",
      "datetime_beginning_ept         34080 non-null datetime64[ns]\n",
      "pnode_id                       34080 non-null int64\n",
      "pnode_name                     34080 non-null object\n",
      "system_energy_price_rt         34080 non-null float64\n",
      "total_lmp_rt                   34080 non-null float64\n",
      "congestion_price_rt            34080 non-null float64\n",
      "marginal_loss_price_rt         34080 non-null float64\n",
      "system_energy_price_da         34080 non-null float64\n",
      "total_lmp_da                   34080 non-null float64\n",
      "congestion_price_da            34080 non-null float64\n",
      "marginal_loss_price_da         34080 non-null float64\n",
      "pepco_mw                       34080 non-null float64\n",
      "midatl_mw                      34080 non-null float64\n",
      "evaluated_at_utc               34080 non-null datetime64[ns]\n",
      "evaluated_at_ept               34080 non-null datetime64[ns]\n",
      "midatl_forecast_load_mw        34080 non-null int64\n",
      "apsouth_flow_mw                34056 non-null float64\n",
      "apsouth_limit_mw               34032 non-null float64\n",
      "bcpep_flow_mw                  34056 non-null float64\n",
      "bcpep_limit_mw                 34032 non-null float64\n",
      "bed_bla_flow_mw                32880 non-null float64\n",
      "bed_bla_limit_mw               32491 non-null float64\n",
      "central_flow_mw                34056 non-null float64\n",
      "central_limit_mw               34056 non-null float64\n",
      "east_flow_mw                   34056 non-null float64\n",
      "east_limit_mw                  34056 non-null float64\n",
      "west_flow_mw                   34056 non-null float64\n",
      "west_limit_mw                  34056 non-null float64\n",
      "outage_frcst_execution_date    34061 non-null datetime64[ns]\n",
      "total_outages_mw               34061 non-null float64\n",
      "planned_outages_mw             34061 non-null float64\n",
      "maintenance_outages_mw         34061 non-null float64\n",
      "forced_outages_mw              34061 non-null float64\n",
      "dtypes: datetime64[ns](4), float64(26), int64(2), object(1)\n",
      "memory usage: 10.1+ MB\n"
     ]
    }
   ],
   "source": [
    "data_df.info()"
   ]
  },
  {
   "cell_type": "code",
   "execution_count": 87,
   "metadata": {
    "ExecuteTime": {
     "end_time": "2019-12-03T17:53:09.049320Z",
     "start_time": "2019-12-03T17:53:09.045319Z"
    }
   },
   "outputs": [],
   "source": [
    "# weather data"
   ]
  },
  {
   "cell_type": "code",
   "execution_count": 88,
   "metadata": {
    "ExecuteTime": {
     "end_time": "2019-12-03T17:53:09.464317Z",
     "start_time": "2019-12-03T17:53:09.055319Z"
    }
   },
   "outputs": [],
   "source": [
    "weather_2015_2016 = pd.read_csv('data/KDCA_weather_data_2015-2016.csv')\n",
    "weather_2017_2018 = pd.read_csv('data/KDCA_weather_data_2017-2018.csv')\n",
    "weather_2019 = pd.read_csv('data/KDCA_weather_data_2019-20191121.csv')\n",
    "weather = weather_2015_2016.append(weather_2017_2018)\n",
    "weather = weather.append(weather_2019)"
   ]
  },
  {
   "cell_type": "code",
   "execution_count": 89,
   "metadata": {
    "ExecuteTime": {
     "end_time": "2019-12-03T17:53:09.508317Z",
     "start_time": "2019-12-03T17:53:09.469321Z"
    }
   },
   "outputs": [],
   "source": [
    "weather.drop(columns=['latitude', 'longitude', 'timezone', 'type', 'summary', 'icon'], inplace=True)"
   ]
  },
  {
   "cell_type": "code",
   "execution_count": 90,
   "metadata": {
    "ExecuteTime": {
     "end_time": "2019-12-03T17:53:09.543326Z",
     "start_time": "2019-12-03T17:53:09.512321Z"
    }
   },
   "outputs": [],
   "source": [
    "weather['time'] = pd.to_datetime(weather['time'])"
   ]
  },
  {
   "cell_type": "code",
   "execution_count": 91,
   "metadata": {
    "ExecuteTime": {
     "end_time": "2019-12-03T17:53:09.627318Z",
     "start_time": "2019-12-03T17:53:09.546319Z"
    }
   },
   "outputs": [],
   "source": [
    "weather.drop_duplicates(inplace=True)"
   ]
  },
  {
   "cell_type": "code",
   "execution_count": 92,
   "metadata": {
    "ExecuteTime": {
     "end_time": "2019-12-03T17:53:09.654318Z",
     "start_time": "2019-12-03T17:53:09.632319Z"
    }
   },
   "outputs": [],
   "source": [
    "weather.sort_values(by='time', inplace=True)\n",
    "weather.index = weather['time']\n",
    "weather.drop(columns='time', inplace=True)"
   ]
  },
  {
   "cell_type": "code",
   "execution_count": 93,
   "metadata": {
    "ExecuteTime": {
     "end_time": "2019-12-03T17:53:14.256328Z",
     "start_time": "2019-12-03T17:53:09.658319Z"
    }
   },
   "outputs": [],
   "source": [
    "weather.interpolate(method='time', axis=0, inplace=True)"
   ]
  },
  {
   "cell_type": "code",
   "execution_count": 94,
   "metadata": {
    "ExecuteTime": {
     "end_time": "2019-12-03T17:53:14.280332Z",
     "start_time": "2019-12-03T17:53:14.259332Z"
    }
   },
   "outputs": [],
   "source": [
    "# inspected nearby values to confirm this was appropriate\n",
    "weather.loc[(weather['precipType'] == 'none') &\n",
    "            (weather['precipIntensity'] > 0), ['precipType']] = 'rain'"
   ]
  },
  {
   "cell_type": "code",
   "execution_count": 95,
   "metadata": {
    "ExecuteTime": {
     "end_time": "2019-12-03T17:53:14.311339Z",
     "start_time": "2019-12-03T17:53:14.284334Z"
    }
   },
   "outputs": [
    {
     "name": "stdout",
     "output_type": "stream",
     "text": [
      "<class 'pandas.core.frame.DataFrame'>\n",
      "DatetimeIndex: 42833 entries, 2015-01-01 05:00:00 to 2019-11-22 04:00:00\n",
      "Data columns (total 14 columns):\n",
      "precipIntensity        42833 non-null float64\n",
      "precipProbability      42833 non-null float64\n",
      "precipType             42833 non-null object\n",
      "temperature            42833 non-null float64\n",
      "apparentTemperature    42833 non-null float64\n",
      "dewPoint               42833 non-null float64\n",
      "humidity               42833 non-null float64\n",
      "pressure               42833 non-null float64\n",
      "windSpeed              42833 non-null float64\n",
      "windGust               42833 non-null float64\n",
      "windBearing            42833 non-null float64\n",
      "cloudCover             42833 non-null float64\n",
      "uvIndex                42833 non-null float64\n",
      "visibility             42833 non-null float64\n",
      "dtypes: float64(13), object(1)\n",
      "memory usage: 4.9+ MB\n"
     ]
    }
   ],
   "source": [
    "weather.info()"
   ]
  },
  {
   "cell_type": "code",
   "execution_count": 96,
   "metadata": {
    "ExecuteTime": {
     "end_time": "2019-12-03T17:53:14.352334Z",
     "start_time": "2019-12-03T17:53:14.315332Z"
    }
   },
   "outputs": [
    {
     "data": {
      "text/html": [
       "<div>\n",
       "<style scoped>\n",
       "    .dataframe tbody tr th:only-of-type {\n",
       "        vertical-align: middle;\n",
       "    }\n",
       "\n",
       "    .dataframe tbody tr th {\n",
       "        vertical-align: top;\n",
       "    }\n",
       "\n",
       "    .dataframe thead th {\n",
       "        text-align: right;\n",
       "    }\n",
       "</style>\n",
       "<table border=\"1\" class=\"dataframe\">\n",
       "  <thead>\n",
       "    <tr style=\"text-align: right;\">\n",
       "      <th></th>\n",
       "      <th>precipIntensity</th>\n",
       "      <th>precipProbability</th>\n",
       "      <th>precipType</th>\n",
       "      <th>temperature</th>\n",
       "      <th>apparentTemperature</th>\n",
       "      <th>dewPoint</th>\n",
       "      <th>humidity</th>\n",
       "      <th>pressure</th>\n",
       "      <th>windSpeed</th>\n",
       "      <th>windGust</th>\n",
       "      <th>windBearing</th>\n",
       "      <th>cloudCover</th>\n",
       "      <th>uvIndex</th>\n",
       "      <th>visibility</th>\n",
       "    </tr>\n",
       "    <tr>\n",
       "      <th>time</th>\n",
       "      <th></th>\n",
       "      <th></th>\n",
       "      <th></th>\n",
       "      <th></th>\n",
       "      <th></th>\n",
       "      <th></th>\n",
       "      <th></th>\n",
       "      <th></th>\n",
       "      <th></th>\n",
       "      <th></th>\n",
       "      <th></th>\n",
       "      <th></th>\n",
       "      <th></th>\n",
       "      <th></th>\n",
       "    </tr>\n",
       "  </thead>\n",
       "  <tbody>\n",
       "    <tr>\n",
       "      <th>2015-01-01 05:00:00</th>\n",
       "      <td>0.0</td>\n",
       "      <td>0.0</td>\n",
       "      <td>none</td>\n",
       "      <td>23.90</td>\n",
       "      <td>23.90</td>\n",
       "      <td>15.19</td>\n",
       "      <td>0.69</td>\n",
       "      <td>1024.4</td>\n",
       "      <td>0.03</td>\n",
       "      <td>0.29</td>\n",
       "      <td>262.0</td>\n",
       "      <td>0.00</td>\n",
       "      <td>0.0</td>\n",
       "      <td>7.884</td>\n",
       "    </tr>\n",
       "    <tr>\n",
       "      <th>2015-01-01 06:00:00</th>\n",
       "      <td>0.0</td>\n",
       "      <td>0.0</td>\n",
       "      <td>none</td>\n",
       "      <td>23.37</td>\n",
       "      <td>23.37</td>\n",
       "      <td>15.27</td>\n",
       "      <td>0.71</td>\n",
       "      <td>1024.4</td>\n",
       "      <td>0.05</td>\n",
       "      <td>0.72</td>\n",
       "      <td>270.0</td>\n",
       "      <td>0.08</td>\n",
       "      <td>0.0</td>\n",
       "      <td>8.251</td>\n",
       "    </tr>\n",
       "    <tr>\n",
       "      <th>2015-01-01 07:00:00</th>\n",
       "      <td>0.0</td>\n",
       "      <td>0.0</td>\n",
       "      <td>none</td>\n",
       "      <td>23.16</td>\n",
       "      <td>23.16</td>\n",
       "      <td>15.19</td>\n",
       "      <td>0.71</td>\n",
       "      <td>1024.1</td>\n",
       "      <td>0.12</td>\n",
       "      <td>0.31</td>\n",
       "      <td>183.0</td>\n",
       "      <td>0.00</td>\n",
       "      <td>0.0</td>\n",
       "      <td>8.036</td>\n",
       "    </tr>\n",
       "    <tr>\n",
       "      <th>2015-01-01 08:00:00</th>\n",
       "      <td>0.0</td>\n",
       "      <td>0.0</td>\n",
       "      <td>none</td>\n",
       "      <td>23.29</td>\n",
       "      <td>23.29</td>\n",
       "      <td>14.54</td>\n",
       "      <td>0.69</td>\n",
       "      <td>1023.9</td>\n",
       "      <td>0.17</td>\n",
       "      <td>0.46</td>\n",
       "      <td>199.0</td>\n",
       "      <td>0.00</td>\n",
       "      <td>0.0</td>\n",
       "      <td>9.140</td>\n",
       "    </tr>\n",
       "    <tr>\n",
       "      <th>2015-01-01 09:00:00</th>\n",
       "      <td>0.0</td>\n",
       "      <td>0.0</td>\n",
       "      <td>none</td>\n",
       "      <td>24.12</td>\n",
       "      <td>24.12</td>\n",
       "      <td>14.04</td>\n",
       "      <td>0.65</td>\n",
       "      <td>1023.3</td>\n",
       "      <td>0.28</td>\n",
       "      <td>1.29</td>\n",
       "      <td>208.0</td>\n",
       "      <td>0.00</td>\n",
       "      <td>0.0</td>\n",
       "      <td>8.279</td>\n",
       "    </tr>\n",
       "  </tbody>\n",
       "</table>\n",
       "</div>"
      ],
      "text/plain": [
       "                     precipIntensity  precipProbability precipType  \\\n",
       "time                                                                 \n",
       "2015-01-01 05:00:00              0.0                0.0       none   \n",
       "2015-01-01 06:00:00              0.0                0.0       none   \n",
       "2015-01-01 07:00:00              0.0                0.0       none   \n",
       "2015-01-01 08:00:00              0.0                0.0       none   \n",
       "2015-01-01 09:00:00              0.0                0.0       none   \n",
       "\n",
       "                     temperature  apparentTemperature  dewPoint  humidity  \\\n",
       "time                                                                        \n",
       "2015-01-01 05:00:00        23.90                23.90     15.19      0.69   \n",
       "2015-01-01 06:00:00        23.37                23.37     15.27      0.71   \n",
       "2015-01-01 07:00:00        23.16                23.16     15.19      0.71   \n",
       "2015-01-01 08:00:00        23.29                23.29     14.54      0.69   \n",
       "2015-01-01 09:00:00        24.12                24.12     14.04      0.65   \n",
       "\n",
       "                     pressure  windSpeed  windGust  windBearing  cloudCover  \\\n",
       "time                                                                          \n",
       "2015-01-01 05:00:00    1024.4       0.03      0.29        262.0        0.00   \n",
       "2015-01-01 06:00:00    1024.4       0.05      0.72        270.0        0.08   \n",
       "2015-01-01 07:00:00    1024.1       0.12      0.31        183.0        0.00   \n",
       "2015-01-01 08:00:00    1023.9       0.17      0.46        199.0        0.00   \n",
       "2015-01-01 09:00:00    1023.3       0.28      1.29        208.0        0.00   \n",
       "\n",
       "                     uvIndex  visibility  \n",
       "time                                      \n",
       "2015-01-01 05:00:00      0.0       7.884  \n",
       "2015-01-01 06:00:00      0.0       8.251  \n",
       "2015-01-01 07:00:00      0.0       8.036  \n",
       "2015-01-01 08:00:00      0.0       9.140  \n",
       "2015-01-01 09:00:00      0.0       8.279  "
      ]
     },
     "execution_count": 96,
     "metadata": {},
     "output_type": "execute_result"
    }
   ],
   "source": [
    "weather.head()"
   ]
  },
  {
   "cell_type": "code",
   "execution_count": 97,
   "metadata": {
    "ExecuteTime": {
     "end_time": "2019-12-03T17:53:14.393332Z",
     "start_time": "2019-12-03T17:53:14.359334Z"
    }
   },
   "outputs": [],
   "source": [
    "data_df = data_df.merge(weather, how='left', left_index=True, right_index=True)"
   ]
  },
  {
   "cell_type": "code",
   "execution_count": 98,
   "metadata": {
    "ExecuteTime": {
     "end_time": "2019-12-03T17:53:18.948725Z",
     "start_time": "2019-12-03T17:53:14.396334Z"
    }
   },
   "outputs": [],
   "source": [
    "data_df.interpolate(method='time', axis=0, inplace=True)"
   ]
  },
  {
   "cell_type": "code",
   "execution_count": 99,
   "metadata": {
    "ExecuteTime": {
     "end_time": "2019-12-03T17:53:18.971727Z",
     "start_time": "2019-12-03T17:53:18.951726Z"
    }
   },
   "outputs": [],
   "source": [
    "data_df.loc[(data_df['precipType'].isna()) &\n",
    "            (data_df['precipIntensity'] == 0), ['precipType']] = 'none'"
   ]
  },
  {
   "cell_type": "code",
   "execution_count": 100,
   "metadata": {
    "ExecuteTime": {
     "end_time": "2019-12-03T17:53:18.994728Z",
     "start_time": "2019-12-03T17:53:18.978728Z"
    }
   },
   "outputs": [],
   "source": [
    "# inspected nearby values to confirm this was appropriate\n",
    "data_df.loc[(data_df['precipType'].isna()) &\n",
    "            (data_df['precipIntensity'] > 0), ['precipType']] = 'rain'"
   ]
  },
  {
   "cell_type": "code",
   "execution_count": 101,
   "metadata": {
    "ExecuteTime": {
     "end_time": "2019-12-03T17:53:19.035727Z",
     "start_time": "2019-12-03T17:53:18.997726Z"
    }
   },
   "outputs": [
    {
     "name": "stdout",
     "output_type": "stream",
     "text": [
      "<class 'pandas.core.frame.DataFrame'>\n",
      "DatetimeIndex: 34080 entries, 2016-01-01 05:00:00 to 2019-11-21 04:00:00\n",
      "Data columns (total 47 columns):\n",
      "datetime_beginning_ept         34080 non-null datetime64[ns]\n",
      "pnode_id                       34080 non-null int64\n",
      "pnode_name                     34080 non-null object\n",
      "system_energy_price_rt         34080 non-null float64\n",
      "total_lmp_rt                   34080 non-null float64\n",
      "congestion_price_rt            34080 non-null float64\n",
      "marginal_loss_price_rt         34080 non-null float64\n",
      "system_energy_price_da         34080 non-null float64\n",
      "total_lmp_da                   34080 non-null float64\n",
      "congestion_price_da            34080 non-null float64\n",
      "marginal_loss_price_da         34080 non-null float64\n",
      "pepco_mw                       34080 non-null float64\n",
      "midatl_mw                      34080 non-null float64\n",
      "evaluated_at_utc               34080 non-null datetime64[ns]\n",
      "evaluated_at_ept               34080 non-null datetime64[ns]\n",
      "midatl_forecast_load_mw        34080 non-null int64\n",
      "apsouth_flow_mw                34080 non-null float64\n",
      "apsouth_limit_mw               34080 non-null float64\n",
      "bcpep_flow_mw                  34080 non-null float64\n",
      "bcpep_limit_mw                 34080 non-null float64\n",
      "bed_bla_flow_mw                34080 non-null float64\n",
      "bed_bla_limit_mw               34080 non-null float64\n",
      "central_flow_mw                34080 non-null float64\n",
      "central_limit_mw               34080 non-null float64\n",
      "east_flow_mw                   34080 non-null float64\n",
      "east_limit_mw                  34080 non-null float64\n",
      "west_flow_mw                   34080 non-null float64\n",
      "west_limit_mw                  34080 non-null float64\n",
      "outage_frcst_execution_date    34061 non-null datetime64[ns]\n",
      "total_outages_mw               34061 non-null float64\n",
      "planned_outages_mw             34061 non-null float64\n",
      "maintenance_outages_mw         34061 non-null float64\n",
      "forced_outages_mw              34061 non-null float64\n",
      "precipIntensity                34080 non-null float64\n",
      "precipProbability              34080 non-null float64\n",
      "precipType                     34080 non-null object\n",
      "temperature                    34080 non-null float64\n",
      "apparentTemperature            34080 non-null float64\n",
      "dewPoint                       34080 non-null float64\n",
      "humidity                       34080 non-null float64\n",
      "pressure                       34080 non-null float64\n",
      "windSpeed                      34080 non-null float64\n",
      "windGust                       34080 non-null float64\n",
      "windBearing                    34080 non-null float64\n",
      "cloudCover                     34080 non-null float64\n",
      "uvIndex                        34080 non-null float64\n",
      "visibility                     34080 non-null float64\n",
      "dtypes: datetime64[ns](4), float64(39), int64(2), object(2)\n",
      "memory usage: 13.7+ MB\n"
     ]
    }
   ],
   "source": [
    "data_df.info()"
   ]
  },
  {
   "cell_type": "code",
   "execution_count": 102,
   "metadata": {
    "ExecuteTime": {
     "end_time": "2019-12-03T17:53:19.045726Z",
     "start_time": "2019-12-03T17:53:19.039728Z"
    }
   },
   "outputs": [],
   "source": [
    "# sun data"
   ]
  },
  {
   "cell_type": "code",
   "execution_count": 103,
   "metadata": {
    "ExecuteTime": {
     "end_time": "2019-12-03T17:53:19.067724Z",
     "start_time": "2019-12-03T17:53:19.049728Z"
    }
   },
   "outputs": [],
   "source": [
    "sun_time_data = pd.read_csv('data/sunset_sunrise_2015-2020.csv')"
   ]
  },
  {
   "cell_type": "code",
   "execution_count": 104,
   "metadata": {
    "ExecuteTime": {
     "end_time": "2019-12-03T17:53:19.077728Z",
     "start_time": "2019-12-03T17:53:19.070727Z"
    }
   },
   "outputs": [],
   "source": [
    "sun_time_data.drop(columns=['solar_noon_lst', 'sunlight_duration_mins'], inplace=True)"
   ]
  },
  {
   "cell_type": "code",
   "execution_count": 105,
   "metadata": {
    "ExecuteTime": {
     "end_time": "2019-12-03T17:53:19.096731Z",
     "start_time": "2019-12-03T17:53:19.081728Z"
    }
   },
   "outputs": [],
   "source": [
    "sun_time_data['sunrise_datetime_lst'] = sun_time_data['date']+' '+sun_time_data['sunrise_time_lst']\n",
    "sun_time_data['sunset_datetime_lst'] = sun_time_data['date']+' '+sun_time_data['sunset_time_lst']"
   ]
  },
  {
   "cell_type": "code",
   "execution_count": 106,
   "metadata": {
    "ExecuteTime": {
     "end_time": "2019-12-03T17:53:20.127727Z",
     "start_time": "2019-12-03T17:53:19.100727Z"
    }
   },
   "outputs": [],
   "source": [
    "sun_time_data['date'] = pd.to_datetime(sun_time_data['date'])\n",
    "sun_time_data['sunrise_datetime_lst'] = pd.to_datetime(sun_time_data['sunrise_datetime_lst'])\n",
    "sun_time_data['sunset_datetime_lst'] = pd.to_datetime(sun_time_data['sunset_datetime_lst'])"
   ]
  },
  {
   "cell_type": "code",
   "execution_count": 107,
   "metadata": {
    "ExecuteTime": {
     "end_time": "2019-12-03T17:53:20.145729Z",
     "start_time": "2019-12-03T17:53:20.129726Z"
    }
   },
   "outputs": [],
   "source": [
    "sun_time_data['utc_offset'] = pd.Timedelta('0 days 05:00:00')\n",
    "sun_time_data['sunrise_datetime_utc'] = sun_time_data['sunrise_datetime_lst'] + sun_time_data['utc_offset']\n",
    "sun_time_data['sunset_datetime_utc'] = sun_time_data['sunset_datetime_lst'] + sun_time_data['utc_offset']"
   ]
  },
  {
   "cell_type": "code",
   "execution_count": 108,
   "metadata": {
    "ExecuteTime": {
     "end_time": "2019-12-03T17:53:20.157730Z",
     "start_time": "2019-12-03T17:53:20.149726Z"
    }
   },
   "outputs": [],
   "source": [
    "sun_time_data = sun_time_data[['date', 'sunrise_datetime_utc', 'sunset_datetime_utc']]"
   ]
  },
  {
   "cell_type": "code",
   "execution_count": 109,
   "metadata": {
    "ExecuteTime": {
     "end_time": "2019-12-03T17:53:20.169732Z",
     "start_time": "2019-12-03T17:53:20.162727Z"
    }
   },
   "outputs": [],
   "source": [
    "sun_time_data.index = sun_time_data['date']\n",
    "sun_time_data.drop(columns=['date'], inplace=True)"
   ]
  },
  {
   "cell_type": "code",
   "execution_count": 110,
   "metadata": {
    "ExecuteTime": {
     "end_time": "2019-12-03T17:53:20.185727Z",
     "start_time": "2019-12-03T17:53:20.173729Z"
    }
   },
   "outputs": [],
   "source": [
    "sun_time_data = sun_time_data.resample('H').pad()"
   ]
  },
  {
   "cell_type": "code",
   "execution_count": 111,
   "metadata": {
    "ExecuteTime": {
     "end_time": "2019-12-03T17:53:20.233728Z",
     "start_time": "2019-12-03T17:53:20.188727Z"
    }
   },
   "outputs": [
    {
     "data": {
      "text/html": [
       "<div>\n",
       "<style scoped>\n",
       "    .dataframe tbody tr th:only-of-type {\n",
       "        vertical-align: middle;\n",
       "    }\n",
       "\n",
       "    .dataframe tbody tr th {\n",
       "        vertical-align: top;\n",
       "    }\n",
       "\n",
       "    .dataframe thead th {\n",
       "        text-align: right;\n",
       "    }\n",
       "</style>\n",
       "<table border=\"1\" class=\"dataframe\">\n",
       "  <thead>\n",
       "    <tr style=\"text-align: right;\">\n",
       "      <th></th>\n",
       "      <th>sunrise_datetime_utc</th>\n",
       "      <th>sunset_datetime_utc</th>\n",
       "    </tr>\n",
       "    <tr>\n",
       "      <th>date</th>\n",
       "      <th></th>\n",
       "      <th></th>\n",
       "    </tr>\n",
       "  </thead>\n",
       "  <tbody>\n",
       "    <tr>\n",
       "      <th>2020-12-22 17:00:00</th>\n",
       "      <td>2020-12-22 12:23:49</td>\n",
       "      <td>2020-12-22 21:50:18</td>\n",
       "    </tr>\n",
       "    <tr>\n",
       "      <th>2020-12-22 18:00:00</th>\n",
       "      <td>2020-12-22 12:23:49</td>\n",
       "      <td>2020-12-22 21:50:18</td>\n",
       "    </tr>\n",
       "    <tr>\n",
       "      <th>2020-12-22 19:00:00</th>\n",
       "      <td>2020-12-22 12:23:49</td>\n",
       "      <td>2020-12-22 21:50:18</td>\n",
       "    </tr>\n",
       "    <tr>\n",
       "      <th>2020-12-22 20:00:00</th>\n",
       "      <td>2020-12-22 12:23:49</td>\n",
       "      <td>2020-12-22 21:50:18</td>\n",
       "    </tr>\n",
       "    <tr>\n",
       "      <th>2020-12-22 21:00:00</th>\n",
       "      <td>2020-12-22 12:23:49</td>\n",
       "      <td>2020-12-22 21:50:18</td>\n",
       "    </tr>\n",
       "    <tr>\n",
       "      <th>2020-12-22 22:00:00</th>\n",
       "      <td>2020-12-22 12:23:49</td>\n",
       "      <td>2020-12-22 21:50:18</td>\n",
       "    </tr>\n",
       "    <tr>\n",
       "      <th>2020-12-22 23:00:00</th>\n",
       "      <td>2020-12-22 12:23:49</td>\n",
       "      <td>2020-12-22 21:50:18</td>\n",
       "    </tr>\n",
       "    <tr>\n",
       "      <th>2020-12-23 00:00:00</th>\n",
       "      <td>2020-12-23 12:24:15</td>\n",
       "      <td>2020-12-23 21:50:51</td>\n",
       "    </tr>\n",
       "    <tr>\n",
       "      <th>2020-12-23 01:00:00</th>\n",
       "      <td>2020-12-23 12:24:15</td>\n",
       "      <td>2020-12-23 21:50:51</td>\n",
       "    </tr>\n",
       "    <tr>\n",
       "      <th>2020-12-23 02:00:00</th>\n",
       "      <td>2020-12-23 12:24:15</td>\n",
       "      <td>2020-12-23 21:50:51</td>\n",
       "    </tr>\n",
       "    <tr>\n",
       "      <th>2020-12-23 03:00:00</th>\n",
       "      <td>2020-12-23 12:24:15</td>\n",
       "      <td>2020-12-23 21:50:51</td>\n",
       "    </tr>\n",
       "    <tr>\n",
       "      <th>2020-12-23 04:00:00</th>\n",
       "      <td>2020-12-23 12:24:15</td>\n",
       "      <td>2020-12-23 21:50:51</td>\n",
       "    </tr>\n",
       "    <tr>\n",
       "      <th>2020-12-23 05:00:00</th>\n",
       "      <td>2020-12-23 12:24:15</td>\n",
       "      <td>2020-12-23 21:50:51</td>\n",
       "    </tr>\n",
       "    <tr>\n",
       "      <th>2020-12-23 06:00:00</th>\n",
       "      <td>2020-12-23 12:24:15</td>\n",
       "      <td>2020-12-23 21:50:51</td>\n",
       "    </tr>\n",
       "    <tr>\n",
       "      <th>2020-12-23 07:00:00</th>\n",
       "      <td>2020-12-23 12:24:15</td>\n",
       "      <td>2020-12-23 21:50:51</td>\n",
       "    </tr>\n",
       "    <tr>\n",
       "      <th>2020-12-23 08:00:00</th>\n",
       "      <td>2020-12-23 12:24:15</td>\n",
       "      <td>2020-12-23 21:50:51</td>\n",
       "    </tr>\n",
       "    <tr>\n",
       "      <th>2020-12-23 09:00:00</th>\n",
       "      <td>2020-12-23 12:24:15</td>\n",
       "      <td>2020-12-23 21:50:51</td>\n",
       "    </tr>\n",
       "    <tr>\n",
       "      <th>2020-12-23 10:00:00</th>\n",
       "      <td>2020-12-23 12:24:15</td>\n",
       "      <td>2020-12-23 21:50:51</td>\n",
       "    </tr>\n",
       "    <tr>\n",
       "      <th>2020-12-23 11:00:00</th>\n",
       "      <td>2020-12-23 12:24:15</td>\n",
       "      <td>2020-12-23 21:50:51</td>\n",
       "    </tr>\n",
       "    <tr>\n",
       "      <th>2020-12-23 12:00:00</th>\n",
       "      <td>2020-12-23 12:24:15</td>\n",
       "      <td>2020-12-23 21:50:51</td>\n",
       "    </tr>\n",
       "    <tr>\n",
       "      <th>2020-12-23 13:00:00</th>\n",
       "      <td>2020-12-23 12:24:15</td>\n",
       "      <td>2020-12-23 21:50:51</td>\n",
       "    </tr>\n",
       "    <tr>\n",
       "      <th>2020-12-23 14:00:00</th>\n",
       "      <td>2020-12-23 12:24:15</td>\n",
       "      <td>2020-12-23 21:50:51</td>\n",
       "    </tr>\n",
       "    <tr>\n",
       "      <th>2020-12-23 15:00:00</th>\n",
       "      <td>2020-12-23 12:24:15</td>\n",
       "      <td>2020-12-23 21:50:51</td>\n",
       "    </tr>\n",
       "    <tr>\n",
       "      <th>2020-12-23 16:00:00</th>\n",
       "      <td>2020-12-23 12:24:15</td>\n",
       "      <td>2020-12-23 21:50:51</td>\n",
       "    </tr>\n",
       "    <tr>\n",
       "      <th>2020-12-23 17:00:00</th>\n",
       "      <td>2020-12-23 12:24:15</td>\n",
       "      <td>2020-12-23 21:50:51</td>\n",
       "    </tr>\n",
       "    <tr>\n",
       "      <th>2020-12-23 18:00:00</th>\n",
       "      <td>2020-12-23 12:24:15</td>\n",
       "      <td>2020-12-23 21:50:51</td>\n",
       "    </tr>\n",
       "    <tr>\n",
       "      <th>2020-12-23 19:00:00</th>\n",
       "      <td>2020-12-23 12:24:15</td>\n",
       "      <td>2020-12-23 21:50:51</td>\n",
       "    </tr>\n",
       "    <tr>\n",
       "      <th>2020-12-23 20:00:00</th>\n",
       "      <td>2020-12-23 12:24:15</td>\n",
       "      <td>2020-12-23 21:50:51</td>\n",
       "    </tr>\n",
       "    <tr>\n",
       "      <th>2020-12-23 21:00:00</th>\n",
       "      <td>2020-12-23 12:24:15</td>\n",
       "      <td>2020-12-23 21:50:51</td>\n",
       "    </tr>\n",
       "    <tr>\n",
       "      <th>2020-12-23 22:00:00</th>\n",
       "      <td>2020-12-23 12:24:15</td>\n",
       "      <td>2020-12-23 21:50:51</td>\n",
       "    </tr>\n",
       "    <tr>\n",
       "      <th>2020-12-23 23:00:00</th>\n",
       "      <td>2020-12-23 12:24:15</td>\n",
       "      <td>2020-12-23 21:50:51</td>\n",
       "    </tr>\n",
       "    <tr>\n",
       "      <th>2020-12-24 00:00:00</th>\n",
       "      <td>2020-12-24 12:24:39</td>\n",
       "      <td>2020-12-24 21:51:26</td>\n",
       "    </tr>\n",
       "    <tr>\n",
       "      <th>2020-12-24 01:00:00</th>\n",
       "      <td>2020-12-24 12:24:39</td>\n",
       "      <td>2020-12-24 21:51:26</td>\n",
       "    </tr>\n",
       "    <tr>\n",
       "      <th>2020-12-24 02:00:00</th>\n",
       "      <td>2020-12-24 12:24:39</td>\n",
       "      <td>2020-12-24 21:51:26</td>\n",
       "    </tr>\n",
       "    <tr>\n",
       "      <th>2020-12-24 03:00:00</th>\n",
       "      <td>2020-12-24 12:24:39</td>\n",
       "      <td>2020-12-24 21:51:26</td>\n",
       "    </tr>\n",
       "    <tr>\n",
       "      <th>2020-12-24 04:00:00</th>\n",
       "      <td>2020-12-24 12:24:39</td>\n",
       "      <td>2020-12-24 21:51:26</td>\n",
       "    </tr>\n",
       "    <tr>\n",
       "      <th>2020-12-24 05:00:00</th>\n",
       "      <td>2020-12-24 12:24:39</td>\n",
       "      <td>2020-12-24 21:51:26</td>\n",
       "    </tr>\n",
       "    <tr>\n",
       "      <th>2020-12-24 06:00:00</th>\n",
       "      <td>2020-12-24 12:24:39</td>\n",
       "      <td>2020-12-24 21:51:26</td>\n",
       "    </tr>\n",
       "    <tr>\n",
       "      <th>2020-12-24 07:00:00</th>\n",
       "      <td>2020-12-24 12:24:39</td>\n",
       "      <td>2020-12-24 21:51:26</td>\n",
       "    </tr>\n",
       "    <tr>\n",
       "      <th>2020-12-24 08:00:00</th>\n",
       "      <td>2020-12-24 12:24:39</td>\n",
       "      <td>2020-12-24 21:51:26</td>\n",
       "    </tr>\n",
       "    <tr>\n",
       "      <th>2020-12-24 09:00:00</th>\n",
       "      <td>2020-12-24 12:24:39</td>\n",
       "      <td>2020-12-24 21:51:26</td>\n",
       "    </tr>\n",
       "    <tr>\n",
       "      <th>2020-12-24 10:00:00</th>\n",
       "      <td>2020-12-24 12:24:39</td>\n",
       "      <td>2020-12-24 21:51:26</td>\n",
       "    </tr>\n",
       "    <tr>\n",
       "      <th>2020-12-24 11:00:00</th>\n",
       "      <td>2020-12-24 12:24:39</td>\n",
       "      <td>2020-12-24 21:51:26</td>\n",
       "    </tr>\n",
       "    <tr>\n",
       "      <th>2020-12-24 12:00:00</th>\n",
       "      <td>2020-12-24 12:24:39</td>\n",
       "      <td>2020-12-24 21:51:26</td>\n",
       "    </tr>\n",
       "    <tr>\n",
       "      <th>2020-12-24 13:00:00</th>\n",
       "      <td>2020-12-24 12:24:39</td>\n",
       "      <td>2020-12-24 21:51:26</td>\n",
       "    </tr>\n",
       "    <tr>\n",
       "      <th>2020-12-24 14:00:00</th>\n",
       "      <td>2020-12-24 12:24:39</td>\n",
       "      <td>2020-12-24 21:51:26</td>\n",
       "    </tr>\n",
       "    <tr>\n",
       "      <th>2020-12-24 15:00:00</th>\n",
       "      <td>2020-12-24 12:24:39</td>\n",
       "      <td>2020-12-24 21:51:26</td>\n",
       "    </tr>\n",
       "    <tr>\n",
       "      <th>2020-12-24 16:00:00</th>\n",
       "      <td>2020-12-24 12:24:39</td>\n",
       "      <td>2020-12-24 21:51:26</td>\n",
       "    </tr>\n",
       "    <tr>\n",
       "      <th>2020-12-24 17:00:00</th>\n",
       "      <td>2020-12-24 12:24:39</td>\n",
       "      <td>2020-12-24 21:51:26</td>\n",
       "    </tr>\n",
       "    <tr>\n",
       "      <th>2020-12-24 18:00:00</th>\n",
       "      <td>2020-12-24 12:24:39</td>\n",
       "      <td>2020-12-24 21:51:26</td>\n",
       "    </tr>\n",
       "    <tr>\n",
       "      <th>2020-12-24 19:00:00</th>\n",
       "      <td>2020-12-24 12:24:39</td>\n",
       "      <td>2020-12-24 21:51:26</td>\n",
       "    </tr>\n",
       "    <tr>\n",
       "      <th>2020-12-24 20:00:00</th>\n",
       "      <td>2020-12-24 12:24:39</td>\n",
       "      <td>2020-12-24 21:51:26</td>\n",
       "    </tr>\n",
       "    <tr>\n",
       "      <th>2020-12-24 21:00:00</th>\n",
       "      <td>2020-12-24 12:24:39</td>\n",
       "      <td>2020-12-24 21:51:26</td>\n",
       "    </tr>\n",
       "    <tr>\n",
       "      <th>2020-12-24 22:00:00</th>\n",
       "      <td>2020-12-24 12:24:39</td>\n",
       "      <td>2020-12-24 21:51:26</td>\n",
       "    </tr>\n",
       "    <tr>\n",
       "      <th>2020-12-24 23:00:00</th>\n",
       "      <td>2020-12-24 12:24:39</td>\n",
       "      <td>2020-12-24 21:51:26</td>\n",
       "    </tr>\n",
       "    <tr>\n",
       "      <th>2020-12-25 00:00:00</th>\n",
       "      <td>2020-12-25 12:25:02</td>\n",
       "      <td>2020-12-25 21:52:03</td>\n",
       "    </tr>\n",
       "    <tr>\n",
       "      <th>2020-12-25 01:00:00</th>\n",
       "      <td>2020-12-25 12:25:02</td>\n",
       "      <td>2020-12-25 21:52:03</td>\n",
       "    </tr>\n",
       "    <tr>\n",
       "      <th>2020-12-25 02:00:00</th>\n",
       "      <td>2020-12-25 12:25:02</td>\n",
       "      <td>2020-12-25 21:52:03</td>\n",
       "    </tr>\n",
       "    <tr>\n",
       "      <th>2020-12-25 03:00:00</th>\n",
       "      <td>2020-12-25 12:25:02</td>\n",
       "      <td>2020-12-25 21:52:03</td>\n",
       "    </tr>\n",
       "    <tr>\n",
       "      <th>2020-12-25 04:00:00</th>\n",
       "      <td>2020-12-25 12:25:02</td>\n",
       "      <td>2020-12-25 21:52:03</td>\n",
       "    </tr>\n",
       "    <tr>\n",
       "      <th>2020-12-25 05:00:00</th>\n",
       "      <td>2020-12-25 12:25:02</td>\n",
       "      <td>2020-12-25 21:52:03</td>\n",
       "    </tr>\n",
       "    <tr>\n",
       "      <th>2020-12-25 06:00:00</th>\n",
       "      <td>2020-12-25 12:25:02</td>\n",
       "      <td>2020-12-25 21:52:03</td>\n",
       "    </tr>\n",
       "    <tr>\n",
       "      <th>2020-12-25 07:00:00</th>\n",
       "      <td>2020-12-25 12:25:02</td>\n",
       "      <td>2020-12-25 21:52:03</td>\n",
       "    </tr>\n",
       "    <tr>\n",
       "      <th>2020-12-25 08:00:00</th>\n",
       "      <td>2020-12-25 12:25:02</td>\n",
       "      <td>2020-12-25 21:52:03</td>\n",
       "    </tr>\n",
       "    <tr>\n",
       "      <th>2020-12-25 09:00:00</th>\n",
       "      <td>2020-12-25 12:25:02</td>\n",
       "      <td>2020-12-25 21:52:03</td>\n",
       "    </tr>\n",
       "    <tr>\n",
       "      <th>2020-12-25 10:00:00</th>\n",
       "      <td>2020-12-25 12:25:02</td>\n",
       "      <td>2020-12-25 21:52:03</td>\n",
       "    </tr>\n",
       "    <tr>\n",
       "      <th>2020-12-25 11:00:00</th>\n",
       "      <td>2020-12-25 12:25:02</td>\n",
       "      <td>2020-12-25 21:52:03</td>\n",
       "    </tr>\n",
       "    <tr>\n",
       "      <th>2020-12-25 12:00:00</th>\n",
       "      <td>2020-12-25 12:25:02</td>\n",
       "      <td>2020-12-25 21:52:03</td>\n",
       "    </tr>\n",
       "    <tr>\n",
       "      <th>2020-12-25 13:00:00</th>\n",
       "      <td>2020-12-25 12:25:02</td>\n",
       "      <td>2020-12-25 21:52:03</td>\n",
       "    </tr>\n",
       "    <tr>\n",
       "      <th>2020-12-25 14:00:00</th>\n",
       "      <td>2020-12-25 12:25:02</td>\n",
       "      <td>2020-12-25 21:52:03</td>\n",
       "    </tr>\n",
       "    <tr>\n",
       "      <th>2020-12-25 15:00:00</th>\n",
       "      <td>2020-12-25 12:25:02</td>\n",
       "      <td>2020-12-25 21:52:03</td>\n",
       "    </tr>\n",
       "    <tr>\n",
       "      <th>2020-12-25 16:00:00</th>\n",
       "      <td>2020-12-25 12:25:02</td>\n",
       "      <td>2020-12-25 21:52:03</td>\n",
       "    </tr>\n",
       "    <tr>\n",
       "      <th>2020-12-25 17:00:00</th>\n",
       "      <td>2020-12-25 12:25:02</td>\n",
       "      <td>2020-12-25 21:52:03</td>\n",
       "    </tr>\n",
       "    <tr>\n",
       "      <th>2020-12-25 18:00:00</th>\n",
       "      <td>2020-12-25 12:25:02</td>\n",
       "      <td>2020-12-25 21:52:03</td>\n",
       "    </tr>\n",
       "    <tr>\n",
       "      <th>2020-12-25 19:00:00</th>\n",
       "      <td>2020-12-25 12:25:02</td>\n",
       "      <td>2020-12-25 21:52:03</td>\n",
       "    </tr>\n",
       "    <tr>\n",
       "      <th>2020-12-25 20:00:00</th>\n",
       "      <td>2020-12-25 12:25:02</td>\n",
       "      <td>2020-12-25 21:52:03</td>\n",
       "    </tr>\n",
       "    <tr>\n",
       "      <th>2020-12-25 21:00:00</th>\n",
       "      <td>2020-12-25 12:25:02</td>\n",
       "      <td>2020-12-25 21:52:03</td>\n",
       "    </tr>\n",
       "    <tr>\n",
       "      <th>2020-12-25 22:00:00</th>\n",
       "      <td>2020-12-25 12:25:02</td>\n",
       "      <td>2020-12-25 21:52:03</td>\n",
       "    </tr>\n",
       "    <tr>\n",
       "      <th>2020-12-25 23:00:00</th>\n",
       "      <td>2020-12-25 12:25:02</td>\n",
       "      <td>2020-12-25 21:52:03</td>\n",
       "    </tr>\n",
       "    <tr>\n",
       "      <th>2020-12-26 00:00:00</th>\n",
       "      <td>2020-12-26 12:25:22</td>\n",
       "      <td>2020-12-26 21:52:41</td>\n",
       "    </tr>\n",
       "    <tr>\n",
       "      <th>2020-12-26 01:00:00</th>\n",
       "      <td>2020-12-26 12:25:22</td>\n",
       "      <td>2020-12-26 21:52:41</td>\n",
       "    </tr>\n",
       "    <tr>\n",
       "      <th>2020-12-26 02:00:00</th>\n",
       "      <td>2020-12-26 12:25:22</td>\n",
       "      <td>2020-12-26 21:52:41</td>\n",
       "    </tr>\n",
       "    <tr>\n",
       "      <th>2020-12-26 03:00:00</th>\n",
       "      <td>2020-12-26 12:25:22</td>\n",
       "      <td>2020-12-26 21:52:41</td>\n",
       "    </tr>\n",
       "    <tr>\n",
       "      <th>2020-12-26 04:00:00</th>\n",
       "      <td>2020-12-26 12:25:22</td>\n",
       "      <td>2020-12-26 21:52:41</td>\n",
       "    </tr>\n",
       "    <tr>\n",
       "      <th>2020-12-26 05:00:00</th>\n",
       "      <td>2020-12-26 12:25:22</td>\n",
       "      <td>2020-12-26 21:52:41</td>\n",
       "    </tr>\n",
       "    <tr>\n",
       "      <th>2020-12-26 06:00:00</th>\n",
       "      <td>2020-12-26 12:25:22</td>\n",
       "      <td>2020-12-26 21:52:41</td>\n",
       "    </tr>\n",
       "    <tr>\n",
       "      <th>2020-12-26 07:00:00</th>\n",
       "      <td>2020-12-26 12:25:22</td>\n",
       "      <td>2020-12-26 21:52:41</td>\n",
       "    </tr>\n",
       "    <tr>\n",
       "      <th>2020-12-26 08:00:00</th>\n",
       "      <td>2020-12-26 12:25:22</td>\n",
       "      <td>2020-12-26 21:52:41</td>\n",
       "    </tr>\n",
       "    <tr>\n",
       "      <th>2020-12-26 09:00:00</th>\n",
       "      <td>2020-12-26 12:25:22</td>\n",
       "      <td>2020-12-26 21:52:41</td>\n",
       "    </tr>\n",
       "    <tr>\n",
       "      <th>2020-12-26 10:00:00</th>\n",
       "      <td>2020-12-26 12:25:22</td>\n",
       "      <td>2020-12-26 21:52:41</td>\n",
       "    </tr>\n",
       "    <tr>\n",
       "      <th>2020-12-26 11:00:00</th>\n",
       "      <td>2020-12-26 12:25:22</td>\n",
       "      <td>2020-12-26 21:52:41</td>\n",
       "    </tr>\n",
       "    <tr>\n",
       "      <th>2020-12-26 12:00:00</th>\n",
       "      <td>2020-12-26 12:25:22</td>\n",
       "      <td>2020-12-26 21:52:41</td>\n",
       "    </tr>\n",
       "    <tr>\n",
       "      <th>2020-12-26 13:00:00</th>\n",
       "      <td>2020-12-26 12:25:22</td>\n",
       "      <td>2020-12-26 21:52:41</td>\n",
       "    </tr>\n",
       "    <tr>\n",
       "      <th>2020-12-26 14:00:00</th>\n",
       "      <td>2020-12-26 12:25:22</td>\n",
       "      <td>2020-12-26 21:52:41</td>\n",
       "    </tr>\n",
       "    <tr>\n",
       "      <th>2020-12-26 15:00:00</th>\n",
       "      <td>2020-12-26 12:25:22</td>\n",
       "      <td>2020-12-26 21:52:41</td>\n",
       "    </tr>\n",
       "    <tr>\n",
       "      <th>2020-12-26 16:00:00</th>\n",
       "      <td>2020-12-26 12:25:22</td>\n",
       "      <td>2020-12-26 21:52:41</td>\n",
       "    </tr>\n",
       "    <tr>\n",
       "      <th>2020-12-26 17:00:00</th>\n",
       "      <td>2020-12-26 12:25:22</td>\n",
       "      <td>2020-12-26 21:52:41</td>\n",
       "    </tr>\n",
       "    <tr>\n",
       "      <th>2020-12-26 18:00:00</th>\n",
       "      <td>2020-12-26 12:25:22</td>\n",
       "      <td>2020-12-26 21:52:41</td>\n",
       "    </tr>\n",
       "    <tr>\n",
       "      <th>2020-12-26 19:00:00</th>\n",
       "      <td>2020-12-26 12:25:22</td>\n",
       "      <td>2020-12-26 21:52:41</td>\n",
       "    </tr>\n",
       "    <tr>\n",
       "      <th>2020-12-26 20:00:00</th>\n",
       "      <td>2020-12-26 12:25:22</td>\n",
       "      <td>2020-12-26 21:52:41</td>\n",
       "    </tr>\n",
       "    <tr>\n",
       "      <th>2020-12-26 21:00:00</th>\n",
       "      <td>2020-12-26 12:25:22</td>\n",
       "      <td>2020-12-26 21:52:41</td>\n",
       "    </tr>\n",
       "    <tr>\n",
       "      <th>2020-12-26 22:00:00</th>\n",
       "      <td>2020-12-26 12:25:22</td>\n",
       "      <td>2020-12-26 21:52:41</td>\n",
       "    </tr>\n",
       "    <tr>\n",
       "      <th>2020-12-26 23:00:00</th>\n",
       "      <td>2020-12-26 12:25:22</td>\n",
       "      <td>2020-12-26 21:52:41</td>\n",
       "    </tr>\n",
       "    <tr>\n",
       "      <th>2020-12-27 00:00:00</th>\n",
       "      <td>2020-12-27 12:25:41</td>\n",
       "      <td>2020-12-27 21:53:21</td>\n",
       "    </tr>\n",
       "    <tr>\n",
       "      <th>2020-12-27 01:00:00</th>\n",
       "      <td>2020-12-27 12:25:41</td>\n",
       "      <td>2020-12-27 21:53:21</td>\n",
       "    </tr>\n",
       "    <tr>\n",
       "      <th>2020-12-27 02:00:00</th>\n",
       "      <td>2020-12-27 12:25:41</td>\n",
       "      <td>2020-12-27 21:53:21</td>\n",
       "    </tr>\n",
       "    <tr>\n",
       "      <th>2020-12-27 03:00:00</th>\n",
       "      <td>2020-12-27 12:25:41</td>\n",
       "      <td>2020-12-27 21:53:21</td>\n",
       "    </tr>\n",
       "    <tr>\n",
       "      <th>2020-12-27 04:00:00</th>\n",
       "      <td>2020-12-27 12:25:41</td>\n",
       "      <td>2020-12-27 21:53:21</td>\n",
       "    </tr>\n",
       "    <tr>\n",
       "      <th>2020-12-27 05:00:00</th>\n",
       "      <td>2020-12-27 12:25:41</td>\n",
       "      <td>2020-12-27 21:53:21</td>\n",
       "    </tr>\n",
       "    <tr>\n",
       "      <th>2020-12-27 06:00:00</th>\n",
       "      <td>2020-12-27 12:25:41</td>\n",
       "      <td>2020-12-27 21:53:21</td>\n",
       "    </tr>\n",
       "    <tr>\n",
       "      <th>2020-12-27 07:00:00</th>\n",
       "      <td>2020-12-27 12:25:41</td>\n",
       "      <td>2020-12-27 21:53:21</td>\n",
       "    </tr>\n",
       "    <tr>\n",
       "      <th>2020-12-27 08:00:00</th>\n",
       "      <td>2020-12-27 12:25:41</td>\n",
       "      <td>2020-12-27 21:53:21</td>\n",
       "    </tr>\n",
       "    <tr>\n",
       "      <th>2020-12-27 09:00:00</th>\n",
       "      <td>2020-12-27 12:25:41</td>\n",
       "      <td>2020-12-27 21:53:21</td>\n",
       "    </tr>\n",
       "    <tr>\n",
       "      <th>2020-12-27 10:00:00</th>\n",
       "      <td>2020-12-27 12:25:41</td>\n",
       "      <td>2020-12-27 21:53:21</td>\n",
       "    </tr>\n",
       "    <tr>\n",
       "      <th>2020-12-27 11:00:00</th>\n",
       "      <td>2020-12-27 12:25:41</td>\n",
       "      <td>2020-12-27 21:53:21</td>\n",
       "    </tr>\n",
       "    <tr>\n",
       "      <th>2020-12-27 12:00:00</th>\n",
       "      <td>2020-12-27 12:25:41</td>\n",
       "      <td>2020-12-27 21:53:21</td>\n",
       "    </tr>\n",
       "    <tr>\n",
       "      <th>2020-12-27 13:00:00</th>\n",
       "      <td>2020-12-27 12:25:41</td>\n",
       "      <td>2020-12-27 21:53:21</td>\n",
       "    </tr>\n",
       "    <tr>\n",
       "      <th>2020-12-27 14:00:00</th>\n",
       "      <td>2020-12-27 12:25:41</td>\n",
       "      <td>2020-12-27 21:53:21</td>\n",
       "    </tr>\n",
       "    <tr>\n",
       "      <th>2020-12-27 15:00:00</th>\n",
       "      <td>2020-12-27 12:25:41</td>\n",
       "      <td>2020-12-27 21:53:21</td>\n",
       "    </tr>\n",
       "    <tr>\n",
       "      <th>2020-12-27 16:00:00</th>\n",
       "      <td>2020-12-27 12:25:41</td>\n",
       "      <td>2020-12-27 21:53:21</td>\n",
       "    </tr>\n",
       "    <tr>\n",
       "      <th>2020-12-27 17:00:00</th>\n",
       "      <td>2020-12-27 12:25:41</td>\n",
       "      <td>2020-12-27 21:53:21</td>\n",
       "    </tr>\n",
       "    <tr>\n",
       "      <th>2020-12-27 18:00:00</th>\n",
       "      <td>2020-12-27 12:25:41</td>\n",
       "      <td>2020-12-27 21:53:21</td>\n",
       "    </tr>\n",
       "    <tr>\n",
       "      <th>2020-12-27 19:00:00</th>\n",
       "      <td>2020-12-27 12:25:41</td>\n",
       "      <td>2020-12-27 21:53:21</td>\n",
       "    </tr>\n",
       "    <tr>\n",
       "      <th>2020-12-27 20:00:00</th>\n",
       "      <td>2020-12-27 12:25:41</td>\n",
       "      <td>2020-12-27 21:53:21</td>\n",
       "    </tr>\n",
       "    <tr>\n",
       "      <th>2020-12-27 21:00:00</th>\n",
       "      <td>2020-12-27 12:25:41</td>\n",
       "      <td>2020-12-27 21:53:21</td>\n",
       "    </tr>\n",
       "    <tr>\n",
       "      <th>2020-12-27 22:00:00</th>\n",
       "      <td>2020-12-27 12:25:41</td>\n",
       "      <td>2020-12-27 21:53:21</td>\n",
       "    </tr>\n",
       "    <tr>\n",
       "      <th>2020-12-27 23:00:00</th>\n",
       "      <td>2020-12-27 12:25:41</td>\n",
       "      <td>2020-12-27 21:53:21</td>\n",
       "    </tr>\n",
       "    <tr>\n",
       "      <th>2020-12-28 00:00:00</th>\n",
       "      <td>2020-12-28 12:25:57</td>\n",
       "      <td>2020-12-28 21:54:03</td>\n",
       "    </tr>\n",
       "    <tr>\n",
       "      <th>2020-12-28 01:00:00</th>\n",
       "      <td>2020-12-28 12:25:57</td>\n",
       "      <td>2020-12-28 21:54:03</td>\n",
       "    </tr>\n",
       "    <tr>\n",
       "      <th>2020-12-28 02:00:00</th>\n",
       "      <td>2020-12-28 12:25:57</td>\n",
       "      <td>2020-12-28 21:54:03</td>\n",
       "    </tr>\n",
       "    <tr>\n",
       "      <th>2020-12-28 03:00:00</th>\n",
       "      <td>2020-12-28 12:25:57</td>\n",
       "      <td>2020-12-28 21:54:03</td>\n",
       "    </tr>\n",
       "    <tr>\n",
       "      <th>2020-12-28 04:00:00</th>\n",
       "      <td>2020-12-28 12:25:57</td>\n",
       "      <td>2020-12-28 21:54:03</td>\n",
       "    </tr>\n",
       "    <tr>\n",
       "      <th>2020-12-28 05:00:00</th>\n",
       "      <td>2020-12-28 12:25:57</td>\n",
       "      <td>2020-12-28 21:54:03</td>\n",
       "    </tr>\n",
       "    <tr>\n",
       "      <th>2020-12-28 06:00:00</th>\n",
       "      <td>2020-12-28 12:25:57</td>\n",
       "      <td>2020-12-28 21:54:03</td>\n",
       "    </tr>\n",
       "    <tr>\n",
       "      <th>2020-12-28 07:00:00</th>\n",
       "      <td>2020-12-28 12:25:57</td>\n",
       "      <td>2020-12-28 21:54:03</td>\n",
       "    </tr>\n",
       "    <tr>\n",
       "      <th>2020-12-28 08:00:00</th>\n",
       "      <td>2020-12-28 12:25:57</td>\n",
       "      <td>2020-12-28 21:54:03</td>\n",
       "    </tr>\n",
       "    <tr>\n",
       "      <th>2020-12-28 09:00:00</th>\n",
       "      <td>2020-12-28 12:25:57</td>\n",
       "      <td>2020-12-28 21:54:03</td>\n",
       "    </tr>\n",
       "    <tr>\n",
       "      <th>2020-12-28 10:00:00</th>\n",
       "      <td>2020-12-28 12:25:57</td>\n",
       "      <td>2020-12-28 21:54:03</td>\n",
       "    </tr>\n",
       "    <tr>\n",
       "      <th>2020-12-28 11:00:00</th>\n",
       "      <td>2020-12-28 12:25:57</td>\n",
       "      <td>2020-12-28 21:54:03</td>\n",
       "    </tr>\n",
       "    <tr>\n",
       "      <th>2020-12-28 12:00:00</th>\n",
       "      <td>2020-12-28 12:25:57</td>\n",
       "      <td>2020-12-28 21:54:03</td>\n",
       "    </tr>\n",
       "    <tr>\n",
       "      <th>2020-12-28 13:00:00</th>\n",
       "      <td>2020-12-28 12:25:57</td>\n",
       "      <td>2020-12-28 21:54:03</td>\n",
       "    </tr>\n",
       "    <tr>\n",
       "      <th>2020-12-28 14:00:00</th>\n",
       "      <td>2020-12-28 12:25:57</td>\n",
       "      <td>2020-12-28 21:54:03</td>\n",
       "    </tr>\n",
       "    <tr>\n",
       "      <th>2020-12-28 15:00:00</th>\n",
       "      <td>2020-12-28 12:25:57</td>\n",
       "      <td>2020-12-28 21:54:03</td>\n",
       "    </tr>\n",
       "    <tr>\n",
       "      <th>2020-12-28 16:00:00</th>\n",
       "      <td>2020-12-28 12:25:57</td>\n",
       "      <td>2020-12-28 21:54:03</td>\n",
       "    </tr>\n",
       "    <tr>\n",
       "      <th>2020-12-28 17:00:00</th>\n",
       "      <td>2020-12-28 12:25:57</td>\n",
       "      <td>2020-12-28 21:54:03</td>\n",
       "    </tr>\n",
       "    <tr>\n",
       "      <th>2020-12-28 18:00:00</th>\n",
       "      <td>2020-12-28 12:25:57</td>\n",
       "      <td>2020-12-28 21:54:03</td>\n",
       "    </tr>\n",
       "    <tr>\n",
       "      <th>2020-12-28 19:00:00</th>\n",
       "      <td>2020-12-28 12:25:57</td>\n",
       "      <td>2020-12-28 21:54:03</td>\n",
       "    </tr>\n",
       "    <tr>\n",
       "      <th>2020-12-28 20:00:00</th>\n",
       "      <td>2020-12-28 12:25:57</td>\n",
       "      <td>2020-12-28 21:54:03</td>\n",
       "    </tr>\n",
       "    <tr>\n",
       "      <th>2020-12-28 21:00:00</th>\n",
       "      <td>2020-12-28 12:25:57</td>\n",
       "      <td>2020-12-28 21:54:03</td>\n",
       "    </tr>\n",
       "    <tr>\n",
       "      <th>2020-12-28 22:00:00</th>\n",
       "      <td>2020-12-28 12:25:57</td>\n",
       "      <td>2020-12-28 21:54:03</td>\n",
       "    </tr>\n",
       "    <tr>\n",
       "      <th>2020-12-28 23:00:00</th>\n",
       "      <td>2020-12-28 12:25:57</td>\n",
       "      <td>2020-12-28 21:54:03</td>\n",
       "    </tr>\n",
       "    <tr>\n",
       "      <th>2020-12-29 00:00:00</th>\n",
       "      <td>2020-12-29 12:26:12</td>\n",
       "      <td>2020-12-29 21:54:47</td>\n",
       "    </tr>\n",
       "    <tr>\n",
       "      <th>2020-12-29 01:00:00</th>\n",
       "      <td>2020-12-29 12:26:12</td>\n",
       "      <td>2020-12-29 21:54:47</td>\n",
       "    </tr>\n",
       "    <tr>\n",
       "      <th>2020-12-29 02:00:00</th>\n",
       "      <td>2020-12-29 12:26:12</td>\n",
       "      <td>2020-12-29 21:54:47</td>\n",
       "    </tr>\n",
       "    <tr>\n",
       "      <th>2020-12-29 03:00:00</th>\n",
       "      <td>2020-12-29 12:26:12</td>\n",
       "      <td>2020-12-29 21:54:47</td>\n",
       "    </tr>\n",
       "    <tr>\n",
       "      <th>2020-12-29 04:00:00</th>\n",
       "      <td>2020-12-29 12:26:12</td>\n",
       "      <td>2020-12-29 21:54:47</td>\n",
       "    </tr>\n",
       "    <tr>\n",
       "      <th>2020-12-29 05:00:00</th>\n",
       "      <td>2020-12-29 12:26:12</td>\n",
       "      <td>2020-12-29 21:54:47</td>\n",
       "    </tr>\n",
       "    <tr>\n",
       "      <th>2020-12-29 06:00:00</th>\n",
       "      <td>2020-12-29 12:26:12</td>\n",
       "      <td>2020-12-29 21:54:47</td>\n",
       "    </tr>\n",
       "    <tr>\n",
       "      <th>2020-12-29 07:00:00</th>\n",
       "      <td>2020-12-29 12:26:12</td>\n",
       "      <td>2020-12-29 21:54:47</td>\n",
       "    </tr>\n",
       "    <tr>\n",
       "      <th>2020-12-29 08:00:00</th>\n",
       "      <td>2020-12-29 12:26:12</td>\n",
       "      <td>2020-12-29 21:54:47</td>\n",
       "    </tr>\n",
       "    <tr>\n",
       "      <th>2020-12-29 09:00:00</th>\n",
       "      <td>2020-12-29 12:26:12</td>\n",
       "      <td>2020-12-29 21:54:47</td>\n",
       "    </tr>\n",
       "    <tr>\n",
       "      <th>2020-12-29 10:00:00</th>\n",
       "      <td>2020-12-29 12:26:12</td>\n",
       "      <td>2020-12-29 21:54:47</td>\n",
       "    </tr>\n",
       "    <tr>\n",
       "      <th>2020-12-29 11:00:00</th>\n",
       "      <td>2020-12-29 12:26:12</td>\n",
       "      <td>2020-12-29 21:54:47</td>\n",
       "    </tr>\n",
       "    <tr>\n",
       "      <th>2020-12-29 12:00:00</th>\n",
       "      <td>2020-12-29 12:26:12</td>\n",
       "      <td>2020-12-29 21:54:47</td>\n",
       "    </tr>\n",
       "    <tr>\n",
       "      <th>2020-12-29 13:00:00</th>\n",
       "      <td>2020-12-29 12:26:12</td>\n",
       "      <td>2020-12-29 21:54:47</td>\n",
       "    </tr>\n",
       "    <tr>\n",
       "      <th>2020-12-29 14:00:00</th>\n",
       "      <td>2020-12-29 12:26:12</td>\n",
       "      <td>2020-12-29 21:54:47</td>\n",
       "    </tr>\n",
       "    <tr>\n",
       "      <th>2020-12-29 15:00:00</th>\n",
       "      <td>2020-12-29 12:26:12</td>\n",
       "      <td>2020-12-29 21:54:47</td>\n",
       "    </tr>\n",
       "    <tr>\n",
       "      <th>2020-12-29 16:00:00</th>\n",
       "      <td>2020-12-29 12:26:12</td>\n",
       "      <td>2020-12-29 21:54:47</td>\n",
       "    </tr>\n",
       "    <tr>\n",
       "      <th>2020-12-29 17:00:00</th>\n",
       "      <td>2020-12-29 12:26:12</td>\n",
       "      <td>2020-12-29 21:54:47</td>\n",
       "    </tr>\n",
       "    <tr>\n",
       "      <th>2020-12-29 18:00:00</th>\n",
       "      <td>2020-12-29 12:26:12</td>\n",
       "      <td>2020-12-29 21:54:47</td>\n",
       "    </tr>\n",
       "    <tr>\n",
       "      <th>2020-12-29 19:00:00</th>\n",
       "      <td>2020-12-29 12:26:12</td>\n",
       "      <td>2020-12-29 21:54:47</td>\n",
       "    </tr>\n",
       "    <tr>\n",
       "      <th>2020-12-29 20:00:00</th>\n",
       "      <td>2020-12-29 12:26:12</td>\n",
       "      <td>2020-12-29 21:54:47</td>\n",
       "    </tr>\n",
       "    <tr>\n",
       "      <th>2020-12-29 21:00:00</th>\n",
       "      <td>2020-12-29 12:26:12</td>\n",
       "      <td>2020-12-29 21:54:47</td>\n",
       "    </tr>\n",
       "    <tr>\n",
       "      <th>2020-12-29 22:00:00</th>\n",
       "      <td>2020-12-29 12:26:12</td>\n",
       "      <td>2020-12-29 21:54:47</td>\n",
       "    </tr>\n",
       "    <tr>\n",
       "      <th>2020-12-29 23:00:00</th>\n",
       "      <td>2020-12-29 12:26:12</td>\n",
       "      <td>2020-12-29 21:54:47</td>\n",
       "    </tr>\n",
       "    <tr>\n",
       "      <th>2020-12-30 00:00:00</th>\n",
       "      <td>2020-12-30 12:26:24</td>\n",
       "      <td>2020-12-30 21:55:32</td>\n",
       "    </tr>\n",
       "    <tr>\n",
       "      <th>2020-12-30 01:00:00</th>\n",
       "      <td>2020-12-30 12:26:24</td>\n",
       "      <td>2020-12-30 21:55:32</td>\n",
       "    </tr>\n",
       "    <tr>\n",
       "      <th>2020-12-30 02:00:00</th>\n",
       "      <td>2020-12-30 12:26:24</td>\n",
       "      <td>2020-12-30 21:55:32</td>\n",
       "    </tr>\n",
       "    <tr>\n",
       "      <th>2020-12-30 03:00:00</th>\n",
       "      <td>2020-12-30 12:26:24</td>\n",
       "      <td>2020-12-30 21:55:32</td>\n",
       "    </tr>\n",
       "    <tr>\n",
       "      <th>2020-12-30 04:00:00</th>\n",
       "      <td>2020-12-30 12:26:24</td>\n",
       "      <td>2020-12-30 21:55:32</td>\n",
       "    </tr>\n",
       "    <tr>\n",
       "      <th>2020-12-30 05:00:00</th>\n",
       "      <td>2020-12-30 12:26:24</td>\n",
       "      <td>2020-12-30 21:55:32</td>\n",
       "    </tr>\n",
       "    <tr>\n",
       "      <th>2020-12-30 06:00:00</th>\n",
       "      <td>2020-12-30 12:26:24</td>\n",
       "      <td>2020-12-30 21:55:32</td>\n",
       "    </tr>\n",
       "    <tr>\n",
       "      <th>2020-12-30 07:00:00</th>\n",
       "      <td>2020-12-30 12:26:24</td>\n",
       "      <td>2020-12-30 21:55:32</td>\n",
       "    </tr>\n",
       "    <tr>\n",
       "      <th>2020-12-30 08:00:00</th>\n",
       "      <td>2020-12-30 12:26:24</td>\n",
       "      <td>2020-12-30 21:55:32</td>\n",
       "    </tr>\n",
       "    <tr>\n",
       "      <th>2020-12-30 09:00:00</th>\n",
       "      <td>2020-12-30 12:26:24</td>\n",
       "      <td>2020-12-30 21:55:32</td>\n",
       "    </tr>\n",
       "    <tr>\n",
       "      <th>2020-12-30 10:00:00</th>\n",
       "      <td>2020-12-30 12:26:24</td>\n",
       "      <td>2020-12-30 21:55:32</td>\n",
       "    </tr>\n",
       "    <tr>\n",
       "      <th>2020-12-30 11:00:00</th>\n",
       "      <td>2020-12-30 12:26:24</td>\n",
       "      <td>2020-12-30 21:55:32</td>\n",
       "    </tr>\n",
       "    <tr>\n",
       "      <th>2020-12-30 12:00:00</th>\n",
       "      <td>2020-12-30 12:26:24</td>\n",
       "      <td>2020-12-30 21:55:32</td>\n",
       "    </tr>\n",
       "    <tr>\n",
       "      <th>2020-12-30 13:00:00</th>\n",
       "      <td>2020-12-30 12:26:24</td>\n",
       "      <td>2020-12-30 21:55:32</td>\n",
       "    </tr>\n",
       "    <tr>\n",
       "      <th>2020-12-30 14:00:00</th>\n",
       "      <td>2020-12-30 12:26:24</td>\n",
       "      <td>2020-12-30 21:55:32</td>\n",
       "    </tr>\n",
       "    <tr>\n",
       "      <th>2020-12-30 15:00:00</th>\n",
       "      <td>2020-12-30 12:26:24</td>\n",
       "      <td>2020-12-30 21:55:32</td>\n",
       "    </tr>\n",
       "    <tr>\n",
       "      <th>2020-12-30 16:00:00</th>\n",
       "      <td>2020-12-30 12:26:24</td>\n",
       "      <td>2020-12-30 21:55:32</td>\n",
       "    </tr>\n",
       "    <tr>\n",
       "      <th>2020-12-30 17:00:00</th>\n",
       "      <td>2020-12-30 12:26:24</td>\n",
       "      <td>2020-12-30 21:55:32</td>\n",
       "    </tr>\n",
       "    <tr>\n",
       "      <th>2020-12-30 18:00:00</th>\n",
       "      <td>2020-12-30 12:26:24</td>\n",
       "      <td>2020-12-30 21:55:32</td>\n",
       "    </tr>\n",
       "    <tr>\n",
       "      <th>2020-12-30 19:00:00</th>\n",
       "      <td>2020-12-30 12:26:24</td>\n",
       "      <td>2020-12-30 21:55:32</td>\n",
       "    </tr>\n",
       "    <tr>\n",
       "      <th>2020-12-30 20:00:00</th>\n",
       "      <td>2020-12-30 12:26:24</td>\n",
       "      <td>2020-12-30 21:55:32</td>\n",
       "    </tr>\n",
       "    <tr>\n",
       "      <th>2020-12-30 21:00:00</th>\n",
       "      <td>2020-12-30 12:26:24</td>\n",
       "      <td>2020-12-30 21:55:32</td>\n",
       "    </tr>\n",
       "    <tr>\n",
       "      <th>2020-12-30 22:00:00</th>\n",
       "      <td>2020-12-30 12:26:24</td>\n",
       "      <td>2020-12-30 21:55:32</td>\n",
       "    </tr>\n",
       "    <tr>\n",
       "      <th>2020-12-30 23:00:00</th>\n",
       "      <td>2020-12-30 12:26:24</td>\n",
       "      <td>2020-12-30 21:55:32</td>\n",
       "    </tr>\n",
       "    <tr>\n",
       "      <th>2020-12-31 00:00:00</th>\n",
       "      <td>2020-12-31 12:26:34</td>\n",
       "      <td>2020-12-31 21:56:19</td>\n",
       "    </tr>\n",
       "  </tbody>\n",
       "</table>\n",
       "</div>"
      ],
      "text/plain": [
       "                    sunrise_datetime_utc sunset_datetime_utc\n",
       "date                                                        \n",
       "2020-12-22 17:00:00  2020-12-22 12:23:49 2020-12-22 21:50:18\n",
       "2020-12-22 18:00:00  2020-12-22 12:23:49 2020-12-22 21:50:18\n",
       "2020-12-22 19:00:00  2020-12-22 12:23:49 2020-12-22 21:50:18\n",
       "2020-12-22 20:00:00  2020-12-22 12:23:49 2020-12-22 21:50:18\n",
       "2020-12-22 21:00:00  2020-12-22 12:23:49 2020-12-22 21:50:18\n",
       "2020-12-22 22:00:00  2020-12-22 12:23:49 2020-12-22 21:50:18\n",
       "2020-12-22 23:00:00  2020-12-22 12:23:49 2020-12-22 21:50:18\n",
       "2020-12-23 00:00:00  2020-12-23 12:24:15 2020-12-23 21:50:51\n",
       "2020-12-23 01:00:00  2020-12-23 12:24:15 2020-12-23 21:50:51\n",
       "2020-12-23 02:00:00  2020-12-23 12:24:15 2020-12-23 21:50:51\n",
       "2020-12-23 03:00:00  2020-12-23 12:24:15 2020-12-23 21:50:51\n",
       "2020-12-23 04:00:00  2020-12-23 12:24:15 2020-12-23 21:50:51\n",
       "2020-12-23 05:00:00  2020-12-23 12:24:15 2020-12-23 21:50:51\n",
       "2020-12-23 06:00:00  2020-12-23 12:24:15 2020-12-23 21:50:51\n",
       "2020-12-23 07:00:00  2020-12-23 12:24:15 2020-12-23 21:50:51\n",
       "2020-12-23 08:00:00  2020-12-23 12:24:15 2020-12-23 21:50:51\n",
       "2020-12-23 09:00:00  2020-12-23 12:24:15 2020-12-23 21:50:51\n",
       "2020-12-23 10:00:00  2020-12-23 12:24:15 2020-12-23 21:50:51\n",
       "2020-12-23 11:00:00  2020-12-23 12:24:15 2020-12-23 21:50:51\n",
       "2020-12-23 12:00:00  2020-12-23 12:24:15 2020-12-23 21:50:51\n",
       "2020-12-23 13:00:00  2020-12-23 12:24:15 2020-12-23 21:50:51\n",
       "2020-12-23 14:00:00  2020-12-23 12:24:15 2020-12-23 21:50:51\n",
       "2020-12-23 15:00:00  2020-12-23 12:24:15 2020-12-23 21:50:51\n",
       "2020-12-23 16:00:00  2020-12-23 12:24:15 2020-12-23 21:50:51\n",
       "2020-12-23 17:00:00  2020-12-23 12:24:15 2020-12-23 21:50:51\n",
       "2020-12-23 18:00:00  2020-12-23 12:24:15 2020-12-23 21:50:51\n",
       "2020-12-23 19:00:00  2020-12-23 12:24:15 2020-12-23 21:50:51\n",
       "2020-12-23 20:00:00  2020-12-23 12:24:15 2020-12-23 21:50:51\n",
       "2020-12-23 21:00:00  2020-12-23 12:24:15 2020-12-23 21:50:51\n",
       "2020-12-23 22:00:00  2020-12-23 12:24:15 2020-12-23 21:50:51\n",
       "2020-12-23 23:00:00  2020-12-23 12:24:15 2020-12-23 21:50:51\n",
       "2020-12-24 00:00:00  2020-12-24 12:24:39 2020-12-24 21:51:26\n",
       "2020-12-24 01:00:00  2020-12-24 12:24:39 2020-12-24 21:51:26\n",
       "2020-12-24 02:00:00  2020-12-24 12:24:39 2020-12-24 21:51:26\n",
       "2020-12-24 03:00:00  2020-12-24 12:24:39 2020-12-24 21:51:26\n",
       "2020-12-24 04:00:00  2020-12-24 12:24:39 2020-12-24 21:51:26\n",
       "2020-12-24 05:00:00  2020-12-24 12:24:39 2020-12-24 21:51:26\n",
       "2020-12-24 06:00:00  2020-12-24 12:24:39 2020-12-24 21:51:26\n",
       "2020-12-24 07:00:00  2020-12-24 12:24:39 2020-12-24 21:51:26\n",
       "2020-12-24 08:00:00  2020-12-24 12:24:39 2020-12-24 21:51:26\n",
       "2020-12-24 09:00:00  2020-12-24 12:24:39 2020-12-24 21:51:26\n",
       "2020-12-24 10:00:00  2020-12-24 12:24:39 2020-12-24 21:51:26\n",
       "2020-12-24 11:00:00  2020-12-24 12:24:39 2020-12-24 21:51:26\n",
       "2020-12-24 12:00:00  2020-12-24 12:24:39 2020-12-24 21:51:26\n",
       "2020-12-24 13:00:00  2020-12-24 12:24:39 2020-12-24 21:51:26\n",
       "2020-12-24 14:00:00  2020-12-24 12:24:39 2020-12-24 21:51:26\n",
       "2020-12-24 15:00:00  2020-12-24 12:24:39 2020-12-24 21:51:26\n",
       "2020-12-24 16:00:00  2020-12-24 12:24:39 2020-12-24 21:51:26\n",
       "2020-12-24 17:00:00  2020-12-24 12:24:39 2020-12-24 21:51:26\n",
       "2020-12-24 18:00:00  2020-12-24 12:24:39 2020-12-24 21:51:26\n",
       "2020-12-24 19:00:00  2020-12-24 12:24:39 2020-12-24 21:51:26\n",
       "2020-12-24 20:00:00  2020-12-24 12:24:39 2020-12-24 21:51:26\n",
       "2020-12-24 21:00:00  2020-12-24 12:24:39 2020-12-24 21:51:26\n",
       "2020-12-24 22:00:00  2020-12-24 12:24:39 2020-12-24 21:51:26\n",
       "2020-12-24 23:00:00  2020-12-24 12:24:39 2020-12-24 21:51:26\n",
       "2020-12-25 00:00:00  2020-12-25 12:25:02 2020-12-25 21:52:03\n",
       "2020-12-25 01:00:00  2020-12-25 12:25:02 2020-12-25 21:52:03\n",
       "2020-12-25 02:00:00  2020-12-25 12:25:02 2020-12-25 21:52:03\n",
       "2020-12-25 03:00:00  2020-12-25 12:25:02 2020-12-25 21:52:03\n",
       "2020-12-25 04:00:00  2020-12-25 12:25:02 2020-12-25 21:52:03\n",
       "2020-12-25 05:00:00  2020-12-25 12:25:02 2020-12-25 21:52:03\n",
       "2020-12-25 06:00:00  2020-12-25 12:25:02 2020-12-25 21:52:03\n",
       "2020-12-25 07:00:00  2020-12-25 12:25:02 2020-12-25 21:52:03\n",
       "2020-12-25 08:00:00  2020-12-25 12:25:02 2020-12-25 21:52:03\n",
       "2020-12-25 09:00:00  2020-12-25 12:25:02 2020-12-25 21:52:03\n",
       "2020-12-25 10:00:00  2020-12-25 12:25:02 2020-12-25 21:52:03\n",
       "2020-12-25 11:00:00  2020-12-25 12:25:02 2020-12-25 21:52:03\n",
       "2020-12-25 12:00:00  2020-12-25 12:25:02 2020-12-25 21:52:03\n",
       "2020-12-25 13:00:00  2020-12-25 12:25:02 2020-12-25 21:52:03\n",
       "2020-12-25 14:00:00  2020-12-25 12:25:02 2020-12-25 21:52:03\n",
       "2020-12-25 15:00:00  2020-12-25 12:25:02 2020-12-25 21:52:03\n",
       "2020-12-25 16:00:00  2020-12-25 12:25:02 2020-12-25 21:52:03\n",
       "2020-12-25 17:00:00  2020-12-25 12:25:02 2020-12-25 21:52:03\n",
       "2020-12-25 18:00:00  2020-12-25 12:25:02 2020-12-25 21:52:03\n",
       "2020-12-25 19:00:00  2020-12-25 12:25:02 2020-12-25 21:52:03\n",
       "2020-12-25 20:00:00  2020-12-25 12:25:02 2020-12-25 21:52:03\n",
       "2020-12-25 21:00:00  2020-12-25 12:25:02 2020-12-25 21:52:03\n",
       "2020-12-25 22:00:00  2020-12-25 12:25:02 2020-12-25 21:52:03\n",
       "2020-12-25 23:00:00  2020-12-25 12:25:02 2020-12-25 21:52:03\n",
       "2020-12-26 00:00:00  2020-12-26 12:25:22 2020-12-26 21:52:41\n",
       "2020-12-26 01:00:00  2020-12-26 12:25:22 2020-12-26 21:52:41\n",
       "2020-12-26 02:00:00  2020-12-26 12:25:22 2020-12-26 21:52:41\n",
       "2020-12-26 03:00:00  2020-12-26 12:25:22 2020-12-26 21:52:41\n",
       "2020-12-26 04:00:00  2020-12-26 12:25:22 2020-12-26 21:52:41\n",
       "2020-12-26 05:00:00  2020-12-26 12:25:22 2020-12-26 21:52:41\n",
       "2020-12-26 06:00:00  2020-12-26 12:25:22 2020-12-26 21:52:41\n",
       "2020-12-26 07:00:00  2020-12-26 12:25:22 2020-12-26 21:52:41\n",
       "2020-12-26 08:00:00  2020-12-26 12:25:22 2020-12-26 21:52:41\n",
       "2020-12-26 09:00:00  2020-12-26 12:25:22 2020-12-26 21:52:41\n",
       "2020-12-26 10:00:00  2020-12-26 12:25:22 2020-12-26 21:52:41\n",
       "2020-12-26 11:00:00  2020-12-26 12:25:22 2020-12-26 21:52:41\n",
       "2020-12-26 12:00:00  2020-12-26 12:25:22 2020-12-26 21:52:41\n",
       "2020-12-26 13:00:00  2020-12-26 12:25:22 2020-12-26 21:52:41\n",
       "2020-12-26 14:00:00  2020-12-26 12:25:22 2020-12-26 21:52:41\n",
       "2020-12-26 15:00:00  2020-12-26 12:25:22 2020-12-26 21:52:41\n",
       "2020-12-26 16:00:00  2020-12-26 12:25:22 2020-12-26 21:52:41\n",
       "2020-12-26 17:00:00  2020-12-26 12:25:22 2020-12-26 21:52:41\n",
       "2020-12-26 18:00:00  2020-12-26 12:25:22 2020-12-26 21:52:41\n",
       "2020-12-26 19:00:00  2020-12-26 12:25:22 2020-12-26 21:52:41\n",
       "2020-12-26 20:00:00  2020-12-26 12:25:22 2020-12-26 21:52:41\n",
       "2020-12-26 21:00:00  2020-12-26 12:25:22 2020-12-26 21:52:41\n",
       "2020-12-26 22:00:00  2020-12-26 12:25:22 2020-12-26 21:52:41\n",
       "2020-12-26 23:00:00  2020-12-26 12:25:22 2020-12-26 21:52:41\n",
       "2020-12-27 00:00:00  2020-12-27 12:25:41 2020-12-27 21:53:21\n",
       "2020-12-27 01:00:00  2020-12-27 12:25:41 2020-12-27 21:53:21\n",
       "2020-12-27 02:00:00  2020-12-27 12:25:41 2020-12-27 21:53:21\n",
       "2020-12-27 03:00:00  2020-12-27 12:25:41 2020-12-27 21:53:21\n",
       "2020-12-27 04:00:00  2020-12-27 12:25:41 2020-12-27 21:53:21\n",
       "2020-12-27 05:00:00  2020-12-27 12:25:41 2020-12-27 21:53:21\n",
       "2020-12-27 06:00:00  2020-12-27 12:25:41 2020-12-27 21:53:21\n",
       "2020-12-27 07:00:00  2020-12-27 12:25:41 2020-12-27 21:53:21\n",
       "2020-12-27 08:00:00  2020-12-27 12:25:41 2020-12-27 21:53:21\n",
       "2020-12-27 09:00:00  2020-12-27 12:25:41 2020-12-27 21:53:21\n",
       "2020-12-27 10:00:00  2020-12-27 12:25:41 2020-12-27 21:53:21\n",
       "2020-12-27 11:00:00  2020-12-27 12:25:41 2020-12-27 21:53:21\n",
       "2020-12-27 12:00:00  2020-12-27 12:25:41 2020-12-27 21:53:21\n",
       "2020-12-27 13:00:00  2020-12-27 12:25:41 2020-12-27 21:53:21\n",
       "2020-12-27 14:00:00  2020-12-27 12:25:41 2020-12-27 21:53:21\n",
       "2020-12-27 15:00:00  2020-12-27 12:25:41 2020-12-27 21:53:21\n",
       "2020-12-27 16:00:00  2020-12-27 12:25:41 2020-12-27 21:53:21\n",
       "2020-12-27 17:00:00  2020-12-27 12:25:41 2020-12-27 21:53:21\n",
       "2020-12-27 18:00:00  2020-12-27 12:25:41 2020-12-27 21:53:21\n",
       "2020-12-27 19:00:00  2020-12-27 12:25:41 2020-12-27 21:53:21\n",
       "2020-12-27 20:00:00  2020-12-27 12:25:41 2020-12-27 21:53:21\n",
       "2020-12-27 21:00:00  2020-12-27 12:25:41 2020-12-27 21:53:21\n",
       "2020-12-27 22:00:00  2020-12-27 12:25:41 2020-12-27 21:53:21\n",
       "2020-12-27 23:00:00  2020-12-27 12:25:41 2020-12-27 21:53:21\n",
       "2020-12-28 00:00:00  2020-12-28 12:25:57 2020-12-28 21:54:03\n",
       "2020-12-28 01:00:00  2020-12-28 12:25:57 2020-12-28 21:54:03\n",
       "2020-12-28 02:00:00  2020-12-28 12:25:57 2020-12-28 21:54:03\n",
       "2020-12-28 03:00:00  2020-12-28 12:25:57 2020-12-28 21:54:03\n",
       "2020-12-28 04:00:00  2020-12-28 12:25:57 2020-12-28 21:54:03\n",
       "2020-12-28 05:00:00  2020-12-28 12:25:57 2020-12-28 21:54:03\n",
       "2020-12-28 06:00:00  2020-12-28 12:25:57 2020-12-28 21:54:03\n",
       "2020-12-28 07:00:00  2020-12-28 12:25:57 2020-12-28 21:54:03\n",
       "2020-12-28 08:00:00  2020-12-28 12:25:57 2020-12-28 21:54:03\n",
       "2020-12-28 09:00:00  2020-12-28 12:25:57 2020-12-28 21:54:03\n",
       "2020-12-28 10:00:00  2020-12-28 12:25:57 2020-12-28 21:54:03\n",
       "2020-12-28 11:00:00  2020-12-28 12:25:57 2020-12-28 21:54:03\n",
       "2020-12-28 12:00:00  2020-12-28 12:25:57 2020-12-28 21:54:03\n",
       "2020-12-28 13:00:00  2020-12-28 12:25:57 2020-12-28 21:54:03\n",
       "2020-12-28 14:00:00  2020-12-28 12:25:57 2020-12-28 21:54:03\n",
       "2020-12-28 15:00:00  2020-12-28 12:25:57 2020-12-28 21:54:03\n",
       "2020-12-28 16:00:00  2020-12-28 12:25:57 2020-12-28 21:54:03\n",
       "2020-12-28 17:00:00  2020-12-28 12:25:57 2020-12-28 21:54:03\n",
       "2020-12-28 18:00:00  2020-12-28 12:25:57 2020-12-28 21:54:03\n",
       "2020-12-28 19:00:00  2020-12-28 12:25:57 2020-12-28 21:54:03\n",
       "2020-12-28 20:00:00  2020-12-28 12:25:57 2020-12-28 21:54:03\n",
       "2020-12-28 21:00:00  2020-12-28 12:25:57 2020-12-28 21:54:03\n",
       "2020-12-28 22:00:00  2020-12-28 12:25:57 2020-12-28 21:54:03\n",
       "2020-12-28 23:00:00  2020-12-28 12:25:57 2020-12-28 21:54:03\n",
       "2020-12-29 00:00:00  2020-12-29 12:26:12 2020-12-29 21:54:47\n",
       "2020-12-29 01:00:00  2020-12-29 12:26:12 2020-12-29 21:54:47\n",
       "2020-12-29 02:00:00  2020-12-29 12:26:12 2020-12-29 21:54:47\n",
       "2020-12-29 03:00:00  2020-12-29 12:26:12 2020-12-29 21:54:47\n",
       "2020-12-29 04:00:00  2020-12-29 12:26:12 2020-12-29 21:54:47\n",
       "2020-12-29 05:00:00  2020-12-29 12:26:12 2020-12-29 21:54:47\n",
       "2020-12-29 06:00:00  2020-12-29 12:26:12 2020-12-29 21:54:47\n",
       "2020-12-29 07:00:00  2020-12-29 12:26:12 2020-12-29 21:54:47\n",
       "2020-12-29 08:00:00  2020-12-29 12:26:12 2020-12-29 21:54:47\n",
       "2020-12-29 09:00:00  2020-12-29 12:26:12 2020-12-29 21:54:47\n",
       "2020-12-29 10:00:00  2020-12-29 12:26:12 2020-12-29 21:54:47\n",
       "2020-12-29 11:00:00  2020-12-29 12:26:12 2020-12-29 21:54:47\n",
       "2020-12-29 12:00:00  2020-12-29 12:26:12 2020-12-29 21:54:47\n",
       "2020-12-29 13:00:00  2020-12-29 12:26:12 2020-12-29 21:54:47\n",
       "2020-12-29 14:00:00  2020-12-29 12:26:12 2020-12-29 21:54:47\n",
       "2020-12-29 15:00:00  2020-12-29 12:26:12 2020-12-29 21:54:47\n",
       "2020-12-29 16:00:00  2020-12-29 12:26:12 2020-12-29 21:54:47\n",
       "2020-12-29 17:00:00  2020-12-29 12:26:12 2020-12-29 21:54:47\n",
       "2020-12-29 18:00:00  2020-12-29 12:26:12 2020-12-29 21:54:47\n",
       "2020-12-29 19:00:00  2020-12-29 12:26:12 2020-12-29 21:54:47\n",
       "2020-12-29 20:00:00  2020-12-29 12:26:12 2020-12-29 21:54:47\n",
       "2020-12-29 21:00:00  2020-12-29 12:26:12 2020-12-29 21:54:47\n",
       "2020-12-29 22:00:00  2020-12-29 12:26:12 2020-12-29 21:54:47\n",
       "2020-12-29 23:00:00  2020-12-29 12:26:12 2020-12-29 21:54:47\n",
       "2020-12-30 00:00:00  2020-12-30 12:26:24 2020-12-30 21:55:32\n",
       "2020-12-30 01:00:00  2020-12-30 12:26:24 2020-12-30 21:55:32\n",
       "2020-12-30 02:00:00  2020-12-30 12:26:24 2020-12-30 21:55:32\n",
       "2020-12-30 03:00:00  2020-12-30 12:26:24 2020-12-30 21:55:32\n",
       "2020-12-30 04:00:00  2020-12-30 12:26:24 2020-12-30 21:55:32\n",
       "2020-12-30 05:00:00  2020-12-30 12:26:24 2020-12-30 21:55:32\n",
       "2020-12-30 06:00:00  2020-12-30 12:26:24 2020-12-30 21:55:32\n",
       "2020-12-30 07:00:00  2020-12-30 12:26:24 2020-12-30 21:55:32\n",
       "2020-12-30 08:00:00  2020-12-30 12:26:24 2020-12-30 21:55:32\n",
       "2020-12-30 09:00:00  2020-12-30 12:26:24 2020-12-30 21:55:32\n",
       "2020-12-30 10:00:00  2020-12-30 12:26:24 2020-12-30 21:55:32\n",
       "2020-12-30 11:00:00  2020-12-30 12:26:24 2020-12-30 21:55:32\n",
       "2020-12-30 12:00:00  2020-12-30 12:26:24 2020-12-30 21:55:32\n",
       "2020-12-30 13:00:00  2020-12-30 12:26:24 2020-12-30 21:55:32\n",
       "2020-12-30 14:00:00  2020-12-30 12:26:24 2020-12-30 21:55:32\n",
       "2020-12-30 15:00:00  2020-12-30 12:26:24 2020-12-30 21:55:32\n",
       "2020-12-30 16:00:00  2020-12-30 12:26:24 2020-12-30 21:55:32\n",
       "2020-12-30 17:00:00  2020-12-30 12:26:24 2020-12-30 21:55:32\n",
       "2020-12-30 18:00:00  2020-12-30 12:26:24 2020-12-30 21:55:32\n",
       "2020-12-30 19:00:00  2020-12-30 12:26:24 2020-12-30 21:55:32\n",
       "2020-12-30 20:00:00  2020-12-30 12:26:24 2020-12-30 21:55:32\n",
       "2020-12-30 21:00:00  2020-12-30 12:26:24 2020-12-30 21:55:32\n",
       "2020-12-30 22:00:00  2020-12-30 12:26:24 2020-12-30 21:55:32\n",
       "2020-12-30 23:00:00  2020-12-30 12:26:24 2020-12-30 21:55:32\n",
       "2020-12-31 00:00:00  2020-12-31 12:26:34 2020-12-31 21:56:19"
      ]
     },
     "execution_count": 111,
     "metadata": {},
     "output_type": "execute_result"
    }
   ],
   "source": [
    "sun_time_data.tail(200)"
   ]
  },
  {
   "cell_type": "code",
   "execution_count": 112,
   "metadata": {
    "ExecuteTime": {
     "end_time": "2019-12-03T17:53:20.273728Z",
     "start_time": "2019-12-03T17:53:20.237729Z"
    }
   },
   "outputs": [],
   "source": [
    "data_df = data_df.merge(sun_time_data, how='left', left_index=True, right_index=True)"
   ]
  },
  {
   "cell_type": "code",
   "execution_count": 113,
   "metadata": {
    "ExecuteTime": {
     "end_time": "2019-12-03T17:53:20.286727Z",
     "start_time": "2019-12-03T17:53:20.279728Z"
    }
   },
   "outputs": [],
   "source": [
    "one_hour = pd.Timedelta('0 days 01:00:00')\n",
    "zero_hour = pd.Timedelta('0 days 00:00:00')"
   ]
  },
  {
   "cell_type": "code",
   "execution_count": 114,
   "metadata": {
    "ExecuteTime": {
     "end_time": "2019-12-03T17:53:20.309729Z",
     "start_time": "2019-12-03T17:53:20.291730Z"
    }
   },
   "outputs": [],
   "source": [
    "data_df['sunrise_delta'] = data_df.index + pd.Timedelta('0 days 01:00:00') - data_df['sunrise_datetime_utc']\n",
    "data_df['sunset_delta'] = data_df['sunset_datetime_utc'] - data_df.index"
   ]
  },
  {
   "cell_type": "code",
   "execution_count": 115,
   "metadata": {
    "ExecuteTime": {
     "end_time": "2019-12-03T17:53:21.651116Z",
     "start_time": "2019-12-03T17:53:20.313726Z"
    }
   },
   "outputs": [],
   "source": [
    "data_df['sunrise_sunniness'] = data_df['sunrise_delta'].apply(lambda x:\n",
    "                                                              zero_hour if x < zero_hour\n",
    "                                                              else min(x, one_hour))\n",
    "data_df['sunset_sunniness'] = data_df['sunset_delta'].apply(lambda x:\n",
    "                                                            zero_hour if x < zero_hour\n",
    "                                                            else min(x, one_hour))"
   ]
  },
  {
   "cell_type": "code",
   "execution_count": 116,
   "metadata": {
    "ExecuteTime": {
     "end_time": "2019-12-03T17:53:23.746861Z",
     "start_time": "2019-12-03T17:53:21.655118Z"
    }
   },
   "outputs": [],
   "source": [
    "data_df['sunniness'] = pd.DataFrame([data_df['sunrise_sunniness'], data_df['sunset_sunniness']]).min()\n",
    "data_df['sunniness'] = data_df['sunniness'].dt.total_seconds()"
   ]
  },
  {
   "cell_type": "code",
   "execution_count": 117,
   "metadata": {
    "ExecuteTime": {
     "end_time": "2019-12-03T17:53:23.805861Z",
     "start_time": "2019-12-03T17:53:23.750865Z"
    }
   },
   "outputs": [],
   "source": [
    "data_df.drop(columns=['sunrise_delta', 'sunset_delta', 'sunrise_sunniness',\n",
    "                      'sunset_sunniness'], inplace=True)"
   ]
  },
  {
   "cell_type": "code",
   "execution_count": 118,
   "metadata": {
    "ExecuteTime": {
     "end_time": "2019-12-03T17:53:23.845863Z",
     "start_time": "2019-12-03T17:53:23.807861Z"
    }
   },
   "outputs": [
    {
     "name": "stdout",
     "output_type": "stream",
     "text": [
      "<class 'pandas.core.frame.DataFrame'>\n",
      "DatetimeIndex: 34080 entries, 2016-01-01 05:00:00 to 2019-11-21 04:00:00\n",
      "Data columns (total 50 columns):\n",
      "datetime_beginning_ept         34080 non-null datetime64[ns]\n",
      "pnode_id                       34080 non-null int64\n",
      "pnode_name                     34080 non-null object\n",
      "system_energy_price_rt         34080 non-null float64\n",
      "total_lmp_rt                   34080 non-null float64\n",
      "congestion_price_rt            34080 non-null float64\n",
      "marginal_loss_price_rt         34080 non-null float64\n",
      "system_energy_price_da         34080 non-null float64\n",
      "total_lmp_da                   34080 non-null float64\n",
      "congestion_price_da            34080 non-null float64\n",
      "marginal_loss_price_da         34080 non-null float64\n",
      "pepco_mw                       34080 non-null float64\n",
      "midatl_mw                      34080 non-null float64\n",
      "evaluated_at_utc               34080 non-null datetime64[ns]\n",
      "evaluated_at_ept               34080 non-null datetime64[ns]\n",
      "midatl_forecast_load_mw        34080 non-null int64\n",
      "apsouth_flow_mw                34080 non-null float64\n",
      "apsouth_limit_mw               34080 non-null float64\n",
      "bcpep_flow_mw                  34080 non-null float64\n",
      "bcpep_limit_mw                 34080 non-null float64\n",
      "bed_bla_flow_mw                34080 non-null float64\n",
      "bed_bla_limit_mw               34080 non-null float64\n",
      "central_flow_mw                34080 non-null float64\n",
      "central_limit_mw               34080 non-null float64\n",
      "east_flow_mw                   34080 non-null float64\n",
      "east_limit_mw                  34080 non-null float64\n",
      "west_flow_mw                   34080 non-null float64\n",
      "west_limit_mw                  34080 non-null float64\n",
      "outage_frcst_execution_date    34061 non-null datetime64[ns]\n",
      "total_outages_mw               34061 non-null float64\n",
      "planned_outages_mw             34061 non-null float64\n",
      "maintenance_outages_mw         34061 non-null float64\n",
      "forced_outages_mw              34061 non-null float64\n",
      "precipIntensity                34080 non-null float64\n",
      "precipProbability              34080 non-null float64\n",
      "precipType                     34080 non-null object\n",
      "temperature                    34080 non-null float64\n",
      "apparentTemperature            34080 non-null float64\n",
      "dewPoint                       34080 non-null float64\n",
      "humidity                       34080 non-null float64\n",
      "pressure                       34080 non-null float64\n",
      "windSpeed                      34080 non-null float64\n",
      "windGust                       34080 non-null float64\n",
      "windBearing                    34080 non-null float64\n",
      "cloudCover                     34080 non-null float64\n",
      "uvIndex                        34080 non-null float64\n",
      "visibility                     34080 non-null float64\n",
      "sunrise_datetime_utc           34080 non-null datetime64[ns]\n",
      "sunset_datetime_utc            34080 non-null datetime64[ns]\n",
      "sunniness                      34080 non-null float64\n",
      "dtypes: datetime64[ns](6), float64(40), int64(2), object(2)\n",
      "memory usage: 14.5+ MB\n"
     ]
    }
   ],
   "source": [
    "data_df.info()"
   ]
  },
  {
   "cell_type": "code",
   "execution_count": 119,
   "metadata": {
    "ExecuteTime": {
     "end_time": "2019-12-03T17:53:23.893864Z",
     "start_time": "2019-12-03T17:53:23.849863Z"
    }
   },
   "outputs": [],
   "source": [
    "data_df.dropna(axis=0, how='any', inplace=True)"
   ]
  },
  {
   "cell_type": "code",
   "execution_count": 120,
   "metadata": {
    "ExecuteTime": {
     "end_time": "2019-12-03T17:53:23.942862Z",
     "start_time": "2019-12-03T17:53:23.898864Z"
    }
   },
   "outputs": [
    {
     "name": "stdout",
     "output_type": "stream",
     "text": [
      "<class 'pandas.core.frame.DataFrame'>\n",
      "DatetimeIndex: 34061 entries, 2016-01-02 00:00:00 to 2019-11-21 04:00:00\n",
      "Data columns (total 50 columns):\n",
      "datetime_beginning_ept         34061 non-null datetime64[ns]\n",
      "pnode_id                       34061 non-null int64\n",
      "pnode_name                     34061 non-null object\n",
      "system_energy_price_rt         34061 non-null float64\n",
      "total_lmp_rt                   34061 non-null float64\n",
      "congestion_price_rt            34061 non-null float64\n",
      "marginal_loss_price_rt         34061 non-null float64\n",
      "system_energy_price_da         34061 non-null float64\n",
      "total_lmp_da                   34061 non-null float64\n",
      "congestion_price_da            34061 non-null float64\n",
      "marginal_loss_price_da         34061 non-null float64\n",
      "pepco_mw                       34061 non-null float64\n",
      "midatl_mw                      34061 non-null float64\n",
      "evaluated_at_utc               34061 non-null datetime64[ns]\n",
      "evaluated_at_ept               34061 non-null datetime64[ns]\n",
      "midatl_forecast_load_mw        34061 non-null int64\n",
      "apsouth_flow_mw                34061 non-null float64\n",
      "apsouth_limit_mw               34061 non-null float64\n",
      "bcpep_flow_mw                  34061 non-null float64\n",
      "bcpep_limit_mw                 34061 non-null float64\n",
      "bed_bla_flow_mw                34061 non-null float64\n",
      "bed_bla_limit_mw               34061 non-null float64\n",
      "central_flow_mw                34061 non-null float64\n",
      "central_limit_mw               34061 non-null float64\n",
      "east_flow_mw                   34061 non-null float64\n",
      "east_limit_mw                  34061 non-null float64\n",
      "west_flow_mw                   34061 non-null float64\n",
      "west_limit_mw                  34061 non-null float64\n",
      "outage_frcst_execution_date    34061 non-null datetime64[ns]\n",
      "total_outages_mw               34061 non-null float64\n",
      "planned_outages_mw             34061 non-null float64\n",
      "maintenance_outages_mw         34061 non-null float64\n",
      "forced_outages_mw              34061 non-null float64\n",
      "precipIntensity                34061 non-null float64\n",
      "precipProbability              34061 non-null float64\n",
      "precipType                     34061 non-null object\n",
      "temperature                    34061 non-null float64\n",
      "apparentTemperature            34061 non-null float64\n",
      "dewPoint                       34061 non-null float64\n",
      "humidity                       34061 non-null float64\n",
      "pressure                       34061 non-null float64\n",
      "windSpeed                      34061 non-null float64\n",
      "windGust                       34061 non-null float64\n",
      "windBearing                    34061 non-null float64\n",
      "cloudCover                     34061 non-null float64\n",
      "uvIndex                        34061 non-null float64\n",
      "visibility                     34061 non-null float64\n",
      "sunrise_datetime_utc           34061 non-null datetime64[ns]\n",
      "sunset_datetime_utc            34061 non-null datetime64[ns]\n",
      "sunniness                      34061 non-null float64\n",
      "dtypes: datetime64[ns](6), float64(40), int64(2), object(2)\n",
      "memory usage: 13.3+ MB\n"
     ]
    }
   ],
   "source": [
    "data_df.info()"
   ]
  },
  {
   "cell_type": "code",
   "execution_count": 121,
   "metadata": {
    "ExecuteTime": {
     "end_time": "2019-12-03T17:53:23.965861Z",
     "start_time": "2019-12-03T17:53:23.946864Z"
    }
   },
   "outputs": [],
   "source": [
    "data_clean = data_df.drop(columns=['pnode_id', 'pnode_name',\n",
    "                                   'evaluated_at_utc', 'evaluated_at_ept',\n",
    "                                   'sunrise_datetime_utc', 'sunset_datetime_utc',\n",
    "                                   'outage_frcst_execution_date', 'windBearing'])"
   ]
  },
  {
   "cell_type": "code",
   "execution_count": 122,
   "metadata": {
    "ExecuteTime": {
     "end_time": "2019-12-03T17:53:27.047271Z",
     "start_time": "2019-12-03T17:53:23.969865Z"
    }
   },
   "outputs": [],
   "source": [
    "data_df.to_csv('data/processed/data.csv')"
   ]
  },
  {
   "cell_type": "code",
   "execution_count": 123,
   "metadata": {
    "ExecuteTime": {
     "end_time": "2019-12-03T17:53:30.452321Z",
     "start_time": "2019-12-03T17:53:27.050271Z"
    }
   },
   "outputs": [],
   "source": [
    "data_clean.to_csv('data/processed/data_clean.csv')"
   ]
  }
 ],
 "metadata": {
  "kernelspec": {
   "display_name": "Python 3",
   "language": "python",
   "name": "python3"
  },
  "language_info": {
   "codemirror_mode": {
    "name": "ipython",
    "version": 3
   },
   "file_extension": ".py",
   "mimetype": "text/x-python",
   "name": "python",
   "nbconvert_exporter": "python",
   "pygments_lexer": "ipython3",
   "version": "3.6.9"
  },
  "toc": {
   "base_numbering": 1,
   "nav_menu": {},
   "number_sections": true,
   "sideBar": true,
   "skip_h1_title": false,
   "title_cell": "Table of Contents",
   "title_sidebar": "Contents",
   "toc_cell": false,
   "toc_position": {},
   "toc_section_display": true,
   "toc_window_display": false
  }
 },
 "nbformat": 4,
 "nbformat_minor": 2
}
