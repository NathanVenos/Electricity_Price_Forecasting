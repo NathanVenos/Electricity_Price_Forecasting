{
 "cells": [
  {
   "cell_type": "code",
   "execution_count": 1,
   "metadata": {
    "ExecuteTime": {
     "end_time": "2019-12-13T18:36:07.723258Z",
     "start_time": "2019-12-13T18:36:06.435756Z"
    }
   },
   "outputs": [],
   "source": [
    "import numpy as np\n",
    "import pandas as pd\n",
    "import matplotlib.pyplot as plt\n",
    "import seaborn as sns\n",
    "%matplotlib inline\n",
    "pd.set_option('display.max_rows', 500)\n",
    "pd.set_option('display.max_columns', 500)"
   ]
  },
  {
   "cell_type": "markdown",
   "metadata": {},
   "source": [
    "# Processing Day-Ahead and Real-Time Locational Marginal Price (LMP) Data "
   ]
  },
  {
   "cell_type": "code",
   "execution_count": 2,
   "metadata": {
    "ExecuteTime": {
     "end_time": "2019-12-13T18:36:07.938240Z",
     "start_time": "2019-12-13T18:36:07.727223Z"
    }
   },
   "outputs": [],
   "source": [
    "# importing and merging the historical day ahead and real time locational marginal prices\n",
    "lmp2015 = pd.read_csv('data/rt_da_monthly_lmps_2015_PEPCO.csv')\n",
    "lmp2016 = pd.read_csv('data/rt_da_monthly_lmps_2016_PEPCO.csv')\n",
    "lmp2017 = pd.read_csv('data/rt_da_monthly_lmps_2017_PEPCO.csv')\n",
    "lmp2018 = pd.read_csv('data/rt_da_monthly_lmps_2018_PEPCO.csv')\n",
    "lmp2019 = pd.read_csv('data/rt_da_monthly_lmps_2019_PEPCO.csv')\n",
    "settled_lmps = lmp2015.append(lmp2016)\n",
    "settled_lmps = settled_lmps.append(lmp2017)\n",
    "settled_lmps = settled_lmps.append(lmp2018)\n",
    "settled_lmps = settled_lmps.append(lmp2019)"
   ]
  },
  {
   "cell_type": "code",
   "execution_count": 3,
   "metadata": {
    "ExecuteTime": {
     "end_time": "2019-12-13T18:36:07.957222Z",
     "start_time": "2019-12-13T18:36:07.940221Z"
    }
   },
   "outputs": [],
   "source": [
    "# current month LMPs not yet published in the previously imported format,\n",
    "# so individually imported from separate report\n",
    "posted_rt_lmps = pd.read_csv('data/rt_hrl_lmps_11_2019_PEPCO.csv')\n",
    "posted_da_lmps = pd.read_csv('data/da_hrl_lmps_11_2019_PEPCO.csv')"
   ]
  },
  {
   "cell_type": "code",
   "execution_count": 4,
   "metadata": {
    "ExecuteTime": {
     "end_time": "2019-12-13T18:36:07.985224Z",
     "start_time": "2019-12-13T18:36:07.960222Z"
    }
   },
   "outputs": [],
   "source": [
    "# removing unneccessary columns from settled data\n",
    "settled_lmps.drop(columns=['voltage', 'equipment',\n",
    "                           'type', 'zone'],\n",
    "                  inplace=True)"
   ]
  },
  {
   "cell_type": "code",
   "execution_count": 5,
   "metadata": {
    "ExecuteTime": {
     "end_time": "2019-12-13T18:36:07.999222Z",
     "start_time": "2019-12-13T18:36:07.991221Z"
    }
   },
   "outputs": [],
   "source": [
    "# initializing a new dataframe\n",
    "# with only important columns from current month's posted real-time data\n",
    "posted_lmps = posted_rt_lmps.drop(columns=['voltage', 'equipment',\n",
    "                                           'type', 'zone',\n",
    "                                           'row_is_current', 'version_nbr'])"
   ]
  },
  {
   "cell_type": "code",
   "execution_count": 6,
   "metadata": {
    "ExecuteTime": {
     "end_time": "2019-12-13T18:36:08.016223Z",
     "start_time": "2019-12-13T18:36:08.005232Z"
    }
   },
   "outputs": [],
   "source": [
    "# populating the rest of the dataframe with day-ahead data\n",
    "posted_lmps[['system_energy_price_da',\n",
    "             'total_lmp_da',\n",
    "             'congestion_price_da',\n",
    "             'marginal_loss_price_da']] = posted_da_lmps[['system_energy_price_da',\n",
    "                                                          'total_lmp_da',\n",
    "                                                          'congestion_price_da',\n",
    "                                                          'marginal_loss_price_da']]"
   ]
  },
  {
   "cell_type": "code",
   "execution_count": 7,
   "metadata": {
    "ExecuteTime": {
     "end_time": "2019-12-13T18:36:17.965825Z",
     "start_time": "2019-12-13T18:36:08.019226Z"
    }
   },
   "outputs": [],
   "source": [
    "# converting select columns to datetime\n",
    "settled_lmps['datetime_beginning_utc'] = pd.to_datetime(settled_lmps['datetime_beginning_utc'])\n",
    "settled_lmps['datetime_beginning_ept'] = pd.to_datetime(settled_lmps['datetime_beginning_ept'])\n",
    "\n",
    "posted_lmps['datetime_beginning_utc'] = pd.to_datetime(posted_lmps['datetime_beginning_utc'])\n",
    "posted_lmps['datetime_beginning_ept'] = pd.to_datetime(posted_lmps['datetime_beginning_ept'])"
   ]
  },
  {
   "cell_type": "code",
   "execution_count": 8,
   "metadata": {
    "ExecuteTime": {
     "end_time": "2019-12-13T18:36:18.026703Z",
     "start_time": "2019-12-13T18:36:17.967737Z"
    }
   },
   "outputs": [],
   "source": [
    "# ensuring no duplicates\n",
    "settled_lmps.drop_duplicates(inplace=True)\n",
    "\n",
    "posted_lmps.drop_duplicates(inplace=True)"
   ]
  },
  {
   "cell_type": "code",
   "execution_count": 9,
   "metadata": {
    "ExecuteTime": {
     "end_time": "2019-12-13T18:36:18.062418Z",
     "start_time": "2019-12-13T18:36:18.028594Z"
    }
   },
   "outputs": [],
   "source": [
    "# merging and sorting data and setting index to utc time\n",
    "lmp_df = settled_lmps.append(posted_lmps)\n",
    "lmp_df.sort_values(by='datetime_beginning_utc', inplace=True)\n",
    "lmp_df.index = lmp_df['datetime_beginning_utc']\n",
    "lmp_df.drop(columns='datetime_beginning_utc', inplace=True)"
   ]
  },
  {
   "cell_type": "code",
   "execution_count": 10,
   "metadata": {
    "ExecuteTime": {
     "end_time": "2019-12-13T18:36:18.090548Z",
     "start_time": "2019-12-13T18:36:18.064418Z"
    }
   },
   "outputs": [
    {
     "data": {
      "text/html": [
       "<div>\n",
       "<style scoped>\n",
       "    .dataframe tbody tr th:only-of-type {\n",
       "        vertical-align: middle;\n",
       "    }\n",
       "\n",
       "    .dataframe tbody tr th {\n",
       "        vertical-align: top;\n",
       "    }\n",
       "\n",
       "    .dataframe thead th {\n",
       "        text-align: right;\n",
       "    }\n",
       "</style>\n",
       "<table border=\"1\" class=\"dataframe\">\n",
       "  <thead>\n",
       "    <tr style=\"text-align: right;\">\n",
       "      <th></th>\n",
       "      <th>datetime_beginning_ept</th>\n",
       "      <th>pnode_id</th>\n",
       "      <th>pnode_name</th>\n",
       "      <th>system_energy_price_rt</th>\n",
       "      <th>total_lmp_rt</th>\n",
       "      <th>congestion_price_rt</th>\n",
       "      <th>marginal_loss_price_rt</th>\n",
       "      <th>system_energy_price_da</th>\n",
       "      <th>total_lmp_da</th>\n",
       "      <th>congestion_price_da</th>\n",
       "      <th>marginal_loss_price_da</th>\n",
       "    </tr>\n",
       "    <tr>\n",
       "      <th>datetime_beginning_utc</th>\n",
       "      <th></th>\n",
       "      <th></th>\n",
       "      <th></th>\n",
       "      <th></th>\n",
       "      <th></th>\n",
       "      <th></th>\n",
       "      <th></th>\n",
       "      <th></th>\n",
       "      <th></th>\n",
       "      <th></th>\n",
       "      <th></th>\n",
       "    </tr>\n",
       "  </thead>\n",
       "  <tbody>\n",
       "    <tr>\n",
       "      <th>2015-01-01 05:00:00</th>\n",
       "      <td>2015-01-01 00:00:00</td>\n",
       "      <td>51298</td>\n",
       "      <td>PEPCO</td>\n",
       "      <td>27.90</td>\n",
       "      <td>29.679524</td>\n",
       "      <td>0.518941</td>\n",
       "      <td>1.260583</td>\n",
       "      <td>28.11</td>\n",
       "      <td>32.515687</td>\n",
       "      <td>3.763290</td>\n",
       "      <td>0.642397</td>\n",
       "    </tr>\n",
       "    <tr>\n",
       "      <th>2015-01-01 06:00:00</th>\n",
       "      <td>2015-01-01 01:00:00</td>\n",
       "      <td>51298</td>\n",
       "      <td>PEPCO</td>\n",
       "      <td>27.89</td>\n",
       "      <td>29.381736</td>\n",
       "      <td>0.238513</td>\n",
       "      <td>1.253222</td>\n",
       "      <td>27.83</td>\n",
       "      <td>32.999114</td>\n",
       "      <td>4.533097</td>\n",
       "      <td>0.636017</td>\n",
       "    </tr>\n",
       "  </tbody>\n",
       "</table>\n",
       "</div>"
      ],
      "text/plain": [
       "                       datetime_beginning_ept  pnode_id pnode_name  \\\n",
       "datetime_beginning_utc                                               \n",
       "2015-01-01 05:00:00       2015-01-01 00:00:00     51298      PEPCO   \n",
       "2015-01-01 06:00:00       2015-01-01 01:00:00     51298      PEPCO   \n",
       "\n",
       "                        system_energy_price_rt  total_lmp_rt  \\\n",
       "datetime_beginning_utc                                         \n",
       "2015-01-01 05:00:00                      27.90     29.679524   \n",
       "2015-01-01 06:00:00                      27.89     29.381736   \n",
       "\n",
       "                        congestion_price_rt  marginal_loss_price_rt  \\\n",
       "datetime_beginning_utc                                                \n",
       "2015-01-01 05:00:00                0.518941                1.260583   \n",
       "2015-01-01 06:00:00                0.238513                1.253222   \n",
       "\n",
       "                        system_energy_price_da  total_lmp_da  \\\n",
       "datetime_beginning_utc                                         \n",
       "2015-01-01 05:00:00                      28.11     32.515687   \n",
       "2015-01-01 06:00:00                      27.83     32.999114   \n",
       "\n",
       "                        congestion_price_da  marginal_loss_price_da  \n",
       "datetime_beginning_utc                                               \n",
       "2015-01-01 05:00:00                3.763290                0.642397  \n",
       "2015-01-01 06:00:00                4.533097                0.636017  "
      ]
     },
     "execution_count": 10,
     "metadata": {},
     "output_type": "execute_result"
    }
   ],
   "source": [
    "lmp_df.head(2)"
   ]
  },
  {
   "cell_type": "code",
   "execution_count": 11,
   "metadata": {
    "ExecuteTime": {
     "end_time": "2019-12-13T18:36:18.127992Z",
     "start_time": "2019-12-13T18:36:18.092549Z"
    }
   },
   "outputs": [
    {
     "name": "stdout",
     "output_type": "stream",
     "text": [
      "<class 'pandas.core.frame.DataFrame'>\n",
      "DatetimeIndex: 42840 entries, 2015-01-01 05:00:00 to 2019-11-21 04:00:00\n",
      "Data columns (total 11 columns):\n",
      "datetime_beginning_ept    42840 non-null datetime64[ns]\n",
      "pnode_id                  42840 non-null int64\n",
      "pnode_name                42840 non-null object\n",
      "system_energy_price_rt    42840 non-null float64\n",
      "total_lmp_rt              42840 non-null float64\n",
      "congestion_price_rt       42840 non-null float64\n",
      "marginal_loss_price_rt    42840 non-null float64\n",
      "system_energy_price_da    42840 non-null float64\n",
      "total_lmp_da              42840 non-null float64\n",
      "congestion_price_da       42840 non-null float64\n",
      "marginal_loss_price_da    42840 non-null float64\n",
      "dtypes: datetime64[ns](1), float64(8), int64(1), object(1)\n",
      "memory usage: 3.9+ MB\n"
     ]
    }
   ],
   "source": [
    "lmp_df.info()"
   ]
  },
  {
   "cell_type": "markdown",
   "metadata": {},
   "source": [
    "# Processing PEPCO, Mid-Atlantic, and Forecasted Mid-Atlantic Load (Instantaneous Consumption) Data "
   ]
  },
  {
   "cell_type": "code",
   "execution_count": 12,
   "metadata": {
    "ExecuteTime": {
     "end_time": "2019-12-13T18:36:18.261222Z",
     "start_time": "2019-12-13T18:36:18.127992Z"
    }
   },
   "outputs": [],
   "source": [
    "# importing and merging the historical load (i.e. instantaneous consumption) data for pepco\n",
    "pepco_load_2015 = pd.read_csv('data/hrl_load_metered_2015_PEPCO.csv')\n",
    "pepco_load_2016 = pd.read_csv('data/hrl_load_metered_2016_PEPCO.csv')\n",
    "pepco_load_2017 = pd.read_csv('data/hrl_load_metered_2017_PEPCO.csv')\n",
    "pepco_load_2018 = pd.read_csv('data/hrl_load_metered_2018_PEPCO.csv')\n",
    "pepco_load_2019 = pd.read_csv('data/hrl_load_metered_2019_PEPCO.csv')\n",
    "pepco_load = pepco_load_2015.append(pepco_load_2016)\n",
    "pepco_load = pepco_load.append(pepco_load_2017)\n",
    "pepco_load = pepco_load.append(pepco_load_2018)\n",
    "pepco_load = pepco_load.append(pepco_load_2019)"
   ]
  },
  {
   "cell_type": "code",
   "execution_count": 13,
   "metadata": {
    "ExecuteTime": {
     "end_time": "2019-12-13T18:36:19.001144Z",
     "start_time": "2019-12-13T18:36:18.262116Z"
    }
   },
   "outputs": [],
   "source": [
    "# importing and merging the historical load (i.e. instantaneous consumption) data for mid-atlantic\n",
    "midatl_load_2015 = pd.read_csv('data/hrl_load_metered_2015_MIDATL.csv')\n",
    "midatl_load_2016 = pd.read_csv('data/hrl_load_metered_2016_MIDATL.csv')\n",
    "midatl_load_2017 = pd.read_csv('data/hrl_load_metered_2017_MIDATL.csv')\n",
    "midatl_load_2018 = pd.read_csv('data/hrl_load_metered_2018_MIDATL.csv')\n",
    "midatl_load_2019 = pd.read_csv('data/hrl_load_metered_2019_MIDATL.csv')\n",
    "midatl_load = midatl_load_2015.append(midatl_load_2016)\n",
    "midatl_load = midatl_load.append(midatl_load_2017)\n",
    "midatl_load = midatl_load.append(midatl_load_2018)\n",
    "midatl_load = midatl_load.append(midatl_load_2019)"
   ]
  },
  {
   "cell_type": "code",
   "execution_count": 14,
   "metadata": {
    "ExecuteTime": {
     "end_time": "2019-12-13T18:36:19.533587Z",
     "start_time": "2019-12-13T18:36:19.003045Z"
    }
   },
   "outputs": [],
   "source": [
    "# importing and merging the historical load (i.e. instantaneous consumption) forecasts for mid-atlantic\n",
    "# historical pepco forecasts not available\n",
    "midatl_frcstd_load_2015 = pd.read_csv('data/load_frcstd_hist_2015_MIDATL.csv')\n",
    "midatl_frcstd_load_2016 = pd.read_csv('data/load_frcstd_hist_2016_MIDATL.csv')\n",
    "midatl_frcstd_load_2017 = pd.read_csv('data/load_frcstd_hist_2017_MIDATL.csv')\n",
    "midatl_frcstd_load_2018 = pd.read_csv('data/load_frcstd_hist_2018_MIDATL.csv')\n",
    "midatl_frcstd_load_2019 = pd.read_csv('data/load_frcstd_hist_2019_MIDATL.csv')\n",
    "midatl_frcstd_load = midatl_frcstd_load_2015.append(midatl_frcstd_load_2016)\n",
    "midatl_frcstd_load = midatl_frcstd_load.append(midatl_frcstd_load_2017)\n",
    "midatl_frcstd_load = midatl_frcstd_load.append(midatl_frcstd_load_2018)\n",
    "midatl_frcstd_load = midatl_frcstd_load.append(midatl_frcstd_load_2019)"
   ]
  },
  {
   "cell_type": "code",
   "execution_count": 15,
   "metadata": {
    "ExecuteTime": {
     "end_time": "2019-12-13T18:36:19.592596Z",
     "start_time": "2019-12-13T18:36:19.534563Z"
    }
   },
   "outputs": [],
   "source": [
    "# making explicit the different loads\n",
    "pepco_load.rename({'mw': 'pepco_mw'}, axis=1, inplace=True)\n",
    "\n",
    "midatl_load.rename({'mw': 'midatl_mw'}, axis=1, inplace=True)\n",
    "\n",
    "midatl_frcstd_load.rename({'forecast_load_mw': 'midatl_forecast_load_mw'}, axis=1, inplace=True)"
   ]
  },
  {
   "cell_type": "code",
   "execution_count": 16,
   "metadata": {
    "ExecuteTime": {
     "end_time": "2019-12-13T18:36:19.640562Z",
     "start_time": "2019-12-13T18:36:19.594564Z"
    }
   },
   "outputs": [],
   "source": [
    "# removing unneccessary columns\n",
    "pepco_load.drop(columns=['datetime_beginning_ept', 'nerc_region',\n",
    "                         'mkt_region', 'zone',\n",
    "                         'load_area', 'is_verified'],\n",
    "                inplace=True)\n",
    "\n",
    "midatl_load.drop(columns=['datetime_beginning_ept', 'nerc_region',\n",
    "                          'mkt_region', 'zone',\n",
    "                          'load_area', 'is_verified'],\n",
    "                 inplace=True)\n",
    "\n",
    "midatl_frcstd_load.drop(columns=['forecast_hour_beginning_ept',\n",
    "                                 'forecast_area'], inplace=True)"
   ]
  },
  {
   "cell_type": "code",
   "execution_count": 17,
   "metadata": {
    "ExecuteTime": {
     "end_time": "2019-12-13T18:36:35.296753Z",
     "start_time": "2019-12-13T18:36:19.642563Z"
    }
   },
   "outputs": [],
   "source": [
    "# converting select columns to datetime\n",
    "pepco_load['datetime_beginning_utc'] = pd.to_datetime(pepco_load['datetime_beginning_utc'])\n",
    "\n",
    "midatl_load['datetime_beginning_utc'] = pd.to_datetime(midatl_load['datetime_beginning_utc'])\n",
    "\n",
    "midatl_frcstd_load['evaluated_at_utc'] = pd.to_datetime(midatl_frcstd_load['evaluated_at_utc'])\n",
    "midatl_frcstd_load['evaluated_at_ept'] = pd.to_datetime(midatl_frcstd_load['evaluated_at_ept'])\n",
    "midatl_frcstd_load['forecast_hour_beginning_utc'] = pd.to_datetime(midatl_frcstd_load['forecast_hour_beginning_utc'])"
   ]
  },
  {
   "cell_type": "code",
   "execution_count": 18,
   "metadata": {
    "ExecuteTime": {
     "end_time": "2019-12-13T18:36:35.543684Z",
     "start_time": "2019-12-13T18:36:35.298657Z"
    }
   },
   "outputs": [],
   "source": [
    "# ensuring no duplicates\n",
    "pepco_load.drop_duplicates(inplace=True)\n",
    "\n",
    "midatl_load.drop_duplicates(inplace=True)\n",
    "\n",
    "midatl_frcstd_load.drop_duplicates(inplace=True)"
   ]
  },
  {
   "cell_type": "code",
   "execution_count": 19,
   "metadata": {
    "ExecuteTime": {
     "end_time": "2019-12-13T18:36:35.700657Z",
     "start_time": "2019-12-13T18:36:35.545656Z"
    }
   },
   "outputs": [],
   "source": [
    "# sorting data and setting index to utc time\n",
    "pepco_load.sort_values(by='datetime_beginning_utc', inplace=True)\n",
    "pepco_load.index = pepco_load['datetime_beginning_utc']\n",
    "pepco_load.drop(columns='datetime_beginning_utc', inplace=True)\n",
    "\n",
    "midatl_load.sort_values(by='datetime_beginning_utc', inplace=True)\n",
    "midatl_load.index = midatl_load['datetime_beginning_utc']\n",
    "\n",
    "midatl_frcstd_load.sort_values(by=['forecast_hour_beginning_utc', 'evaluated_at_utc'], inplace=True)\n",
    "midatl_frcstd_load.reset_index(drop=True, inplace=True)"
   ]
  },
  {
   "cell_type": "code",
   "execution_count": 20,
   "metadata": {
    "ExecuteTime": {
     "end_time": "2019-12-13T18:36:35.743762Z",
     "start_time": "2019-12-13T18:36:35.702656Z"
    }
   },
   "outputs": [],
   "source": [
    "# mid-atlantic load is provided as a separate line for each sub-region for each hour\n",
    "# so it must be aggregated by hour to have a single value for each hour\n",
    "midatl_load = midatl_load.resample('1H').sum()"
   ]
  },
  {
   "cell_type": "code",
   "execution_count": 21,
   "metadata": {
    "ExecuteTime": {
     "end_time": "2019-12-13T18:36:35.754659Z",
     "start_time": "2019-12-13T18:36:35.745656Z"
    }
   },
   "outputs": [],
   "source": [
    "# merging the pepco and mid-atlantic load data into a common load dataframe\n",
    "load_df = pepco_load.merge(midatl_load, how='left', left_index=True, right_index=True)"
   ]
  },
  {
   "cell_type": "code",
   "execution_count": 22,
   "metadata": {
    "ExecuteTime": {
     "end_time": "2019-12-13T18:37:22.908920Z",
     "start_time": "2019-12-13T18:36:35.757658Z"
    }
   },
   "outputs": [],
   "source": [
    "# only retaining the oldest and latest forecast for simplicity\n",
    "temp_midatl_frcstd_load = midatl_frcstd_load.copy()\n",
    "# identifying the oldest and latest forecast indices\n",
    "hrly_midatl_frcstd_load = temp_midatl_frcstd_load.groupby(by='forecast_hour_beginning_utc').idxmin()\n",
    "hrly_midatl_frcstd_load_last = temp_midatl_frcstd_load.groupby(by='forecast_hour_beginning_utc').idxmax()\n",
    "# resetting/establishing dataframes with the oldest and latest forecasts\n",
    "midatl_frcstd_load = temp_midatl_frcstd_load.iloc[hrly_midatl_frcstd_load.iloc[:,0], :].reset_index(drop=True)\n",
    "midatl_frcstd_load_last = temp_midatl_frcstd_load.iloc[hrly_midatl_frcstd_load_last.iloc[:,0], :].reset_index(drop=True)"
   ]
  },
  {
   "cell_type": "code",
   "execution_count": 23,
   "metadata": {
    "ExecuteTime": {
     "end_time": "2019-12-13T18:37:22.933898Z",
     "start_time": "2019-12-13T18:37:22.913901Z"
    }
   },
   "outputs": [],
   "source": [
    "# combining the two forecast dataframes and setting the index to utc time\n",
    "midatl_frcstd_load['midatl_forecast_load_mw_final'] = midatl_frcstd_load_last.loc[:, 'midatl_forecast_load_mw']\n",
    "midatl_frcstd_load.index = midatl_frcstd_load.loc[:, 'forecast_hour_beginning_utc']\n",
    "midatl_frcstd_load.drop(columns=['forecast_hour_beginning_utc'], inplace=True)"
   ]
  },
  {
   "cell_type": "code",
   "execution_count": 24,
   "metadata": {
    "ExecuteTime": {
     "end_time": "2019-12-13T18:37:22.951898Z",
     "start_time": "2019-12-13T18:37:22.936900Z"
    }
   },
   "outputs": [],
   "source": [
    "# merging the historical load forecasts into the load dataframe\n",
    "load_df = load_df.merge(midatl_frcstd_load, how='left', left_index=True, right_index=True)"
   ]
  },
  {
   "cell_type": "code",
   "execution_count": 25,
   "metadata": {
    "ExecuteTime": {
     "end_time": "2019-12-13T18:37:22.972899Z",
     "start_time": "2019-12-13T18:37:22.955899Z"
    }
   },
   "outputs": [
    {
     "data": {
      "text/html": [
       "<div>\n",
       "<style scoped>\n",
       "    .dataframe tbody tr th:only-of-type {\n",
       "        vertical-align: middle;\n",
       "    }\n",
       "\n",
       "    .dataframe tbody tr th {\n",
       "        vertical-align: top;\n",
       "    }\n",
       "\n",
       "    .dataframe thead th {\n",
       "        text-align: right;\n",
       "    }\n",
       "</style>\n",
       "<table border=\"1\" class=\"dataframe\">\n",
       "  <thead>\n",
       "    <tr style=\"text-align: right;\">\n",
       "      <th></th>\n",
       "      <th>pepco_mw</th>\n",
       "      <th>midatl_mw</th>\n",
       "      <th>evaluated_at_utc</th>\n",
       "      <th>evaluated_at_ept</th>\n",
       "      <th>midatl_forecast_load_mw</th>\n",
       "      <th>midatl_forecast_load_mw_final</th>\n",
       "    </tr>\n",
       "    <tr>\n",
       "      <th>datetime_beginning_utc</th>\n",
       "      <th></th>\n",
       "      <th></th>\n",
       "      <th></th>\n",
       "      <th></th>\n",
       "      <th></th>\n",
       "      <th></th>\n",
       "    </tr>\n",
       "  </thead>\n",
       "  <tbody>\n",
       "    <tr>\n",
       "      <th>2019-11-21 03:00:00</th>\n",
       "      <td>2650.363</td>\n",
       "      <td>29184.714</td>\n",
       "      <td>2019-11-19 10:45:00</td>\n",
       "      <td>2019-11-19 05:45:00</td>\n",
       "      <td>29481</td>\n",
       "      <td>29500</td>\n",
       "    </tr>\n",
       "    <tr>\n",
       "      <th>2019-11-21 04:00:00</th>\n",
       "      <td>2487.477</td>\n",
       "      <td>27440.844</td>\n",
       "      <td>2019-11-19 10:45:00</td>\n",
       "      <td>2019-11-19 05:45:00</td>\n",
       "      <td>27716</td>\n",
       "      <td>27711</td>\n",
       "    </tr>\n",
       "  </tbody>\n",
       "</table>\n",
       "</div>"
      ],
      "text/plain": [
       "                        pepco_mw  midatl_mw    evaluated_at_utc  \\\n",
       "datetime_beginning_utc                                            \n",
       "2019-11-21 03:00:00     2650.363  29184.714 2019-11-19 10:45:00   \n",
       "2019-11-21 04:00:00     2487.477  27440.844 2019-11-19 10:45:00   \n",
       "\n",
       "                          evaluated_at_ept  midatl_forecast_load_mw  \\\n",
       "datetime_beginning_utc                                                \n",
       "2019-11-21 03:00:00    2019-11-19 05:45:00                    29481   \n",
       "2019-11-21 04:00:00    2019-11-19 05:45:00                    27716   \n",
       "\n",
       "                        midatl_forecast_load_mw_final  \n",
       "datetime_beginning_utc                                 \n",
       "2019-11-21 03:00:00                             29500  \n",
       "2019-11-21 04:00:00                             27711  "
      ]
     },
     "execution_count": 25,
     "metadata": {},
     "output_type": "execute_result"
    }
   ],
   "source": [
    "load_df.tail(2)"
   ]
  },
  {
   "cell_type": "code",
   "execution_count": 26,
   "metadata": {
    "ExecuteTime": {
     "end_time": "2019-12-13T18:37:22.991898Z",
     "start_time": "2019-12-13T18:37:22.976901Z"
    }
   },
   "outputs": [],
   "source": [
    "# generating a common dataframe with lmp and load data\n",
    "data_df = lmp_df.merge(load_df, how='left', left_index=True, right_index=True)\n",
    "data_df.index.name = 'datetime_beginning_utc'"
   ]
  },
  {
   "cell_type": "code",
   "execution_count": 27,
   "metadata": {
    "ExecuteTime": {
     "end_time": "2019-12-13T18:37:23.018897Z",
     "start_time": "2019-12-13T18:37:22.993896Z"
    }
   },
   "outputs": [
    {
     "name": "stdout",
     "output_type": "stream",
     "text": [
      "<class 'pandas.core.frame.DataFrame'>\n",
      "DatetimeIndex: 42840 entries, 2015-01-01 05:00:00 to 2019-11-21 04:00:00\n",
      "Data columns (total 17 columns):\n",
      "datetime_beginning_ept           42840 non-null datetime64[ns]\n",
      "pnode_id                         42840 non-null int64\n",
      "pnode_name                       42840 non-null object\n",
      "system_energy_price_rt           42840 non-null float64\n",
      "total_lmp_rt                     42840 non-null float64\n",
      "congestion_price_rt              42840 non-null float64\n",
      "marginal_loss_price_rt           42840 non-null float64\n",
      "system_energy_price_da           42840 non-null float64\n",
      "total_lmp_da                     42840 non-null float64\n",
      "congestion_price_da              42840 non-null float64\n",
      "marginal_loss_price_da           42840 non-null float64\n",
      "pepco_mw                         42840 non-null float64\n",
      "midatl_mw                        42840 non-null float64\n",
      "evaluated_at_utc                 42840 non-null datetime64[ns]\n",
      "evaluated_at_ept                 42840 non-null datetime64[ns]\n",
      "midatl_forecast_load_mw          42840 non-null int64\n",
      "midatl_forecast_load_mw_final    42840 non-null int64\n",
      "dtypes: datetime64[ns](3), float64(10), int64(3), object(1)\n",
      "memory usage: 7.1+ MB\n"
     ]
    }
   ],
   "source": [
    "data_df.info()"
   ]
  },
  {
   "cell_type": "markdown",
   "metadata": {},
   "source": [
    "# Processing Regional Interface Flow (Electricity Transmitted In/Out of Region) Data "
   ]
  },
  {
   "cell_type": "code",
   "execution_count": 29,
   "metadata": {
    "ExecuteTime": {
     "end_time": "2019-12-13T18:37:23.357900Z",
     "start_time": "2019-12-13T18:37:23.029899Z"
    }
   },
   "outputs": [],
   "source": [
    "# importing and merging interface flow (i.e electricity transmitted in/out of regions) data\n",
    "interface_flows_2015 = pd.read_csv('data/da_interface_flows_and_limits_2015_ALL.csv')\n",
    "interface_flows_2016 = pd.read_csv('data/da_interface_flows_and_limits_2016_ALL.csv')\n",
    "interface_flows_2017 = pd.read_csv('data/da_interface_flows_and_limits_2017_ALL.csv')\n",
    "interface_flows_2018 = pd.read_csv('data/da_interface_flows_and_limits_2018_ALL.csv')\n",
    "interface_flows_2019 = pd.read_csv('data/da_interface_flows_and_limits_2019_ALL.csv')\n",
    "interface_flows_stack = interface_flows_2015.append(interface_flows_2016)\n",
    "interface_flows_stack = interface_flows_stack.append(interface_flows_2017)\n",
    "interface_flows_stack = interface_flows_stack.append(interface_flows_2018)\n",
    "interface_flows_stack = interface_flows_stack.append(interface_flows_2019)"
   ]
  },
  {
   "cell_type": "code",
   "execution_count": 30,
   "metadata": {
    "ExecuteTime": {
     "end_time": "2019-12-13T18:37:23.375899Z",
     "start_time": "2019-12-13T18:37:23.359897Z"
    }
   },
   "outputs": [],
   "source": [
    "# removing unnecessary columns\n",
    "interface_flows_stack.drop(columns=['datetime_beginning_ept'], inplace=True)"
   ]
  },
  {
   "cell_type": "code",
   "execution_count": 31,
   "metadata": {
    "ExecuteTime": {
     "end_time": "2019-12-13T18:37:23.391903Z",
     "start_time": "2019-12-13T18:37:23.377901Z"
    }
   },
   "outputs": [
    {
     "data": {
      "text/html": [
       "<div>\n",
       "<style scoped>\n",
       "    .dataframe tbody tr th:only-of-type {\n",
       "        vertical-align: middle;\n",
       "    }\n",
       "\n",
       "    .dataframe tbody tr th {\n",
       "        vertical-align: top;\n",
       "    }\n",
       "\n",
       "    .dataframe thead th {\n",
       "        text-align: right;\n",
       "    }\n",
       "</style>\n",
       "<table border=\"1\" class=\"dataframe\">\n",
       "  <thead>\n",
       "    <tr style=\"text-align: right;\">\n",
       "      <th></th>\n",
       "      <th>datetime_beginning_utc</th>\n",
       "      <th>interface_limit_name</th>\n",
       "      <th>flow_mw</th>\n",
       "      <th>limit_mw</th>\n",
       "    </tr>\n",
       "  </thead>\n",
       "  <tbody>\n",
       "    <tr>\n",
       "      <th>0</th>\n",
       "      <td>1/1/2015 5:00:00 AM</td>\n",
       "      <td>APSOUTH</td>\n",
       "      <td>4463</td>\n",
       "      <td>4900</td>\n",
       "    </tr>\n",
       "    <tr>\n",
       "      <th>1</th>\n",
       "      <td>1/1/2015 5:00:00 AM</td>\n",
       "      <td>BCPEP</td>\n",
       "      <td>5281</td>\n",
       "      <td>5600</td>\n",
       "    </tr>\n",
       "    <tr>\n",
       "      <th>2</th>\n",
       "      <td>1/1/2015 5:00:00 AM</td>\n",
       "      <td>BED-BLA</td>\n",
       "      <td>1590</td>\n",
       "      <td>1600</td>\n",
       "    </tr>\n",
       "    <tr>\n",
       "      <th>3</th>\n",
       "      <td>1/1/2015 5:00:00 AM</td>\n",
       "      <td>CENTRAL</td>\n",
       "      <td>1540</td>\n",
       "      <td>3000</td>\n",
       "    </tr>\n",
       "    <tr>\n",
       "      <th>4</th>\n",
       "      <td>1/1/2015 5:00:00 AM</td>\n",
       "      <td>EAST</td>\n",
       "      <td>3944</td>\n",
       "      <td>5300</td>\n",
       "    </tr>\n",
       "  </tbody>\n",
       "</table>\n",
       "</div>"
      ],
      "text/plain": [
       "  datetime_beginning_utc interface_limit_name  flow_mw  limit_mw\n",
       "0    1/1/2015 5:00:00 AM              APSOUTH     4463      4900\n",
       "1    1/1/2015 5:00:00 AM                BCPEP     5281      5600\n",
       "2    1/1/2015 5:00:00 AM              BED-BLA     1590      1600\n",
       "3    1/1/2015 5:00:00 AM              CENTRAL     1540      3000\n",
       "4    1/1/2015 5:00:00 AM                 EAST     3944      5300"
      ]
     },
     "execution_count": 31,
     "metadata": {},
     "output_type": "execute_result"
    }
   ],
   "source": [
    "interface_flows_stack.head()"
   ]
  },
  {
   "cell_type": "code",
   "execution_count": 32,
   "metadata": {
    "ExecuteTime": {
     "end_time": "2019-12-13T18:37:23.452918Z",
     "start_time": "2019-12-13T18:37:23.404898Z"
    }
   },
   "outputs": [],
   "source": [
    "# data is provided as a single column of flows with a separate row for each region and hour\n",
    "# initializing a dataframe with one row per hour in the data\n",
    "# that will be appended with one column per regions' flow and flow limit\n",
    "interface_flows = interface_flows_stack[['datetime_beginning_utc']].copy()\n",
    "interface_flows.drop_duplicates(inplace=True)"
   ]
  },
  {
   "cell_type": "code",
   "execution_count": 33,
   "metadata": {
    "ExecuteTime": {
     "end_time": "2019-12-13T18:37:23.705007Z",
     "start_time": "2019-12-13T18:37:23.455898Z"
    }
   },
   "outputs": [],
   "source": [
    "# performing the unstacking by grouping the data by region\n",
    "# and overwritting the copied dataframe\n",
    "grouped = interface_flows_stack.groupby(by='interface_limit_name')\n",
    "for name, group in grouped:\n",
    "    group = group.copy()\n",
    "    # naming the columns based on region\n",
    "    group.rename(columns={'flow_mw': name.lower().replace('-', '_')+'_flow_mw',\n",
    "                          'limit_mw': name.lower().replace('-', '_')+'_limit_mw'},\n",
    "                 inplace=True)\n",
    "    # dropping name column that is now represented in the flow column names\n",
    "    group.drop(columns=['interface_limit_name'], inplace=True)\n",
    "    # appending the region columns to the final dataframe\n",
    "    interface_flows = interface_flows.merge(group,\n",
    "                                            how='left',\n",
    "                                            left_on='datetime_beginning_utc',\n",
    "                                            right_on='datetime_beginning_utc')"
   ]
  },
  {
   "cell_type": "code",
   "execution_count": 34,
   "metadata": {
    "ExecuteTime": {
     "end_time": "2019-12-13T18:37:23.725901Z",
     "start_time": "2019-12-13T18:37:23.706928Z"
    }
   },
   "outputs": [
    {
     "data": {
      "text/html": [
       "<div>\n",
       "<style scoped>\n",
       "    .dataframe tbody tr th:only-of-type {\n",
       "        vertical-align: middle;\n",
       "    }\n",
       "\n",
       "    .dataframe tbody tr th {\n",
       "        vertical-align: top;\n",
       "    }\n",
       "\n",
       "    .dataframe thead th {\n",
       "        text-align: right;\n",
       "    }\n",
       "</style>\n",
       "<table border=\"1\" class=\"dataframe\">\n",
       "  <thead>\n",
       "    <tr style=\"text-align: right;\">\n",
       "      <th></th>\n",
       "      <th>datetime_beginning_utc</th>\n",
       "      <th>apsouth_flow_mw</th>\n",
       "      <th>apsouth_limit_mw</th>\n",
       "      <th>bcpep_flow_mw</th>\n",
       "      <th>bcpep_limit_mw</th>\n",
       "      <th>bed_bla_flow_mw</th>\n",
       "      <th>bed_bla_limit_mw</th>\n",
       "      <th>central_flow_mw</th>\n",
       "      <th>central_limit_mw</th>\n",
       "      <th>east_flow_mw</th>\n",
       "      <th>east_limit_mw</th>\n",
       "      <th>west_flow_mw</th>\n",
       "      <th>west_limit_mw</th>\n",
       "    </tr>\n",
       "  </thead>\n",
       "  <tbody>\n",
       "    <tr>\n",
       "      <th>0</th>\n",
       "      <td>1/1/2015 5:00:00 AM</td>\n",
       "      <td>4463</td>\n",
       "      <td>4900</td>\n",
       "      <td>5281</td>\n",
       "      <td>5600</td>\n",
       "      <td>1590.0</td>\n",
       "      <td>1600.0</td>\n",
       "      <td>1540</td>\n",
       "      <td>3000</td>\n",
       "      <td>3944</td>\n",
       "      <td>5300</td>\n",
       "      <td>4385</td>\n",
       "      <td>5200</td>\n",
       "    </tr>\n",
       "    <tr>\n",
       "      <th>1</th>\n",
       "      <td>1/1/2015 6:00:00 AM</td>\n",
       "      <td>4399</td>\n",
       "      <td>4900</td>\n",
       "      <td>5164</td>\n",
       "      <td>5600</td>\n",
       "      <td>1592.0</td>\n",
       "      <td>1600.0</td>\n",
       "      <td>1419</td>\n",
       "      <td>3000</td>\n",
       "      <td>3621</td>\n",
       "      <td>5300</td>\n",
       "      <td>4128</td>\n",
       "      <td>5200</td>\n",
       "    </tr>\n",
       "    <tr>\n",
       "      <th>2</th>\n",
       "      <td>1/1/2015 7:00:00 AM</td>\n",
       "      <td>4377</td>\n",
       "      <td>4900</td>\n",
       "      <td>5035</td>\n",
       "      <td>5600</td>\n",
       "      <td>1597.0</td>\n",
       "      <td>1600.0</td>\n",
       "      <td>1581</td>\n",
       "      <td>3000</td>\n",
       "      <td>3818</td>\n",
       "      <td>5300</td>\n",
       "      <td>4152</td>\n",
       "      <td>5200</td>\n",
       "    </tr>\n",
       "    <tr>\n",
       "      <th>3</th>\n",
       "      <td>1/1/2015 8:00:00 AM</td>\n",
       "      <td>4431</td>\n",
       "      <td>4900</td>\n",
       "      <td>5164</td>\n",
       "      <td>5600</td>\n",
       "      <td>1599.0</td>\n",
       "      <td>1600.0</td>\n",
       "      <td>1516</td>\n",
       "      <td>3000</td>\n",
       "      <td>3812</td>\n",
       "      <td>5300</td>\n",
       "      <td>4205</td>\n",
       "      <td>5200</td>\n",
       "    </tr>\n",
       "    <tr>\n",
       "      <th>4</th>\n",
       "      <td>1/1/2015 9:00:00 AM</td>\n",
       "      <td>4338</td>\n",
       "      <td>4900</td>\n",
       "      <td>5127</td>\n",
       "      <td>5600</td>\n",
       "      <td>1598.0</td>\n",
       "      <td>1600.0</td>\n",
       "      <td>1549</td>\n",
       "      <td>3000</td>\n",
       "      <td>3734</td>\n",
       "      <td>5300</td>\n",
       "      <td>4211</td>\n",
       "      <td>5200</td>\n",
       "    </tr>\n",
       "  </tbody>\n",
       "</table>\n",
       "</div>"
      ],
      "text/plain": [
       "  datetime_beginning_utc  apsouth_flow_mw  apsouth_limit_mw  bcpep_flow_mw  \\\n",
       "0    1/1/2015 5:00:00 AM             4463              4900           5281   \n",
       "1    1/1/2015 6:00:00 AM             4399              4900           5164   \n",
       "2    1/1/2015 7:00:00 AM             4377              4900           5035   \n",
       "3    1/1/2015 8:00:00 AM             4431              4900           5164   \n",
       "4    1/1/2015 9:00:00 AM             4338              4900           5127   \n",
       "\n",
       "   bcpep_limit_mw  bed_bla_flow_mw  bed_bla_limit_mw  central_flow_mw  \\\n",
       "0            5600           1590.0            1600.0             1540   \n",
       "1            5600           1592.0            1600.0             1419   \n",
       "2            5600           1597.0            1600.0             1581   \n",
       "3            5600           1599.0            1600.0             1516   \n",
       "4            5600           1598.0            1600.0             1549   \n",
       "\n",
       "   central_limit_mw  east_flow_mw  east_limit_mw  west_flow_mw  west_limit_mw  \n",
       "0              3000          3944           5300          4385           5200  \n",
       "1              3000          3621           5300          4128           5200  \n",
       "2              3000          3818           5300          4152           5200  \n",
       "3              3000          3812           5300          4205           5200  \n",
       "4              3000          3734           5300          4211           5200  "
      ]
     },
     "execution_count": 34,
     "metadata": {},
     "output_type": "execute_result"
    }
   ],
   "source": [
    "interface_flows.head()"
   ]
  },
  {
   "cell_type": "code",
   "execution_count": 35,
   "metadata": {
    "ExecuteTime": {
     "end_time": "2019-12-13T18:37:30.343945Z",
     "start_time": "2019-12-13T18:37:23.728902Z"
    }
   },
   "outputs": [],
   "source": [
    "# converting select columns to datetime\n",
    "interface_flows['datetime_beginning_utc'] = pd.to_datetime(interface_flows['datetime_beginning_utc'])"
   ]
  },
  {
   "cell_type": "code",
   "execution_count": 36,
   "metadata": {
    "ExecuteTime": {
     "end_time": "2019-12-13T18:37:30.385904Z",
     "start_time": "2019-12-13T18:37:30.345810Z"
    }
   },
   "outputs": [],
   "source": [
    "# ensuring no duplicates again\n",
    "interface_flows.drop_duplicates(inplace=True)"
   ]
  },
  {
   "cell_type": "code",
   "execution_count": 37,
   "metadata": {
    "ExecuteTime": {
     "end_time": "2019-12-13T18:37:30.403901Z",
     "start_time": "2019-12-13T18:37:30.387811Z"
    }
   },
   "outputs": [],
   "source": [
    "# sorting data and setting index to utc time\n",
    "interface_flows.sort_values(by='datetime_beginning_utc', inplace=True)\n",
    "interface_flows.index = interface_flows['datetime_beginning_utc']\n",
    "interface_flows.drop(columns='datetime_beginning_utc', inplace=True)"
   ]
  },
  {
   "cell_type": "code",
   "execution_count": 38,
   "metadata": {
    "ExecuteTime": {
     "end_time": "2019-12-13T18:37:30.463811Z",
     "start_time": "2019-12-13T18:37:30.405811Z"
    }
   },
   "outputs": [
    {
     "data": {
      "text/html": [
       "<div>\n",
       "<style scoped>\n",
       "    .dataframe tbody tr th:only-of-type {\n",
       "        vertical-align: middle;\n",
       "    }\n",
       "\n",
       "    .dataframe tbody tr th {\n",
       "        vertical-align: top;\n",
       "    }\n",
       "\n",
       "    .dataframe thead th {\n",
       "        text-align: right;\n",
       "    }\n",
       "</style>\n",
       "<table border=\"1\" class=\"dataframe\">\n",
       "  <thead>\n",
       "    <tr style=\"text-align: right;\">\n",
       "      <th></th>\n",
       "      <th>apsouth_flow_mw</th>\n",
       "      <th>apsouth_limit_mw</th>\n",
       "      <th>bcpep_flow_mw</th>\n",
       "      <th>bcpep_limit_mw</th>\n",
       "      <th>bed_bla_flow_mw</th>\n",
       "      <th>bed_bla_limit_mw</th>\n",
       "      <th>central_flow_mw</th>\n",
       "      <th>central_limit_mw</th>\n",
       "      <th>east_flow_mw</th>\n",
       "      <th>east_limit_mw</th>\n",
       "      <th>west_flow_mw</th>\n",
       "      <th>west_limit_mw</th>\n",
       "    </tr>\n",
       "  </thead>\n",
       "  <tbody>\n",
       "    <tr>\n",
       "      <th>count</th>\n",
       "      <td>43128.000000</td>\n",
       "      <td>43128.000000</td>\n",
       "      <td>43128.000000</td>\n",
       "      <td>43128.000000</td>\n",
       "      <td>41760.000000</td>\n",
       "      <td>41760.000000</td>\n",
       "      <td>43128.000000</td>\n",
       "      <td>43128.000000</td>\n",
       "      <td>43128.000000</td>\n",
       "      <td>43128.000000</td>\n",
       "      <td>43128.000000</td>\n",
       "      <td>43128.000000</td>\n",
       "    </tr>\n",
       "    <tr>\n",
       "      <th>mean</th>\n",
       "      <td>2295.892413</td>\n",
       "      <td>3543.274346</td>\n",
       "      <td>3618.109094</td>\n",
       "      <td>5484.862201</td>\n",
       "      <td>954.976509</td>\n",
       "      <td>1840.806298</td>\n",
       "      <td>-616.100237</td>\n",
       "      <td>3167.992951</td>\n",
       "      <td>2898.959725</td>\n",
       "      <td>5991.569282</td>\n",
       "      <td>1522.926614</td>\n",
       "      <td>4756.079577</td>\n",
       "    </tr>\n",
       "    <tr>\n",
       "      <th>std</th>\n",
       "      <td>979.412525</td>\n",
       "      <td>748.365616</td>\n",
       "      <td>1139.612433</td>\n",
       "      <td>825.455692</td>\n",
       "      <td>371.802535</td>\n",
       "      <td>6054.665558</td>\n",
       "      <td>1392.003529</td>\n",
       "      <td>883.571095</td>\n",
       "      <td>1684.549295</td>\n",
       "      <td>1214.009497</td>\n",
       "      <td>1651.943750</td>\n",
       "      <td>899.913377</td>\n",
       "    </tr>\n",
       "    <tr>\n",
       "      <th>min</th>\n",
       "      <td>-382.000000</td>\n",
       "      <td>1100.000000</td>\n",
       "      <td>165.000000</td>\n",
       "      <td>2300.000000</td>\n",
       "      <td>-602.000000</td>\n",
       "      <td>0.000000</td>\n",
       "      <td>-3596.000000</td>\n",
       "      <td>200.000000</td>\n",
       "      <td>-1314.000000</td>\n",
       "      <td>1200.000000</td>\n",
       "      <td>-3056.000000</td>\n",
       "      <td>1600.000000</td>\n",
       "    </tr>\n",
       "    <tr>\n",
       "      <th>25%</th>\n",
       "      <td>1593.000000</td>\n",
       "      <td>3100.000000</td>\n",
       "      <td>2779.000000</td>\n",
       "      <td>4900.000000</td>\n",
       "      <td>687.000000</td>\n",
       "      <td>1300.000000</td>\n",
       "      <td>-1624.000000</td>\n",
       "      <td>2600.000000</td>\n",
       "      <td>1677.000000</td>\n",
       "      <td>5200.000000</td>\n",
       "      <td>313.000000</td>\n",
       "      <td>4100.000000</td>\n",
       "    </tr>\n",
       "    <tr>\n",
       "      <th>50%</th>\n",
       "      <td>2205.000000</td>\n",
       "      <td>3500.000000</td>\n",
       "      <td>3609.000000</td>\n",
       "      <td>5500.000000</td>\n",
       "      <td>921.000000</td>\n",
       "      <td>1400.000000</td>\n",
       "      <td>-883.000000</td>\n",
       "      <td>3200.000000</td>\n",
       "      <td>2704.000000</td>\n",
       "      <td>6000.000000</td>\n",
       "      <td>1298.000000</td>\n",
       "      <td>4800.000000</td>\n",
       "    </tr>\n",
       "    <tr>\n",
       "      <th>75%</th>\n",
       "      <td>2889.000000</td>\n",
       "      <td>3900.000000</td>\n",
       "      <td>4425.000000</td>\n",
       "      <td>6000.000000</td>\n",
       "      <td>1200.000000</td>\n",
       "      <td>1600.000000</td>\n",
       "      <td>110.000000</td>\n",
       "      <td>3800.000000</td>\n",
       "      <td>3940.000000</td>\n",
       "      <td>6800.000000</td>\n",
       "      <td>2573.000000</td>\n",
       "      <td>5400.000000</td>\n",
       "    </tr>\n",
       "    <tr>\n",
       "      <th>max</th>\n",
       "      <td>5909.000000</td>\n",
       "      <td>9999.000000</td>\n",
       "      <td>7200.000000</td>\n",
       "      <td>9999.000000</td>\n",
       "      <td>2195.000000</td>\n",
       "      <td>99999.000000</td>\n",
       "      <td>4843.000000</td>\n",
       "      <td>5500.000000</td>\n",
       "      <td>9837.000000</td>\n",
       "      <td>10200.000000</td>\n",
       "      <td>6500.000000</td>\n",
       "      <td>7100.000000</td>\n",
       "    </tr>\n",
       "  </tbody>\n",
       "</table>\n",
       "</div>"
      ],
      "text/plain": [
       "       apsouth_flow_mw  apsouth_limit_mw  bcpep_flow_mw  bcpep_limit_mw  \\\n",
       "count     43128.000000      43128.000000   43128.000000    43128.000000   \n",
       "mean       2295.892413       3543.274346    3618.109094     5484.862201   \n",
       "std         979.412525        748.365616    1139.612433      825.455692   \n",
       "min        -382.000000       1100.000000     165.000000     2300.000000   \n",
       "25%        1593.000000       3100.000000    2779.000000     4900.000000   \n",
       "50%        2205.000000       3500.000000    3609.000000     5500.000000   \n",
       "75%        2889.000000       3900.000000    4425.000000     6000.000000   \n",
       "max        5909.000000       9999.000000    7200.000000     9999.000000   \n",
       "\n",
       "       bed_bla_flow_mw  bed_bla_limit_mw  central_flow_mw  central_limit_mw  \\\n",
       "count     41760.000000      41760.000000     43128.000000      43128.000000   \n",
       "mean        954.976509       1840.806298      -616.100237       3167.992951   \n",
       "std         371.802535       6054.665558      1392.003529        883.571095   \n",
       "min        -602.000000          0.000000     -3596.000000        200.000000   \n",
       "25%         687.000000       1300.000000     -1624.000000       2600.000000   \n",
       "50%         921.000000       1400.000000      -883.000000       3200.000000   \n",
       "75%        1200.000000       1600.000000       110.000000       3800.000000   \n",
       "max        2195.000000      99999.000000      4843.000000       5500.000000   \n",
       "\n",
       "       east_flow_mw  east_limit_mw  west_flow_mw  west_limit_mw  \n",
       "count  43128.000000   43128.000000  43128.000000   43128.000000  \n",
       "mean    2898.959725    5991.569282   1522.926614    4756.079577  \n",
       "std     1684.549295    1214.009497   1651.943750     899.913377  \n",
       "min    -1314.000000    1200.000000  -3056.000000    1600.000000  \n",
       "25%     1677.000000    5200.000000    313.000000    4100.000000  \n",
       "50%     2704.000000    6000.000000   1298.000000    4800.000000  \n",
       "75%     3940.000000    6800.000000   2573.000000    5400.000000  \n",
       "max     9837.000000   10200.000000   6500.000000    7100.000000  "
      ]
     },
     "execution_count": 38,
     "metadata": {},
     "output_type": "execute_result"
    }
   ],
   "source": [
    "interface_flows.describe()"
   ]
  },
  {
   "cell_type": "code",
   "execution_count": 39,
   "metadata": {
    "ExecuteTime": {
     "end_time": "2019-12-13T18:37:30.520820Z",
     "start_time": "2019-12-13T18:37:30.465811Z"
    }
   },
   "outputs": [],
   "source": [
    "# removing erroneous values\n",
    "interface_flows['bcpep_limit_mw'] = interface_flows['bcpep_limit_mw'].apply(lambda x: np.nan if x >= 9999 else x)\n",
    "interface_flows['bed_bla_limit_mw'] = interface_flows['bed_bla_limit_mw'].apply(lambda x: np.nan if x >= 9999 else x)\n",
    "interface_flows['apsouth_limit_mw'] = interface_flows['apsouth_limit_mw'].apply(lambda x: np.nan if x >= 9999 else x)"
   ]
  },
  {
   "cell_type": "code",
   "execution_count": 40,
   "metadata": {
    "ExecuteTime": {
     "end_time": "2019-12-13T18:37:30.541809Z",
     "start_time": "2019-12-13T18:37:30.521808Z"
    }
   },
   "outputs": [],
   "source": [
    "# merging interface flows into common dataframe\n",
    "data_df = data_df.merge(interface_flows, how='left', left_index=True, right_index=True)"
   ]
  },
  {
   "cell_type": "code",
   "execution_count": 41,
   "metadata": {
    "ExecuteTime": {
     "end_time": "2019-12-13T18:37:30.584813Z",
     "start_time": "2019-12-13T18:37:30.542809Z"
    },
    "scrolled": true
   },
   "outputs": [
    {
     "name": "stdout",
     "output_type": "stream",
     "text": [
      "<class 'pandas.core.frame.DataFrame'>\n",
      "DatetimeIndex: 42840 entries, 2015-01-01 05:00:00 to 2019-11-21 04:00:00\n",
      "Data columns (total 29 columns):\n",
      "datetime_beginning_ept           42840 non-null datetime64[ns]\n",
      "pnode_id                         42840 non-null int64\n",
      "pnode_name                       42840 non-null object\n",
      "system_energy_price_rt           42840 non-null float64\n",
      "total_lmp_rt                     42840 non-null float64\n",
      "congestion_price_rt              42840 non-null float64\n",
      "marginal_loss_price_rt           42840 non-null float64\n",
      "system_energy_price_da           42840 non-null float64\n",
      "total_lmp_da                     42840 non-null float64\n",
      "congestion_price_da              42840 non-null float64\n",
      "marginal_loss_price_da           42840 non-null float64\n",
      "pepco_mw                         42840 non-null float64\n",
      "midatl_mw                        42840 non-null float64\n",
      "evaluated_at_utc                 42840 non-null datetime64[ns]\n",
      "evaluated_at_ept                 42840 non-null datetime64[ns]\n",
      "midatl_forecast_load_mw          42840 non-null int64\n",
      "midatl_forecast_load_mw_final    42840 non-null int64\n",
      "apsouth_flow_mw                  42816 non-null float64\n",
      "apsouth_limit_mw                 42752 non-null float64\n",
      "bcpep_flow_mw                    42816 non-null float64\n",
      "bcpep_limit_mw                   42753 non-null float64\n",
      "bed_bla_flow_mw                  41448 non-null float64\n",
      "bed_bla_limit_mw                 41019 non-null float64\n",
      "central_flow_mw                  42816 non-null float64\n",
      "central_limit_mw                 42816 non-null float64\n",
      "east_flow_mw                     42816 non-null float64\n",
      "east_limit_mw                    42816 non-null float64\n",
      "west_flow_mw                     42816 non-null float64\n",
      "west_limit_mw                    42816 non-null float64\n",
      "dtypes: datetime64[ns](3), float64(22), int64(3), object(1)\n",
      "memory usage: 11.1+ MB\n"
     ]
    }
   ],
   "source": [
    "data_df.info()\n",
    "# some missing interface values, which will eventually be filled via interpolation"
   ]
  },
  {
   "cell_type": "markdown",
   "metadata": {},
   "source": [
    "# Processing Forecasted Generator Outage Data "
   ]
  },
  {
   "cell_type": "code",
   "execution_count": 42,
   "metadata": {
    "ExecuteTime": {
     "end_time": "2019-12-13T18:37:30.682830Z",
     "start_time": "2019-12-13T18:37:30.586809Z"
    }
   },
   "outputs": [],
   "source": [
    "# importing and merging forecasted generation outage data\n",
    "# note this data is provided on a daily interval, \n",
    "# not hourly like most of the other data\n",
    "gen_outages_2015 = pd.read_csv('data/gen_outages_by_type_2015.csv')\n",
    "gen_outages_2016 = pd.read_csv('data/gen_outages_by_type_2016.csv')\n",
    "gen_outages_2017 = pd.read_csv('data/gen_outages_by_type_2017.csv')\n",
    "gen_outages_2018 = pd.read_csv('data/gen_outages_by_type_2018.csv')\n",
    "gen_outages_2019 = pd.read_csv('data/gen_outages_by_type_2019.csv')\n",
    "gen_outages = gen_outages_2015.append(gen_outages_2016)\n",
    "gen_outages = gen_outages.append(gen_outages_2017)\n",
    "gen_outages = gen_outages.append(gen_outages_2018)\n",
    "gen_outages = gen_outages.append(gen_outages_2019)"
   ]
  },
  {
   "cell_type": "code",
   "execution_count": 43,
   "metadata": {
    "ExecuteTime": {
     "end_time": "2019-12-13T18:37:30.701833Z",
     "start_time": "2019-12-13T18:37:30.686813Z"
    }
   },
   "outputs": [],
   "source": [
    "# only retaining data for the region that contains pepco\n",
    "gen_outages = gen_outages.loc[gen_outages['region']=='Mid Atlantic - Dominion']"
   ]
  },
  {
   "cell_type": "code",
   "execution_count": 44,
   "metadata": {
    "ExecuteTime": {
     "end_time": "2019-12-13T18:37:30.715815Z",
     "start_time": "2019-12-13T18:37:30.709812Z"
    }
   },
   "outputs": [],
   "source": [
    "# removing unnecessary columns and resetting index\n",
    "gen_outages.drop(columns=['region'], inplace=True)\n",
    "gen_outages.reset_index(drop=True, inplace=True)"
   ]
  },
  {
   "cell_type": "code",
   "execution_count": 45,
   "metadata": {
    "ExecuteTime": {
     "end_time": "2019-12-13T18:37:31.149907Z",
     "start_time": "2019-12-13T18:37:30.720813Z"
    }
   },
   "outputs": [],
   "source": [
    "# converting select columns to datetime\n",
    "gen_outages['forecast_execution_date_ept'] = pd.to_datetime(gen_outages['forecast_execution_date_ept'])\n",
    "gen_outages['forecast_date'] = pd.to_datetime(gen_outages['forecast_date'])"
   ]
  },
  {
   "cell_type": "code",
   "execution_count": 46,
   "metadata": {
    "ExecuteTime": {
     "end_time": "2019-12-13T18:37:31.163904Z",
     "start_time": "2019-12-13T18:37:31.151810Z"
    }
   },
   "outputs": [],
   "source": [
    "# ensuring no duplicates\n",
    "gen_outages.drop_duplicates(inplace=True)"
   ]
  },
  {
   "cell_type": "code",
   "execution_count": 47,
   "metadata": {
    "ExecuteTime": {
     "end_time": "2019-12-13T18:37:31.178815Z",
     "start_time": "2019-12-13T18:37:31.166813Z"
    }
   },
   "outputs": [],
   "source": [
    "# will only keep the previous day's forecast as this is what would be used in a deployed model\n",
    "gen_outages['day_delta'] = gen_outages['forecast_date'] - gen_outages['forecast_execution_date_ept']\n",
    "\n",
    "kept_delta = pd.Timedelta('1 days 00:00:00')\n",
    "\n",
    "gen_outages = gen_outages.loc[gen_outages['day_delta'] == kept_delta]\n",
    "\n",
    "gen_outages.drop(columns=['day_delta'], inplace=True)"
   ]
  },
  {
   "cell_type": "code",
   "execution_count": 48,
   "metadata": {
    "ExecuteTime": {
     "end_time": "2019-12-13T18:37:31.189812Z",
     "start_time": "2019-12-13T18:37:31.182813Z"
    }
   },
   "outputs": [],
   "source": [
    "# renaming select columns\n",
    "gen_outages.rename({'forecast_execution_date_ept': 'outage_frcst_execution_date',\n",
    "                    'forecast_date': 'outage_forecast_date'}, axis=1, inplace=True)"
   ]
  },
  {
   "cell_type": "code",
   "execution_count": 49,
   "metadata": {
    "ExecuteTime": {
     "end_time": "2019-12-13T18:37:31.202812Z",
     "start_time": "2019-12-13T18:37:31.193813Z"
    }
   },
   "outputs": [],
   "source": [
    "# sorting data and setting index to the date\n",
    "gen_outages.sort_values(by='outage_forecast_date', inplace=True)\n",
    "gen_outages.index = gen_outages['outage_forecast_date']\n",
    "gen_outages.drop(columns='outage_forecast_date', inplace=True)"
   ]
  },
  {
   "cell_type": "code",
   "execution_count": 50,
   "metadata": {
    "ExecuteTime": {
     "end_time": "2019-12-13T18:37:31.216813Z",
     "start_time": "2019-12-13T18:37:31.205813Z"
    }
   },
   "outputs": [],
   "source": [
    "# resampling to populate the daily value for each hour of a given day\n",
    "gen_outages = gen_outages.resample('H').pad()"
   ]
  },
  {
   "cell_type": "code",
   "execution_count": 51,
   "metadata": {
    "ExecuteTime": {
     "end_time": "2019-12-13T18:37:31.234813Z",
     "start_time": "2019-12-13T18:37:31.219812Z"
    }
   },
   "outputs": [
    {
     "data": {
      "text/html": [
       "<div>\n",
       "<style scoped>\n",
       "    .dataframe tbody tr th:only-of-type {\n",
       "        vertical-align: middle;\n",
       "    }\n",
       "\n",
       "    .dataframe tbody tr th {\n",
       "        vertical-align: top;\n",
       "    }\n",
       "\n",
       "    .dataframe thead th {\n",
       "        text-align: right;\n",
       "    }\n",
       "</style>\n",
       "<table border=\"1\" class=\"dataframe\">\n",
       "  <thead>\n",
       "    <tr style=\"text-align: right;\">\n",
       "      <th></th>\n",
       "      <th>outage_frcst_execution_date</th>\n",
       "      <th>total_outages_mw</th>\n",
       "      <th>planned_outages_mw</th>\n",
       "      <th>maintenance_outages_mw</th>\n",
       "      <th>forced_outages_mw</th>\n",
       "    </tr>\n",
       "    <tr>\n",
       "      <th>outage_forecast_date</th>\n",
       "      <th></th>\n",
       "      <th></th>\n",
       "      <th></th>\n",
       "      <th></th>\n",
       "      <th></th>\n",
       "    </tr>\n",
       "  </thead>\n",
       "  <tbody>\n",
       "    <tr>\n",
       "      <th>2015-05-27 00:00:00</th>\n",
       "      <td>2015-05-26</td>\n",
       "      <td>15001</td>\n",
       "      <td>9827</td>\n",
       "      <td>3336</td>\n",
       "      <td>1838</td>\n",
       "    </tr>\n",
       "    <tr>\n",
       "      <th>2015-05-27 01:00:00</th>\n",
       "      <td>2015-05-26</td>\n",
       "      <td>15001</td>\n",
       "      <td>9827</td>\n",
       "      <td>3336</td>\n",
       "      <td>1838</td>\n",
       "    </tr>\n",
       "  </tbody>\n",
       "</table>\n",
       "</div>"
      ],
      "text/plain": [
       "                     outage_frcst_execution_date  total_outages_mw  \\\n",
       "outage_forecast_date                                                 \n",
       "2015-05-27 00:00:00                   2015-05-26             15001   \n",
       "2015-05-27 01:00:00                   2015-05-26             15001   \n",
       "\n",
       "                      planned_outages_mw  maintenance_outages_mw  \\\n",
       "outage_forecast_date                                               \n",
       "2015-05-27 00:00:00                 9827                    3336   \n",
       "2015-05-27 01:00:00                 9827                    3336   \n",
       "\n",
       "                      forced_outages_mw  \n",
       "outage_forecast_date                     \n",
       "2015-05-27 00:00:00                1838  \n",
       "2015-05-27 01:00:00                1838  "
      ]
     },
     "execution_count": 51,
     "metadata": {},
     "output_type": "execute_result"
    }
   ],
   "source": [
    "gen_outages.head(2)"
   ]
  },
  {
   "cell_type": "code",
   "execution_count": 52,
   "metadata": {
    "ExecuteTime": {
     "end_time": "2019-12-13T18:37:31.257814Z",
     "start_time": "2019-12-13T18:37:31.237811Z"
    }
   },
   "outputs": [],
   "source": [
    "# merging outages into common dataframe\n",
    "data_df = data_df.merge(gen_outages, how='left', left_index=True, right_index=True)"
   ]
  },
  {
   "cell_type": "code",
   "execution_count": 53,
   "metadata": {
    "ExecuteTime": {
     "end_time": "2019-12-13T18:37:31.315812Z",
     "start_time": "2019-12-13T18:37:31.261813Z"
    },
    "scrolled": true
   },
   "outputs": [
    {
     "name": "stdout",
     "output_type": "stream",
     "text": [
      "<class 'pandas.core.frame.DataFrame'>\n",
      "DatetimeIndex: 42840 entries, 2015-01-01 05:00:00 to 2019-11-21 04:00:00\n",
      "Data columns (total 34 columns):\n",
      "datetime_beginning_ept           42840 non-null datetime64[ns]\n",
      "pnode_id                         42840 non-null int64\n",
      "pnode_name                       42840 non-null object\n",
      "system_energy_price_rt           42840 non-null float64\n",
      "total_lmp_rt                     42840 non-null float64\n",
      "congestion_price_rt              42840 non-null float64\n",
      "marginal_loss_price_rt           42840 non-null float64\n",
      "system_energy_price_da           42840 non-null float64\n",
      "total_lmp_da                     42840 non-null float64\n",
      "congestion_price_da              42840 non-null float64\n",
      "marginal_loss_price_da           42840 non-null float64\n",
      "pepco_mw                         42840 non-null float64\n",
      "midatl_mw                        42840 non-null float64\n",
      "evaluated_at_utc                 42840 non-null datetime64[ns]\n",
      "evaluated_at_ept                 42840 non-null datetime64[ns]\n",
      "midatl_forecast_load_mw          42840 non-null int64\n",
      "midatl_forecast_load_mw_final    42840 non-null int64\n",
      "apsouth_flow_mw                  42816 non-null float64\n",
      "apsouth_limit_mw                 42752 non-null float64\n",
      "bcpep_flow_mw                    42816 non-null float64\n",
      "bcpep_limit_mw                   42753 non-null float64\n",
      "bed_bla_flow_mw                  41448 non-null float64\n",
      "bed_bla_limit_mw                 41019 non-null float64\n",
      "central_flow_mw                  42816 non-null float64\n",
      "central_limit_mw                 42816 non-null float64\n",
      "east_flow_mw                     42816 non-null float64\n",
      "east_limit_mw                    42816 non-null float64\n",
      "west_flow_mw                     42816 non-null float64\n",
      "west_limit_mw                    42816 non-null float64\n",
      "outage_frcst_execution_date      39341 non-null datetime64[ns]\n",
      "total_outages_mw                 39341 non-null float64\n",
      "planned_outages_mw               39341 non-null float64\n",
      "maintenance_outages_mw           39341 non-null float64\n",
      "forced_outages_mw                39341 non-null float64\n",
      "dtypes: datetime64[ns](4), float64(26), int64(3), object(1)\n",
      "memory usage: 12.7+ MB\n"
     ]
    }
   ],
   "source": [
    "data_df.info()\n",
    "# outage data only extends back to mid 2015,\n",
    "# so those time periods will be excluded from the final data that is modeled"
   ]
  },
  {
   "cell_type": "markdown",
   "metadata": {},
   "source": [
    "# Processing Weather Data "
   ]
  },
  {
   "cell_type": "code",
   "execution_count": 54,
   "metadata": {
    "ExecuteTime": {
     "end_time": "2019-12-13T18:37:31.632812Z",
     "start_time": "2019-12-13T18:37:31.319811Z"
    }
   },
   "outputs": [],
   "source": [
    "# importing and merging weather data\n",
    "weather_2015_2016 = pd.read_csv('data/KDCA_weather_data_2015-2016.csv')\n",
    "weather_2017_2018 = pd.read_csv('data/KDCA_weather_data_2017-2018.csv')\n",
    "weather_2019 = pd.read_csv('data/KDCA_weather_data_2019-20191121.csv')\n",
    "weather = weather_2015_2016.append(weather_2017_2018)\n",
    "weather = weather.append(weather_2019)"
   ]
  },
  {
   "cell_type": "code",
   "execution_count": 55,
   "metadata": {
    "ExecuteTime": {
     "end_time": "2019-12-13T18:37:31.698813Z",
     "start_time": "2019-12-13T18:37:31.635812Z"
    }
   },
   "outputs": [],
   "source": [
    "# dropping unnecessary outages\n",
    "weather.drop(columns=['latitude', 'longitude',\n",
    "                      'timezone', 'type',\n",
    "                      'summary', 'icon'],\n",
    "             inplace=True)"
   ]
  },
  {
   "cell_type": "code",
   "execution_count": 56,
   "metadata": {
    "ExecuteTime": {
     "end_time": "2019-12-13T18:37:33.916374Z",
     "start_time": "2019-12-13T18:37:31.703841Z"
    }
   },
   "outputs": [],
   "source": [
    "# converting select columns to datetime\n",
    "weather['time'] = pd.to_datetime(weather['time'])"
   ]
  },
  {
   "cell_type": "code",
   "execution_count": 57,
   "metadata": {
    "ExecuteTime": {
     "end_time": "2019-12-13T18:37:33.961365Z",
     "start_time": "2019-12-13T18:37:33.917338Z"
    }
   },
   "outputs": [],
   "source": [
    "# ensuring no duplicates\n",
    "weather.drop_duplicates(inplace=True)"
   ]
  },
  {
   "cell_type": "code",
   "execution_count": 58,
   "metadata": {
    "ExecuteTime": {
     "end_time": "2019-12-13T18:37:33.978375Z",
     "start_time": "2019-12-13T18:37:33.962339Z"
    }
   },
   "outputs": [],
   "source": [
    "# sorting and setting index to time\n",
    "weather.sort_values(by='time', inplace=True)\n",
    "weather.index = weather['time']\n",
    "weather.drop(columns='time', inplace=True)"
   ]
  },
  {
   "cell_type": "code",
   "execution_count": 59,
   "metadata": {
    "ExecuteTime": {
     "end_time": "2019-12-13T18:37:33.995375Z",
     "start_time": "2019-12-13T18:37:33.980341Z"
    }
   },
   "outputs": [],
   "source": [
    "# the API request and data saving process filled missing precipitation types with 'none',\n",
    "# but some of those correspond to times with a non-zero precipitation intensity\n",
    "# inspection of the data showed they all appeared to represent times of rain,\n",
    "# so they are populated accordingly\n",
    "weather.loc[(weather['precipType'] == 'none') &\n",
    "            (weather['precipIntensity'] > 0), ['precipType']] = 'rain'"
   ]
  },
  {
   "cell_type": "code",
   "execution_count": 60,
   "metadata": {
    "ExecuteTime": {
     "end_time": "2019-12-13T18:37:34.015342Z",
     "start_time": "2019-12-13T18:37:33.997341Z"
    }
   },
   "outputs": [
    {
     "data": {
      "text/html": [
       "<div>\n",
       "<style scoped>\n",
       "    .dataframe tbody tr th:only-of-type {\n",
       "        vertical-align: middle;\n",
       "    }\n",
       "\n",
       "    .dataframe tbody tr th {\n",
       "        vertical-align: top;\n",
       "    }\n",
       "\n",
       "    .dataframe thead th {\n",
       "        text-align: right;\n",
       "    }\n",
       "</style>\n",
       "<table border=\"1\" class=\"dataframe\">\n",
       "  <thead>\n",
       "    <tr style=\"text-align: right;\">\n",
       "      <th></th>\n",
       "      <th>precipIntensity</th>\n",
       "      <th>precipProbability</th>\n",
       "      <th>precipType</th>\n",
       "      <th>temperature</th>\n",
       "      <th>apparentTemperature</th>\n",
       "      <th>dewPoint</th>\n",
       "      <th>humidity</th>\n",
       "      <th>pressure</th>\n",
       "      <th>windSpeed</th>\n",
       "      <th>windGust</th>\n",
       "      <th>windBearing</th>\n",
       "      <th>cloudCover</th>\n",
       "      <th>uvIndex</th>\n",
       "      <th>visibility</th>\n",
       "    </tr>\n",
       "    <tr>\n",
       "      <th>time</th>\n",
       "      <th></th>\n",
       "      <th></th>\n",
       "      <th></th>\n",
       "      <th></th>\n",
       "      <th></th>\n",
       "      <th></th>\n",
       "      <th></th>\n",
       "      <th></th>\n",
       "      <th></th>\n",
       "      <th></th>\n",
       "      <th></th>\n",
       "      <th></th>\n",
       "      <th></th>\n",
       "      <th></th>\n",
       "    </tr>\n",
       "  </thead>\n",
       "  <tbody>\n",
       "    <tr>\n",
       "      <th>2015-01-01 05:00:00</th>\n",
       "      <td>0.0</td>\n",
       "      <td>0.0</td>\n",
       "      <td>none</td>\n",
       "      <td>23.90</td>\n",
       "      <td>23.90</td>\n",
       "      <td>15.19</td>\n",
       "      <td>0.69</td>\n",
       "      <td>1024.4</td>\n",
       "      <td>0.03</td>\n",
       "      <td>0.29</td>\n",
       "      <td>262.0</td>\n",
       "      <td>0.00</td>\n",
       "      <td>0.0</td>\n",
       "      <td>7.884</td>\n",
       "    </tr>\n",
       "    <tr>\n",
       "      <th>2015-01-01 06:00:00</th>\n",
       "      <td>0.0</td>\n",
       "      <td>0.0</td>\n",
       "      <td>none</td>\n",
       "      <td>23.37</td>\n",
       "      <td>23.37</td>\n",
       "      <td>15.27</td>\n",
       "      <td>0.71</td>\n",
       "      <td>1024.4</td>\n",
       "      <td>0.05</td>\n",
       "      <td>0.72</td>\n",
       "      <td>270.0</td>\n",
       "      <td>0.08</td>\n",
       "      <td>0.0</td>\n",
       "      <td>8.251</td>\n",
       "    </tr>\n",
       "  </tbody>\n",
       "</table>\n",
       "</div>"
      ],
      "text/plain": [
       "                     precipIntensity  precipProbability precipType  \\\n",
       "time                                                                 \n",
       "2015-01-01 05:00:00              0.0                0.0       none   \n",
       "2015-01-01 06:00:00              0.0                0.0       none   \n",
       "\n",
       "                     temperature  apparentTemperature  dewPoint  humidity  \\\n",
       "time                                                                        \n",
       "2015-01-01 05:00:00        23.90                23.90     15.19      0.69   \n",
       "2015-01-01 06:00:00        23.37                23.37     15.27      0.71   \n",
       "\n",
       "                     pressure  windSpeed  windGust  windBearing  cloudCover  \\\n",
       "time                                                                          \n",
       "2015-01-01 05:00:00    1024.4       0.03      0.29        262.0        0.00   \n",
       "2015-01-01 06:00:00    1024.4       0.05      0.72        270.0        0.08   \n",
       "\n",
       "                     uvIndex  visibility  \n",
       "time                                      \n",
       "2015-01-01 05:00:00      0.0       7.884  \n",
       "2015-01-01 06:00:00      0.0       8.251  "
      ]
     },
     "execution_count": 60,
     "metadata": {},
     "output_type": "execute_result"
    }
   ],
   "source": [
    "weather.head(2)"
   ]
  },
  {
   "cell_type": "code",
   "execution_count": 61,
   "metadata": {
    "ExecuteTime": {
     "end_time": "2019-12-13T18:37:34.048374Z",
     "start_time": "2019-12-13T18:37:34.018345Z"
    }
   },
   "outputs": [],
   "source": [
    "# merging weather data into the common dataframe\n",
    "data_df = data_df.merge(weather, how='left', left_index=True, right_index=True)"
   ]
  },
  {
   "cell_type": "code",
   "execution_count": 62,
   "metadata": {
    "ExecuteTime": {
     "end_time": "2019-12-13T18:37:34.094344Z",
     "start_time": "2019-12-13T18:37:34.049339Z"
    }
   },
   "outputs": [
    {
     "name": "stdout",
     "output_type": "stream",
     "text": [
      "<class 'pandas.core.frame.DataFrame'>\n",
      "DatetimeIndex: 42840 entries, 2015-01-01 05:00:00 to 2019-11-21 04:00:00\n",
      "Data columns (total 48 columns):\n",
      "datetime_beginning_ept           42840 non-null datetime64[ns]\n",
      "pnode_id                         42840 non-null int64\n",
      "pnode_name                       42840 non-null object\n",
      "system_energy_price_rt           42840 non-null float64\n",
      "total_lmp_rt                     42840 non-null float64\n",
      "congestion_price_rt              42840 non-null float64\n",
      "marginal_loss_price_rt           42840 non-null float64\n",
      "system_energy_price_da           42840 non-null float64\n",
      "total_lmp_da                     42840 non-null float64\n",
      "congestion_price_da              42840 non-null float64\n",
      "marginal_loss_price_da           42840 non-null float64\n",
      "pepco_mw                         42840 non-null float64\n",
      "midatl_mw                        42840 non-null float64\n",
      "evaluated_at_utc                 42840 non-null datetime64[ns]\n",
      "evaluated_at_ept                 42840 non-null datetime64[ns]\n",
      "midatl_forecast_load_mw          42840 non-null int64\n",
      "midatl_forecast_load_mw_final    42840 non-null int64\n",
      "apsouth_flow_mw                  42816 non-null float64\n",
      "apsouth_limit_mw                 42752 non-null float64\n",
      "bcpep_flow_mw                    42816 non-null float64\n",
      "bcpep_limit_mw                   42753 non-null float64\n",
      "bed_bla_flow_mw                  41448 non-null float64\n",
      "bed_bla_limit_mw                 41019 non-null float64\n",
      "central_flow_mw                  42816 non-null float64\n",
      "central_limit_mw                 42816 non-null float64\n",
      "east_flow_mw                     42816 non-null float64\n",
      "east_limit_mw                    42816 non-null float64\n",
      "west_flow_mw                     42816 non-null float64\n",
      "west_limit_mw                    42816 non-null float64\n",
      "outage_frcst_execution_date      39341 non-null datetime64[ns]\n",
      "total_outages_mw                 39341 non-null float64\n",
      "planned_outages_mw               39341 non-null float64\n",
      "maintenance_outages_mw           39341 non-null float64\n",
      "forced_outages_mw                39341 non-null float64\n",
      "precipIntensity                  42748 non-null float64\n",
      "precipProbability                42748 non-null float64\n",
      "precipType                       42809 non-null object\n",
      "temperature                      42808 non-null float64\n",
      "apparentTemperature              42808 non-null float64\n",
      "dewPoint                         42789 non-null float64\n",
      "humidity                         42788 non-null float64\n",
      "pressure                         42805 non-null float64\n",
      "windSpeed                        42802 non-null float64\n",
      "windGust                         42753 non-null float64\n",
      "windBearing                      40315 non-null float64\n",
      "cloudCover                       42743 non-null float64\n",
      "uvIndex                          42770 non-null float64\n",
      "visibility                       42765 non-null float64\n",
      "dtypes: datetime64[ns](4), float64(39), int64(3), object(2)\n",
      "memory usage: 17.3+ MB\n"
     ]
    }
   ],
   "source": [
    "data_df.info()"
   ]
  },
  {
   "cell_type": "code",
   "execution_count": 63,
   "metadata": {
    "ExecuteTime": {
     "end_time": "2019-12-13T18:37:37.305043Z",
     "start_time": "2019-12-13T18:37:34.097341Z"
    }
   },
   "outputs": [],
   "source": [
    "# some missing values, \n",
    "# close inspection of data showed there are never more than a handful of consecutive missing values,\n",
    "# so interpolation is used to populate those values in the weather and interface flow data\n",
    "data_df.interpolate(method='time', axis=0, inplace=True)"
   ]
  },
  {
   "cell_type": "code",
   "execution_count": 64,
   "metadata": {
    "ExecuteTime": {
     "end_time": "2019-12-13T18:37:37.319029Z",
     "start_time": "2019-12-13T18:37:37.306024Z"
    }
   },
   "outputs": [],
   "source": [
    "# categorical can't be interpolated, if no measured precipitiation then 'none' populated\n",
    "data_df.loc[(data_df['precipType'].isna()) &\n",
    "            (data_df['precipIntensity'] == 0), ['precipType']] = 'none'"
   ]
  },
  {
   "cell_type": "code",
   "execution_count": 65,
   "metadata": {
    "ExecuteTime": {
     "end_time": "2019-12-13T18:37:37.338547Z",
     "start_time": "2019-12-13T18:37:37.321554Z"
    }
   },
   "outputs": [],
   "source": [
    "# inspected nearby values to confirm the missing types when precipitation was measured\n",
    "# appear to be for rain\n",
    "data_df.loc[(data_df['precipType'].isna()) &\n",
    "            (data_df['precipIntensity'] > 0), ['precipType']] = 'rain'"
   ]
  },
  {
   "cell_type": "markdown",
   "metadata": {},
   "source": [
    "# Processing Sunlight Data "
   ]
  },
  {
   "cell_type": "code",
   "execution_count": 66,
   "metadata": {
    "ExecuteTime": {
     "end_time": "2019-12-13T18:37:37.353548Z",
     "start_time": "2019-12-13T18:37:37.340551Z"
    }
   },
   "outputs": [],
   "source": [
    "# importing sunrise and sunset data\n",
    "sun_time_data = pd.read_csv('data/sunset_sunrise_2015-2020.csv')"
   ]
  },
  {
   "cell_type": "code",
   "execution_count": 67,
   "metadata": {
    "ExecuteTime": {
     "end_time": "2019-12-13T18:37:37.361551Z",
     "start_time": "2019-12-13T18:37:37.355548Z"
    }
   },
   "outputs": [],
   "source": [
    "# dropping unnecessary columns\n",
    "sun_time_data.drop(columns=['solar_noon_lst', 'sunlight_duration_mins'], inplace=True)"
   ]
  },
  {
   "cell_type": "code",
   "execution_count": 68,
   "metadata": {
    "ExecuteTime": {
     "end_time": "2019-12-13T18:37:37.378572Z",
     "start_time": "2019-12-13T18:37:37.365553Z"
    }
   },
   "outputs": [],
   "source": [
    "# generating strings with both the date and sunrise/set times\n",
    "sun_time_data['sunrise_datetime_lst'] = sun_time_data['date']+' '+sun_time_data['sunrise_time_lst']\n",
    "sun_time_data['sunset_datetime_lst'] = sun_time_data['date']+' '+sun_time_data['sunset_time_lst']"
   ]
  },
  {
   "cell_type": "code",
   "execution_count": 69,
   "metadata": {
    "ExecuteTime": {
     "end_time": "2019-12-13T18:37:37.974548Z",
     "start_time": "2019-12-13T18:37:37.380548Z"
    }
   },
   "outputs": [],
   "source": [
    "# converting the dates and sunrise/set times to datetimes\n",
    "sun_time_data['date'] = pd.to_datetime(sun_time_data['date'])\n",
    "sun_time_data['sunrise_datetime_lst'] = pd.to_datetime(sun_time_data['sunrise_datetime_lst'])\n",
    "sun_time_data['sunset_datetime_lst'] = pd.to_datetime(sun_time_data['sunset_datetime_lst'])\n",
    "\n",
    "# converting times to utc to allow for merging and handling of daylight savings\n",
    "sun_time_data['utc_offset'] = pd.Timedelta('0 days 05:00:00')\n",
    "sun_time_data['sunrise_datetime_utc'] = sun_time_data['sunrise_datetime_lst'] + sun_time_data['utc_offset']\n",
    "sun_time_data['sunset_datetime_utc'] = sun_time_data['sunset_datetime_lst'] + sun_time_data['utc_offset']"
   ]
  },
  {
   "cell_type": "code",
   "execution_count": 70,
   "metadata": {
    "ExecuteTime": {
     "end_time": "2019-12-13T18:37:37.986087Z",
     "start_time": "2019-12-13T18:37:37.976548Z"
    }
   },
   "outputs": [],
   "source": [
    "# only retaining important columns and setting the index to the date\n",
    "sun_time_data = sun_time_data[['date', 'sunrise_datetime_utc', 'sunset_datetime_utc']]\n",
    "\n",
    "sun_time_data.index = sun_time_data['date']\n",
    "sun_time_data.drop(columns=['date'], inplace=True)"
   ]
  },
  {
   "cell_type": "code",
   "execution_count": 71,
   "metadata": {
    "ExecuteTime": {
     "end_time": "2019-12-13T18:37:37.998078Z",
     "start_time": "2019-12-13T18:37:37.989079Z"
    }
   },
   "outputs": [],
   "source": [
    "# resample to have a row for each hour based on the day's values\n",
    "sun_time_data = sun_time_data.resample('H').pad()"
   ]
  },
  {
   "cell_type": "code",
   "execution_count": 72,
   "metadata": {
    "ExecuteTime": {
     "end_time": "2019-12-13T18:37:38.020082Z",
     "start_time": "2019-12-13T18:37:38.000078Z"
    }
   },
   "outputs": [],
   "source": [
    "# merging sun time data into the common dataframe\n",
    "data_df = data_df.merge(sun_time_data, how='left', left_index=True, right_index=True)"
   ]
  },
  {
   "cell_type": "code",
   "execution_count": 73,
   "metadata": {
    "ExecuteTime": {
     "end_time": "2019-12-13T18:37:38.027080Z",
     "start_time": "2019-12-13T18:37:38.022077Z"
    }
   },
   "outputs": [],
   "source": [
    "# creating timedelta constants for 1 and zero hours\n",
    "ONE_HOUR = pd.Timedelta('0 days 01:00:00')\n",
    "ZERO_HOUR = pd.Timedelta('0 days 00:00:00')"
   ]
  },
  {
   "cell_type": "code",
   "execution_count": 74,
   "metadata": {
    "ExecuteTime": {
     "end_time": "2019-12-13T18:37:38.037079Z",
     "start_time": "2019-12-13T18:37:38.030082Z"
    }
   },
   "outputs": [
    {
     "data": {
      "text/plain": [
       "42840"
      ]
     },
     "execution_count": 74,
     "metadata": {},
     "output_type": "execute_result"
    }
   ],
   "source": [
    "len(data_df.index)"
   ]
  },
  {
   "cell_type": "code",
   "execution_count": 75,
   "metadata": {
    "ExecuteTime": {
     "end_time": "2019-12-13T18:37:38.181077Z",
     "start_time": "2019-12-13T18:37:38.040078Z"
    }
   },
   "outputs": [
    {
     "data": {
      "text/plain": [
       "42840"
      ]
     },
     "execution_count": 75,
     "metadata": {},
     "output_type": "execute_result"
    }
   ],
   "source": [
    "data_df.drop_duplicates(inplace=True)\n",
    "len(data_df.index)"
   ]
  },
  {
   "cell_type": "code",
   "execution_count": 76,
   "metadata": {
    "ExecuteTime": {
     "end_time": "2019-12-13T18:37:40.612315Z",
     "start_time": "2019-12-13T18:37:38.184081Z"
    }
   },
   "outputs": [],
   "source": [
    "# generating a column ('sunniness') that will contain the number of seconds of sunlight in a given hour\n",
    "# first step is to create detlas between each hour and the day's sunset and sunrise time \n",
    "# sunrise requires calculating delta from end of hour to rise time to represent period with light\n",
    "data_df['sunrise_delta'] = data_df.index + pd.Timedelta('0 days 01:00:00') - data_df['sunrise_datetime_utc']\n",
    "# sunset requires hour start to be subtracted from set time to represent period with light\n",
    "data_df['sunset_delta'] = data_df['sunset_datetime_utc'] - data_df.index\n",
    "\n",
    "# if the sunrise delta is negative then populate it with 0\n",
    "# (i.e. before sunrise so no sunlight)\n",
    "# else populate it with the lesser of the delta and 1\n",
    "# (i.e. 1 for all hours after sunrise except the one in which sunrise occurs)\n",
    "data_df['sunrise_sunniness'] = data_df['sunrise_delta'].apply(lambda x:\n",
    "                                                              ZERO_HOUR if x < ZERO_HOUR\n",
    "                                                              else min(x, ONE_HOUR))\n",
    "# if the sunset delta is negative then populate it with 0\n",
    "# (i.e. after sunset so no sunlight)\n",
    "# else populate it with the lesser of the delta and 1\n",
    "# (i.e. 1 for all hours before sunset except the one in which sunset occurs)\n",
    "data_df['sunset_sunniness'] = data_df['sunset_delta'].apply(lambda x:\n",
    "                                                            ZERO_HOUR if x < ZERO_HOUR\n",
    "                                                            else min(x, ONE_HOUR))\n",
    "\n",
    "# now the information in the sunrise and sunset sunniness columns are combined with the minimum value retained\n",
    "# if either has a 0 for a given hour then it is entirely before sunrise or after sunset,\n",
    "# and the zero is retained by the minimum function.\n",
    "# if one is 1 and the other is a fraction or 1 then that lower value is retained\n",
    "# (i.e. sunrise/set hour and full daylight hours)\n",
    "data_df['sunniness'] = pd.DataFrame([data_df['sunrise_sunniness'], data_df['sunset_sunniness']]).min()\n",
    "data_df['sunniness'] = data_df['sunniness'].dt.total_seconds()"
   ]
  },
  {
   "cell_type": "code",
   "execution_count": 77,
   "metadata": {
    "ExecuteTime": {
     "end_time": "2019-12-13T18:37:40.655328Z",
     "start_time": "2019-12-13T18:37:40.614229Z"
    }
   },
   "outputs": [],
   "source": [
    "# dropping unnecessary intermediate calculation columns\n",
    "data_df.drop(columns=['sunrise_delta', 'sunset_delta', 'sunrise_sunniness',\n",
    "                      'sunset_sunniness'], inplace=True)"
   ]
  },
  {
   "cell_type": "markdown",
   "metadata": {},
   "source": [
    "# Exporting Final Data to CSV"
   ]
  },
  {
   "cell_type": "code",
   "execution_count": 78,
   "metadata": {
    "ExecuteTime": {
     "end_time": "2019-12-13T18:37:40.702623Z",
     "start_time": "2019-12-13T18:37:40.657233Z"
    }
   },
   "outputs": [],
   "source": [
    "# dropping hours with missing outage data from early 2015\n",
    "data_df.dropna(axis=0, how='any', inplace=True)"
   ]
  },
  {
   "cell_type": "code",
   "execution_count": 79,
   "metadata": {
    "ExecuteTime": {
     "end_time": "2019-12-13T18:37:40.734695Z",
     "start_time": "2019-12-13T18:37:40.702623Z"
    }
   },
   "outputs": [
    {
     "name": "stdout",
     "output_type": "stream",
     "text": [
      "<class 'pandas.core.frame.DataFrame'>\n",
      "DatetimeIndex: 39341 entries, 2015-05-27 00:00:00 to 2019-11-21 04:00:00\n",
      "Data columns (total 51 columns):\n",
      "datetime_beginning_ept           39341 non-null datetime64[ns]\n",
      "pnode_id                         39341 non-null int64\n",
      "pnode_name                       39341 non-null object\n",
      "system_energy_price_rt           39341 non-null float64\n",
      "total_lmp_rt                     39341 non-null float64\n",
      "congestion_price_rt              39341 non-null float64\n",
      "marginal_loss_price_rt           39341 non-null float64\n",
      "system_energy_price_da           39341 non-null float64\n",
      "total_lmp_da                     39341 non-null float64\n",
      "congestion_price_da              39341 non-null float64\n",
      "marginal_loss_price_da           39341 non-null float64\n",
      "pepco_mw                         39341 non-null float64\n",
      "midatl_mw                        39341 non-null float64\n",
      "evaluated_at_utc                 39341 non-null datetime64[ns]\n",
      "evaluated_at_ept                 39341 non-null datetime64[ns]\n",
      "midatl_forecast_load_mw          39341 non-null int64\n",
      "midatl_forecast_load_mw_final    39341 non-null int64\n",
      "apsouth_flow_mw                  39341 non-null float64\n",
      "apsouth_limit_mw                 39341 non-null float64\n",
      "bcpep_flow_mw                    39341 non-null float64\n",
      "bcpep_limit_mw                   39341 non-null float64\n",
      "bed_bla_flow_mw                  39341 non-null float64\n",
      "bed_bla_limit_mw                 39341 non-null float64\n",
      "central_flow_mw                  39341 non-null float64\n",
      "central_limit_mw                 39341 non-null float64\n",
      "east_flow_mw                     39341 non-null float64\n",
      "east_limit_mw                    39341 non-null float64\n",
      "west_flow_mw                     39341 non-null float64\n",
      "west_limit_mw                    39341 non-null float64\n",
      "outage_frcst_execution_date      39341 non-null datetime64[ns]\n",
      "total_outages_mw                 39341 non-null float64\n",
      "planned_outages_mw               39341 non-null float64\n",
      "maintenance_outages_mw           39341 non-null float64\n",
      "forced_outages_mw                39341 non-null float64\n",
      "precipIntensity                  39341 non-null float64\n",
      "precipProbability                39341 non-null float64\n",
      "precipType                       39341 non-null object\n",
      "temperature                      39341 non-null float64\n",
      "apparentTemperature              39341 non-null float64\n",
      "dewPoint                         39341 non-null float64\n",
      "humidity                         39341 non-null float64\n",
      "pressure                         39341 non-null float64\n",
      "windSpeed                        39341 non-null float64\n",
      "windGust                         39341 non-null float64\n",
      "windBearing                      39341 non-null float64\n",
      "cloudCover                       39341 non-null float64\n",
      "uvIndex                          39341 non-null float64\n",
      "visibility                       39341 non-null float64\n",
      "sunrise_datetime_utc             39341 non-null datetime64[ns]\n",
      "sunset_datetime_utc              39341 non-null datetime64[ns]\n",
      "sunniness                        39341 non-null float64\n",
      "dtypes: datetime64[ns](6), float64(40), int64(3), object(2)\n",
      "memory usage: 15.6+ MB\n"
     ]
    }
   ],
   "source": [
    "data_df.info()"
   ]
  },
  {
   "cell_type": "code",
   "execution_count": 80,
   "metadata": {
    "ExecuteTime": {
     "end_time": "2019-12-13T18:37:40.757523Z",
     "start_time": "2019-12-13T18:37:40.735695Z"
    }
   },
   "outputs": [],
   "source": [
    "# dropping descriptive data that won't be considered for modeling\n",
    "# will retain this data in a separate dataframe and csv just in case, \n",
    "# but further work will only be performed on data_clean\n",
    "data_clean = data_df.drop(columns=['pnode_id', 'pnode_name',\n",
    "                                   'evaluated_at_utc', 'evaluated_at_ept',\n",
    "                                   'sunrise_datetime_utc', 'sunset_datetime_utc',\n",
    "                                   'outage_frcst_execution_date', 'windBearing'])"
   ]
  },
  {
   "cell_type": "code",
   "execution_count": 81,
   "metadata": {
    "ExecuteTime": {
     "end_time": "2019-12-13T18:37:40.807453Z",
     "start_time": "2019-12-13T18:37:40.757523Z"
    }
   },
   "outputs": [],
   "source": [
    "# since part of 2015 data was incomplete the full year will be excluded for modeling purposes.\n",
    "# the last 8 days of 2015 are retained for potential use as lag variables.\n",
    "data_df = data_df.loc[data_df['datetime_beginning_ept'] >= pd.Timestamp(2015, 12, 24)].copy()\n",
    "data_clean = data_clean.loc[data_clean['datetime_beginning_ept'] >= pd.Timestamp(2015, 12, 24)].copy()"
   ]
  },
  {
   "cell_type": "code",
   "execution_count": 82,
   "metadata": {
    "ExecuteTime": {
     "end_time": "2019-12-13T18:37:40.862486Z",
     "start_time": "2019-12-13T18:37:40.807453Z"
    }
   },
   "outputs": [
    {
     "data": {
      "text/html": [
       "<div>\n",
       "<style scoped>\n",
       "    .dataframe tbody tr th:only-of-type {\n",
       "        vertical-align: middle;\n",
       "    }\n",
       "\n",
       "    .dataframe tbody tr th {\n",
       "        vertical-align: top;\n",
       "    }\n",
       "\n",
       "    .dataframe thead th {\n",
       "        text-align: right;\n",
       "    }\n",
       "</style>\n",
       "<table border=\"1\" class=\"dataframe\">\n",
       "  <thead>\n",
       "    <tr style=\"text-align: right;\">\n",
       "      <th></th>\n",
       "      <th>datetime_beginning_ept</th>\n",
       "      <th>pnode_id</th>\n",
       "      <th>pnode_name</th>\n",
       "      <th>system_energy_price_rt</th>\n",
       "      <th>total_lmp_rt</th>\n",
       "      <th>congestion_price_rt</th>\n",
       "      <th>marginal_loss_price_rt</th>\n",
       "      <th>system_energy_price_da</th>\n",
       "      <th>total_lmp_da</th>\n",
       "      <th>congestion_price_da</th>\n",
       "      <th>marginal_loss_price_da</th>\n",
       "      <th>pepco_mw</th>\n",
       "      <th>midatl_mw</th>\n",
       "      <th>evaluated_at_utc</th>\n",
       "      <th>evaluated_at_ept</th>\n",
       "      <th>midatl_forecast_load_mw</th>\n",
       "      <th>midatl_forecast_load_mw_final</th>\n",
       "      <th>apsouth_flow_mw</th>\n",
       "      <th>apsouth_limit_mw</th>\n",
       "      <th>bcpep_flow_mw</th>\n",
       "      <th>bcpep_limit_mw</th>\n",
       "      <th>bed_bla_flow_mw</th>\n",
       "      <th>bed_bla_limit_mw</th>\n",
       "      <th>central_flow_mw</th>\n",
       "      <th>central_limit_mw</th>\n",
       "      <th>east_flow_mw</th>\n",
       "      <th>east_limit_mw</th>\n",
       "      <th>west_flow_mw</th>\n",
       "      <th>west_limit_mw</th>\n",
       "      <th>outage_frcst_execution_date</th>\n",
       "      <th>total_outages_mw</th>\n",
       "      <th>planned_outages_mw</th>\n",
       "      <th>maintenance_outages_mw</th>\n",
       "      <th>forced_outages_mw</th>\n",
       "      <th>precipIntensity</th>\n",
       "      <th>precipProbability</th>\n",
       "      <th>precipType</th>\n",
       "      <th>temperature</th>\n",
       "      <th>apparentTemperature</th>\n",
       "      <th>dewPoint</th>\n",
       "      <th>humidity</th>\n",
       "      <th>pressure</th>\n",
       "      <th>windSpeed</th>\n",
       "      <th>windGust</th>\n",
       "      <th>windBearing</th>\n",
       "      <th>cloudCover</th>\n",
       "      <th>uvIndex</th>\n",
       "      <th>visibility</th>\n",
       "      <th>sunrise_datetime_utc</th>\n",
       "      <th>sunset_datetime_utc</th>\n",
       "      <th>sunniness</th>\n",
       "    </tr>\n",
       "    <tr>\n",
       "      <th>datetime_beginning_utc</th>\n",
       "      <th></th>\n",
       "      <th></th>\n",
       "      <th></th>\n",
       "      <th></th>\n",
       "      <th></th>\n",
       "      <th></th>\n",
       "      <th></th>\n",
       "      <th></th>\n",
       "      <th></th>\n",
       "      <th></th>\n",
       "      <th></th>\n",
       "      <th></th>\n",
       "      <th></th>\n",
       "      <th></th>\n",
       "      <th></th>\n",
       "      <th></th>\n",
       "      <th></th>\n",
       "      <th></th>\n",
       "      <th></th>\n",
       "      <th></th>\n",
       "      <th></th>\n",
       "      <th></th>\n",
       "      <th></th>\n",
       "      <th></th>\n",
       "      <th></th>\n",
       "      <th></th>\n",
       "      <th></th>\n",
       "      <th></th>\n",
       "      <th></th>\n",
       "      <th></th>\n",
       "      <th></th>\n",
       "      <th></th>\n",
       "      <th></th>\n",
       "      <th></th>\n",
       "      <th></th>\n",
       "      <th></th>\n",
       "      <th></th>\n",
       "      <th></th>\n",
       "      <th></th>\n",
       "      <th></th>\n",
       "      <th></th>\n",
       "      <th></th>\n",
       "      <th></th>\n",
       "      <th></th>\n",
       "      <th></th>\n",
       "      <th></th>\n",
       "      <th></th>\n",
       "      <th></th>\n",
       "      <th></th>\n",
       "      <th></th>\n",
       "      <th></th>\n",
       "    </tr>\n",
       "  </thead>\n",
       "  <tbody>\n",
       "    <tr>\n",
       "      <th>2015-12-24 05:00:00</th>\n",
       "      <td>2015-12-24 00:00:00</td>\n",
       "      <td>51298</td>\n",
       "      <td>PEPCO</td>\n",
       "      <td>11.53</td>\n",
       "      <td>13.691565</td>\n",
       "      <td>1.967474</td>\n",
       "      <td>0.194091</td>\n",
       "      <td>14.11</td>\n",
       "      <td>16.192954</td>\n",
       "      <td>2.015654</td>\n",
       "      <td>0.067300</td>\n",
       "      <td>2193.423</td>\n",
       "      <td>23323.247</td>\n",
       "      <td>2015-12-23 10:45:00</td>\n",
       "      <td>2015-12-23 05:45:00</td>\n",
       "      <td>26248</td>\n",
       "      <td>23622</td>\n",
       "      <td>1273.0</td>\n",
       "      <td>2700.0</td>\n",
       "      <td>2880.0</td>\n",
       "      <td>5300.0</td>\n",
       "      <td>557.0</td>\n",
       "      <td>1300.0</td>\n",
       "      <td>-2828.0</td>\n",
       "      <td>2500.0</td>\n",
       "      <td>434.0</td>\n",
       "      <td>4500.0</td>\n",
       "      <td>-734.0</td>\n",
       "      <td>4200.0</td>\n",
       "      <td>2015-12-23</td>\n",
       "      <td>8519.0</td>\n",
       "      <td>1525.0</td>\n",
       "      <td>5415.0</td>\n",
       "      <td>1579.0</td>\n",
       "      <td>0.0</td>\n",
       "      <td>0.0</td>\n",
       "      <td>none</td>\n",
       "      <td>65.73</td>\n",
       "      <td>66.39</td>\n",
       "      <td>63.71</td>\n",
       "      <td>0.93</td>\n",
       "      <td>1011.3</td>\n",
       "      <td>3.32</td>\n",
       "      <td>9.52</td>\n",
       "      <td>205.0</td>\n",
       "      <td>0.96</td>\n",
       "      <td>0.0</td>\n",
       "      <td>8.365</td>\n",
       "      <td>2015-12-24 12:24:20</td>\n",
       "      <td>2015-12-24 21:50:59</td>\n",
       "      <td>0.0</td>\n",
       "    </tr>\n",
       "    <tr>\n",
       "      <th>2015-12-24 06:00:00</th>\n",
       "      <td>2015-12-24 01:00:00</td>\n",
       "      <td>51298</td>\n",
       "      <td>PEPCO</td>\n",
       "      <td>2.11</td>\n",
       "      <td>2.480393</td>\n",
       "      <td>0.329983</td>\n",
       "      <td>0.040411</td>\n",
       "      <td>10.63</td>\n",
       "      <td>12.922192</td>\n",
       "      <td>2.231668</td>\n",
       "      <td>0.060524</td>\n",
       "      <td>2101.570</td>\n",
       "      <td>22048.989</td>\n",
       "      <td>2015-12-23 10:45:00</td>\n",
       "      <td>2015-12-23 05:45:00</td>\n",
       "      <td>25061</td>\n",
       "      <td>22405</td>\n",
       "      <td>1489.0</td>\n",
       "      <td>2700.0</td>\n",
       "      <td>2820.0</td>\n",
       "      <td>5300.0</td>\n",
       "      <td>606.0</td>\n",
       "      <td>1300.0</td>\n",
       "      <td>-2848.0</td>\n",
       "      <td>2500.0</td>\n",
       "      <td>442.0</td>\n",
       "      <td>4500.0</td>\n",
       "      <td>-747.0</td>\n",
       "      <td>4200.0</td>\n",
       "      <td>2015-12-23</td>\n",
       "      <td>8519.0</td>\n",
       "      <td>1525.0</td>\n",
       "      <td>5415.0</td>\n",
       "      <td>1579.0</td>\n",
       "      <td>0.0</td>\n",
       "      <td>0.0</td>\n",
       "      <td>none</td>\n",
       "      <td>66.02</td>\n",
       "      <td>66.62</td>\n",
       "      <td>63.47</td>\n",
       "      <td>0.91</td>\n",
       "      <td>1010.6</td>\n",
       "      <td>4.12</td>\n",
       "      <td>10.70</td>\n",
       "      <td>206.0</td>\n",
       "      <td>0.80</td>\n",
       "      <td>0.0</td>\n",
       "      <td>8.571</td>\n",
       "      <td>2015-12-24 12:24:20</td>\n",
       "      <td>2015-12-24 21:50:59</td>\n",
       "      <td>0.0</td>\n",
       "    </tr>\n",
       "  </tbody>\n",
       "</table>\n",
       "</div>"
      ],
      "text/plain": [
       "                       datetime_beginning_ept  pnode_id pnode_name  \\\n",
       "datetime_beginning_utc                                               \n",
       "2015-12-24 05:00:00       2015-12-24 00:00:00     51298      PEPCO   \n",
       "2015-12-24 06:00:00       2015-12-24 01:00:00     51298      PEPCO   \n",
       "\n",
       "                        system_energy_price_rt  total_lmp_rt  \\\n",
       "datetime_beginning_utc                                         \n",
       "2015-12-24 05:00:00                      11.53     13.691565   \n",
       "2015-12-24 06:00:00                       2.11      2.480393   \n",
       "\n",
       "                        congestion_price_rt  marginal_loss_price_rt  \\\n",
       "datetime_beginning_utc                                                \n",
       "2015-12-24 05:00:00                1.967474                0.194091   \n",
       "2015-12-24 06:00:00                0.329983                0.040411   \n",
       "\n",
       "                        system_energy_price_da  total_lmp_da  \\\n",
       "datetime_beginning_utc                                         \n",
       "2015-12-24 05:00:00                      14.11     16.192954   \n",
       "2015-12-24 06:00:00                      10.63     12.922192   \n",
       "\n",
       "                        congestion_price_da  marginal_loss_price_da  pepco_mw  \\\n",
       "datetime_beginning_utc                                                          \n",
       "2015-12-24 05:00:00                2.015654                0.067300  2193.423   \n",
       "2015-12-24 06:00:00                2.231668                0.060524  2101.570   \n",
       "\n",
       "                        midatl_mw    evaluated_at_utc    evaluated_at_ept  \\\n",
       "datetime_beginning_utc                                                      \n",
       "2015-12-24 05:00:00     23323.247 2015-12-23 10:45:00 2015-12-23 05:45:00   \n",
       "2015-12-24 06:00:00     22048.989 2015-12-23 10:45:00 2015-12-23 05:45:00   \n",
       "\n",
       "                        midatl_forecast_load_mw  \\\n",
       "datetime_beginning_utc                            \n",
       "2015-12-24 05:00:00                       26248   \n",
       "2015-12-24 06:00:00                       25061   \n",
       "\n",
       "                        midatl_forecast_load_mw_final  apsouth_flow_mw  \\\n",
       "datetime_beginning_utc                                                   \n",
       "2015-12-24 05:00:00                             23622           1273.0   \n",
       "2015-12-24 06:00:00                             22405           1489.0   \n",
       "\n",
       "                        apsouth_limit_mw  bcpep_flow_mw  bcpep_limit_mw  \\\n",
       "datetime_beginning_utc                                                    \n",
       "2015-12-24 05:00:00               2700.0         2880.0          5300.0   \n",
       "2015-12-24 06:00:00               2700.0         2820.0          5300.0   \n",
       "\n",
       "                        bed_bla_flow_mw  bed_bla_limit_mw  central_flow_mw  \\\n",
       "datetime_beginning_utc                                                       \n",
       "2015-12-24 05:00:00               557.0            1300.0          -2828.0   \n",
       "2015-12-24 06:00:00               606.0            1300.0          -2848.0   \n",
       "\n",
       "                        central_limit_mw  east_flow_mw  east_limit_mw  \\\n",
       "datetime_beginning_utc                                                  \n",
       "2015-12-24 05:00:00               2500.0         434.0         4500.0   \n",
       "2015-12-24 06:00:00               2500.0         442.0         4500.0   \n",
       "\n",
       "                        west_flow_mw  west_limit_mw  \\\n",
       "datetime_beginning_utc                                \n",
       "2015-12-24 05:00:00           -734.0         4200.0   \n",
       "2015-12-24 06:00:00           -747.0         4200.0   \n",
       "\n",
       "                       outage_frcst_execution_date  total_outages_mw  \\\n",
       "datetime_beginning_utc                                                 \n",
       "2015-12-24 05:00:00                     2015-12-23            8519.0   \n",
       "2015-12-24 06:00:00                     2015-12-23            8519.0   \n",
       "\n",
       "                        planned_outages_mw  maintenance_outages_mw  \\\n",
       "datetime_beginning_utc                                               \n",
       "2015-12-24 05:00:00                 1525.0                  5415.0   \n",
       "2015-12-24 06:00:00                 1525.0                  5415.0   \n",
       "\n",
       "                        forced_outages_mw  precipIntensity  precipProbability  \\\n",
       "datetime_beginning_utc                                                          \n",
       "2015-12-24 05:00:00                1579.0              0.0                0.0   \n",
       "2015-12-24 06:00:00                1579.0              0.0                0.0   \n",
       "\n",
       "                       precipType  temperature  apparentTemperature  dewPoint  \\\n",
       "datetime_beginning_utc                                                          \n",
       "2015-12-24 05:00:00          none        65.73                66.39     63.71   \n",
       "2015-12-24 06:00:00          none        66.02                66.62     63.47   \n",
       "\n",
       "                        humidity  pressure  windSpeed  windGust  windBearing  \\\n",
       "datetime_beginning_utc                                                         \n",
       "2015-12-24 05:00:00         0.93    1011.3       3.32      9.52        205.0   \n",
       "2015-12-24 06:00:00         0.91    1010.6       4.12     10.70        206.0   \n",
       "\n",
       "                        cloudCover  uvIndex  visibility sunrise_datetime_utc  \\\n",
       "datetime_beginning_utc                                                         \n",
       "2015-12-24 05:00:00           0.96      0.0       8.365  2015-12-24 12:24:20   \n",
       "2015-12-24 06:00:00           0.80      0.0       8.571  2015-12-24 12:24:20   \n",
       "\n",
       "                       sunset_datetime_utc  sunniness  \n",
       "datetime_beginning_utc                                 \n",
       "2015-12-24 05:00:00    2015-12-24 21:50:59        0.0  \n",
       "2015-12-24 06:00:00    2015-12-24 21:50:59        0.0  "
      ]
     },
     "execution_count": 82,
     "metadata": {},
     "output_type": "execute_result"
    }
   ],
   "source": [
    "data_df.head(2)"
   ]
  },
  {
   "cell_type": "code",
   "execution_count": 127,
   "metadata": {
    "ExecuteTime": {
     "end_time": "2019-12-11T17:50:01.029016Z",
     "start_time": "2019-12-11T17:49:59.235017Z"
    }
   },
   "outputs": [],
   "source": [
    "data_df.to_csv('data/processed/data.csv')"
   ]
  },
  {
   "cell_type": "code",
   "execution_count": 128,
   "metadata": {
    "ExecuteTime": {
     "end_time": "2019-12-11T17:50:02.694017Z",
     "start_time": "2019-12-11T17:50:01.031016Z"
    }
   },
   "outputs": [],
   "source": [
    "data_clean.to_csv('data/processed/data_clean.csv')"
   ]
  }
 ],
 "metadata": {
  "kernelspec": {
   "display_name": "Python 3",
   "language": "python",
   "name": "python3"
  },
  "language_info": {
   "codemirror_mode": {
    "name": "ipython",
    "version": 3
   },
   "file_extension": ".py",
   "mimetype": "text/x-python",
   "name": "python",
   "nbconvert_exporter": "python",
   "pygments_lexer": "ipython3",
   "version": "3.6.9"
  },
  "toc": {
   "base_numbering": 1,
   "nav_menu": {},
   "number_sections": true,
   "sideBar": true,
   "skip_h1_title": false,
   "title_cell": "Table of Contents",
   "title_sidebar": "Contents",
   "toc_cell": false,
   "toc_position": {},
   "toc_section_display": true,
   "toc_window_display": false
  }
 },
 "nbformat": 4,
 "nbformat_minor": 2
}
