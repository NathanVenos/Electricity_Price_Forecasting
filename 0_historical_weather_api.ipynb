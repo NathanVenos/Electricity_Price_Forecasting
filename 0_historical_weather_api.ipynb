{
 "cells": [
  {
   "cell_type": "code",
   "execution_count": 1,
   "metadata": {
    "ExecuteTime": {
     "end_time": "2019-12-13T15:57:59.438663Z",
     "start_time": "2019-12-13T15:57:56.133623Z"
    }
   },
   "outputs": [],
   "source": [
    "import json\n",
    "import pandas as pd\n",
    "\n",
    "%load_ext autoreload\n",
    "import helper_functions as hlp"
   ]
  },
  {
   "cell_type": "markdown",
   "metadata": {},
   "source": [
    "Historical weather data is gathered from DarkSky API for the period of 1/1/2015 - 11/20/2019. The service has a cap of 1,000 free calls per day, and an individual call returns a single day of data (i.e 24 separate hours), so the process of gathering the data was broken into 3 parts and executed over 3 days to avoid charges. While it could have been performed in 2 parts, the decision to include 2015 and 2016 data was made after the initial data gathering, and separating by year made for clearer data organization.  \n",
    "  \n",
    "In reality you'd have to rely on weather forecasts and not actual values, but the free data services do not retain historical forecasts, so I will be cheating a little bit by using historical actuals. Though the short time horizon of my forecasts (1 and 2 hours) will mitigate the data leakage as the weather forecasts are quite accurate on those time horizons.  \n",
    "  \n",
    "To allow for more genuine model testing, I began gathering forecasts from this API every hour starting 11/19/2019. I utilize AWS' Lambda and S3 services to automate this process.   "
   ]
  },
  {
   "cell_type": "code",
   "execution_count": 2,
   "metadata": {
    "ExecuteTime": {
     "end_time": "2019-12-13T15:57:59.448416Z",
     "start_time": "2019-12-13T15:57:59.438663Z"
    }
   },
   "outputs": [],
   "source": [
    "# generating values needed to create lists of times to make api calls\n",
    "# the API returns each hours' data based on the date of the unix time that is passed\n",
    "# the exact time during the day does not matter, so I chose noon arbitrarily\n",
    "DAY_LENGTH = 86400\n",
    "\n",
    "START_2015_2016 = 1420113600\n",
    "START_2017_2018 = 1483272000\n",
    "START_2019 = 1546344000\n",
    "\n",
    "DAYS_2015_2016 = 730\n",
    "DAYS_2017_2018 = 729\n",
    "DAYS_2019 = 324"
   ]
  },
  {
   "cell_type": "code",
   "execution_count": 3,
   "metadata": {
    "ExecuteTime": {
     "end_time": "2019-12-13T15:57:59.464066Z",
     "start_time": "2019-12-13T15:57:59.455938Z"
    }
   },
   "outputs": [],
   "source": [
    "# generating the list of times for which api calls will be made\n",
    "api_times_2015_2016 = hlp.generate_api_call_times(START_2015_2016, DAY_LENGTH, DAYS_2015_2016)\n",
    "api_times_2017_2018 = hlp.generate_api_call_times(START_2017_2018, DAY_LENGTH, DAYS_2017_2018)\n",
    "api_times_2019 = hlp.generate_api_call_times(START_2019, DAY_LENGTH, DAYS_2019)"
   ]
  },
  {
   "cell_type": "code",
   "execution_count": 4,
   "metadata": {
    "ExecuteTime": {
     "end_time": "2019-12-13T15:57:59.479062Z",
     "start_time": "2019-12-13T15:57:59.473065Z"
    }
   },
   "outputs": [],
   "source": [
    "# retrieving API key from hidden location\n",
    "with open(\"/Users/natha/.secret/dark_sky_api.json\") as api_key_file:\n",
    "    api_key = str(json.load(api_key_file)['api_key'])"
   ]
  },
  {
   "cell_type": "code",
   "execution_count": 5,
   "metadata": {
    "ExecuteTime": {
     "end_time": "2019-12-13T15:57:59.485061Z",
     "start_time": "2019-12-13T15:57:59.482080Z"
    }
   },
   "outputs": [],
   "source": [
    "# establishing relevant strings for use in the API call\n",
    "url_base = 'https://api.darksky.net/forecast/'\n",
    "location = '38.8483,-77.0342'"
   ]
  },
  {
   "cell_type": "markdown",
   "metadata": {},
   "source": [
    "The actual API requests and saving of the data below has been commented out to prevent accidental running of the code and using up some of a given day's limited allowable calls."
   ]
  },
  {
   "cell_type": "code",
   "execution_count": 11,
   "metadata": {
    "ExecuteTime": {
     "end_time": "2019-12-13T15:57:59.562375Z",
     "start_time": "2019-12-13T15:57:59.546750Z"
    }
   },
   "outputs": [],
   "source": [
    "# df1 = hlp.historical_dataframe_from_api_calls(api_times_2015_2016, url_base, api_key, location)"
   ]
  },
  {
   "cell_type": "code",
   "execution_count": 12,
   "metadata": {
    "ExecuteTime": {
     "end_time": "2019-12-13T15:57:59.578167Z",
     "start_time": "2019-12-13T15:57:59.562375Z"
    }
   },
   "outputs": [],
   "source": [
    "# df1.to_csv('data/KDCA_weather_data_2015-2016.csv')"
   ]
  },
  {
   "cell_type": "code",
   "execution_count": 13,
   "metadata": {
    "ExecuteTime": {
     "end_time": "2019-12-13T15:59:35.191012Z",
     "start_time": "2019-12-13T15:57:59.580165Z"
    }
   },
   "outputs": [],
   "source": [
    "# df2 = hlp.historical_dataframe_from_api_calls(api_times_2017_2018, url_base, api_key, location)"
   ]
  },
  {
   "cell_type": "code",
   "execution_count": 14,
   "metadata": {
    "ExecuteTime": {
     "end_time": "2019-12-13T15:59:35.506046Z",
     "start_time": "2019-12-13T15:59:35.194012Z"
    }
   },
   "outputs": [],
   "source": [
    "# df2.to_csv('data/KDCA_weather_data_2017-2018.csv')"
   ]
  },
  {
   "cell_type": "code",
   "execution_count": 15,
   "metadata": {
    "ExecuteTime": {
     "end_time": "2019-12-13T15:59:35.512012Z",
     "start_time": "2019-12-13T15:59:35.508011Z"
    }
   },
   "outputs": [],
   "source": [
    "# df3 = hlp.historical_dataframe_from_api_calls(api_times_2019, url_base, api_key, location)"
   ]
  },
  {
   "cell_type": "code",
   "execution_count": 16,
   "metadata": {
    "ExecuteTime": {
     "end_time": "2019-12-13T15:59:35.523013Z",
     "start_time": "2019-12-13T15:59:35.517013Z"
    }
   },
   "outputs": [],
   "source": [
    "# df3.to_csv('data/KDCA_weather_data_2019-20191121.csv')"
   ]
  }
 ],
 "metadata": {
  "kernelspec": {
   "display_name": "Python 3",
   "language": "python",
   "name": "python3"
  },
  "language_info": {
   "codemirror_mode": {
    "name": "ipython",
    "version": 3
   },
   "file_extension": ".py",
   "mimetype": "text/x-python",
   "name": "python",
   "nbconvert_exporter": "python",
   "pygments_lexer": "ipython3",
   "version": "3.6.9"
  },
  "toc": {
   "base_numbering": 1,
   "nav_menu": {},
   "number_sections": true,
   "sideBar": true,
   "skip_h1_title": false,
   "title_cell": "Table of Contents",
   "title_sidebar": "Contents",
   "toc_cell": false,
   "toc_position": {},
   "toc_section_display": true,
   "toc_window_display": false
  }
 },
 "nbformat": 4,
 "nbformat_minor": 2
}
